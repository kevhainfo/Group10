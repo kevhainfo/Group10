{
 "cells": [
  {
   "cell_type": "code",
   "execution_count": 20,
   "id": "0fefda21-31aa-480f-8709-7fe8d99ddf54",
   "metadata": {
    "tags": []
   },
   "outputs": [
    {
     "name": "stderr",
     "output_type": "stream",
     "text": [
      "[nltk_data] Downloading package wordnet to /Users/kevinha/nltk_data...\n",
      "[nltk_data]   Package wordnet is already up-to-date!\n"
     ]
    }
   ],
   "source": [
    "\n",
    "import pandas as pd\n",
    "import numpy as np\n",
    "import re\n",
    "import collections\n",
    "import contractions\n",
    "import seaborn as sns\n",
    "import matplotlib.pyplot as plt\n",
    "plt.style.use('dark_background')\n",
    "import nltk\n",
    "nltk.download('wordnet')\n",
    "from nltk.stem import WordNetLemmatizer\n",
    "from nltk.corpus import stopwords\n",
    "import warnings\n",
    "warnings.simplefilter(action='ignore', category=Warning)\n",
    "import keras\n",
    "from keras.layers import Dense, Embedding, LSTM, Dropout\n",
    "from keras.models import Sequential\n",
    "from keras.preprocessing.text import Tokenizer\n",
    "from keras.preprocessing.sequence import pad_sequences"
   ]
  },
  {
   "cell_type": "code",
   "execution_count": 21,
   "id": "b760182c-50be-40e5-a9d7-0f5e0ffd9900",
   "metadata": {
    "tags": []
   },
   "outputs": [],
   "source": [
    "df2=pd.read_csv('balanced_dataset_training.csv', encoding='latin')\n",
    "df_test=pd.read_csv('balanced_dataset_testing.csv', encoding='latin')"
   ]
  },
  {
   "cell_type": "code",
   "execution_count": 22,
   "id": "cbc08e2d-8def-46eb-bf5a-366b333a8a27",
   "metadata": {
    "tags": []
   },
   "outputs": [
    {
     "data": {
      "text/html": [
       "<div>\n",
       "<style scoped>\n",
       "    .dataframe tbody tr th:only-of-type {\n",
       "        vertical-align: middle;\n",
       "    }\n",
       "\n",
       "    .dataframe tbody tr th {\n",
       "        vertical-align: top;\n",
       "    }\n",
       "\n",
       "    .dataframe thead th {\n",
       "        text-align: right;\n",
       "    }\n",
       "</style>\n",
       "<table border=\"1\" class=\"dataframe\">\n",
       "  <thead>\n",
       "    <tr style=\"text-align: right;\">\n",
       "      <th></th>\n",
       "      <th>Unnamed: 0</th>\n",
       "      <th>title</th>\n",
       "      <th>location</th>\n",
       "      <th>department</th>\n",
       "      <th>salary_range</th>\n",
       "      <th>company_profile</th>\n",
       "      <th>description</th>\n",
       "      <th>requirements</th>\n",
       "      <th>benefits</th>\n",
       "      <th>telecommuting</th>\n",
       "      <th>has_company_logo</th>\n",
       "      <th>has_questions</th>\n",
       "      <th>employment_type</th>\n",
       "      <th>required_experience</th>\n",
       "      <th>required_education</th>\n",
       "      <th>industry</th>\n",
       "      <th>function</th>\n",
       "      <th>fraudulent</th>\n",
       "      <th>in_balanced_dataset</th>\n",
       "    </tr>\n",
       "  </thead>\n",
       "  <tbody>\n",
       "    <tr>\n",
       "      <th>0</th>\n",
       "      <td>421</td>\n",
       "      <td>Mobile Engineer</td>\n",
       "      <td>US, ND, Bismarck</td>\n",
       "      <td>NaN</td>\n",
       "      <td>NaN</td>\n",
       "      <td>&lt;p&gt;We're changing how the world creates and pu...</td>\n",
       "      <td>&lt;p&gt;We are looking for a mobile application eng...</td>\n",
       "      <td>&lt;h3&gt;The Musts:&lt;/h3&gt;\\r\\n&lt;ul&gt;\\r\\n&lt;li&gt;You think b...</td>\n",
       "      <td>&lt;h3&gt;The Perks (full-time only):&lt;/h3&gt;\\r\\n&lt;ul&gt;\\r...</td>\n",
       "      <td>f</td>\n",
       "      <td>t</td>\n",
       "      <td>t</td>\n",
       "      <td>Full-time</td>\n",
       "      <td>Entry level</td>\n",
       "      <td>Unspecified</td>\n",
       "      <td>Program Development</td>\n",
       "      <td>Other</td>\n",
       "      <td>f</td>\n",
       "      <td>t</td>\n",
       "    </tr>\n",
       "    <tr>\n",
       "      <th>1</th>\n",
       "      <td>545</td>\n",
       "      <td>BI Consultant &amp; Database Expert</td>\n",
       "      <td>BE, ,</td>\n",
       "      <td>tech</td>\n",
       "      <td>NaN</td>\n",
       "      <td>&lt;p&gt;hello world&lt;/p&gt;\\r\\n&lt;p&gt;talents23_ drives the...</td>\n",
       "      <td>&lt;p&gt;This fast growing company specialized in da...</td>\n",
       "      <td>&lt;ul&gt;\\r\\n&lt;li&gt;You know SQL and have professional...</td>\n",
       "      <td>&lt;ul&gt;\\r\\n&lt;li&gt;WeÃÂ¢ÃÂÃÂre theÃÂÃÂ key An...</td>\n",
       "      <td>f</td>\n",
       "      <td>t</td>\n",
       "      <td>t</td>\n",
       "      <td>Full-time</td>\n",
       "      <td>Associate</td>\n",
       "      <td>NaN</td>\n",
       "      <td>NaN</td>\n",
       "      <td>NaN</td>\n",
       "      <td>f</td>\n",
       "      <td>t</td>\n",
       "    </tr>\n",
       "    <tr>\n",
       "      <th>2</th>\n",
       "      <td>806</td>\n",
       "      <td>Customer Service Representative</td>\n",
       "      <td>US, TX, SAN ANTONIO</td>\n",
       "      <td>NaN</td>\n",
       "      <td>NaN</td>\n",
       "      <td>NaN</td>\n",
       "      <td>&lt;p&gt;SUMMARYResponsible for acting as a liaison ...</td>\n",
       "      <td>&lt;p&gt;Experience: Proficiency with Microsoft Word...</td>\n",
       "      <td>&lt;p&gt;You would be eligible to Benefits after 2mo...</td>\n",
       "      <td>f</td>\n",
       "      <td>f</td>\n",
       "      <td>f</td>\n",
       "      <td>Full-time</td>\n",
       "      <td>Not Applicable</td>\n",
       "      <td>High School or equivalent</td>\n",
       "      <td>Consumer Services</td>\n",
       "      <td>Customer Service</td>\n",
       "      <td>t</td>\n",
       "      <td>t</td>\n",
       "    </tr>\n",
       "    <tr>\n",
       "      <th>3</th>\n",
       "      <td>803</td>\n",
       "      <td>Administrative Assistant</td>\n",
       "      <td>US, CA, Santa Ana</td>\n",
       "      <td>NaN</td>\n",
       "      <td>NaN</td>\n",
       "      <td>NaN</td>\n",
       "      <td>&lt;p&gt;ÃÂÃÂ In addition to clerical and adminis...</td>\n",
       "      <td>NaN</td>\n",
       "      <td>&lt;p&gt;No requirements&lt;/p&gt;</td>\n",
       "      <td>f</td>\n",
       "      <td>f</td>\n",
       "      <td>f</td>\n",
       "      <td>Full-time</td>\n",
       "      <td>NaN</td>\n",
       "      <td>NaN</td>\n",
       "      <td>Accounting</td>\n",
       "      <td>Administrative</td>\n",
       "      <td>t</td>\n",
       "      <td>t</td>\n",
       "    </tr>\n",
       "    <tr>\n",
       "      <th>4</th>\n",
       "      <td>147</td>\n",
       "      <td>Key Account Manager Switzerland</td>\n",
       "      <td>CH, BS, Basel</td>\n",
       "      <td>Sales</td>\n",
       "      <td>NaN</td>\n",
       "      <td>NaN</td>\n",
       "      <td>&lt;p&gt;Are you looking for a career that will chal...</td>\n",
       "      <td>NaN</td>\n",
       "      <td>NaN</td>\n",
       "      <td>f</td>\n",
       "      <td>t</td>\n",
       "      <td>t</td>\n",
       "      <td>Full-time</td>\n",
       "      <td>Associate</td>\n",
       "      <td>Bachelor's Degree</td>\n",
       "      <td>Education Management</td>\n",
       "      <td>Sales</td>\n",
       "      <td>f</td>\n",
       "      <td>t</td>\n",
       "    </tr>\n",
       "  </tbody>\n",
       "</table>\n",
       "</div>"
      ],
      "text/plain": [
       "   Unnamed: 0                            title             location  \\\n",
       "0         421                  Mobile Engineer     US, ND, Bismarck   \n",
       "1         545  BI Consultant & Database Expert               BE, ,    \n",
       "2         806  Customer Service Representative  US, TX, SAN ANTONIO   \n",
       "3         803         Administrative Assistant    US, CA, Santa Ana   \n",
       "4         147  Key Account Manager Switzerland        CH, BS, Basel   \n",
       "\n",
       "  department salary_range                                    company_profile  \\\n",
       "0        NaN          NaN  <p>We're changing how the world creates and pu...   \n",
       "1       tech          NaN  <p>hello world</p>\\r\\n<p>talents23_ drives the...   \n",
       "2        NaN          NaN                                                NaN   \n",
       "3        NaN          NaN                                                NaN   \n",
       "4      Sales          NaN                                                NaN   \n",
       "\n",
       "                                         description  \\\n",
       "0  <p>We are looking for a mobile application eng...   \n",
       "1  <p>This fast growing company specialized in da...   \n",
       "2  <p>SUMMARYResponsible for acting as a liaison ...   \n",
       "3  <p>ÃÂÃÂ In addition to clerical and adminis...   \n",
       "4  <p>Are you looking for a career that will chal...   \n",
       "\n",
       "                                        requirements  \\\n",
       "0  <h3>The Musts:</h3>\\r\\n<ul>\\r\\n<li>You think b...   \n",
       "1  <ul>\\r\\n<li>You know SQL and have professional...   \n",
       "2  <p>Experience: Proficiency with Microsoft Word...   \n",
       "3                                                NaN   \n",
       "4                                                NaN   \n",
       "\n",
       "                                            benefits telecommuting  \\\n",
       "0  <h3>The Perks (full-time only):</h3>\\r\\n<ul>\\r...             f   \n",
       "1  <ul>\\r\\n<li>WeÃÂ¢ÃÂÃÂre theÃÂÃÂ key An...             f   \n",
       "2  <p>You would be eligible to Benefits after 2mo...             f   \n",
       "3                             <p>No requirements</p>             f   \n",
       "4                                                NaN             f   \n",
       "\n",
       "  has_company_logo has_questions employment_type required_experience  \\\n",
       "0                t             t       Full-time         Entry level   \n",
       "1                t             t       Full-time           Associate   \n",
       "2                f             f       Full-time      Not Applicable   \n",
       "3                f             f       Full-time                 NaN   \n",
       "4                t             t       Full-time           Associate   \n",
       "\n",
       "          required_education              industry          function  \\\n",
       "0                Unspecified   Program Development             Other   \n",
       "1                        NaN                   NaN               NaN   \n",
       "2  High School or equivalent     Consumer Services  Customer Service   \n",
       "3                        NaN            Accounting    Administrative   \n",
       "4          Bachelor's Degree  Education Management             Sales   \n",
       "\n",
       "  fraudulent in_balanced_dataset  \n",
       "0          f                   t  \n",
       "1          f                   t  \n",
       "2          t                   t  \n",
       "3          t                   t  \n",
       "4          f                   t  "
      ]
     },
     "execution_count": 22,
     "metadata": {},
     "output_type": "execute_result"
    }
   ],
   "source": [
    "df2.head()"
   ]
  },
  {
   "cell_type": "code",
   "execution_count": 23,
   "id": "5734163a-eb00-4ab7-bc45-ec68bee03e25",
   "metadata": {
    "tags": []
   },
   "outputs": [
    {
     "data": {
      "text/plain": [
       "Unnamed: 0               0\n",
       "title                    0\n",
       "location                 9\n",
       "department             310\n",
       "salary_range           363\n",
       "company_profile        249\n",
       "description              0\n",
       "requirements            88\n",
       "benefits               179\n",
       "telecommuting            0\n",
       "has_company_logo         0\n",
       "has_questions            0\n",
       "employment_type        132\n",
       "required_experience    189\n",
       "required_education     230\n",
       "industry               162\n",
       "function               177\n",
       "fraudulent               0\n",
       "in_balanced_dataset      0\n",
       "dtype: int64"
      ]
     },
     "execution_count": 23,
     "metadata": {},
     "output_type": "execute_result"
    }
   ],
   "source": [
    "df2.isna().sum()"
   ]
  },
  {
   "cell_type": "code",
   "execution_count": 24,
   "id": "ea017e40-005f-47d5-99c4-ad3978789b13",
   "metadata": {
    "tags": []
   },
   "outputs": [
    {
     "data": {
      "text/html": [
       "<div>\n",
       "<style scoped>\n",
       "    .dataframe tbody tr th:only-of-type {\n",
       "        vertical-align: middle;\n",
       "    }\n",
       "\n",
       "    .dataframe tbody tr th {\n",
       "        vertical-align: top;\n",
       "    }\n",
       "\n",
       "    .dataframe thead th {\n",
       "        text-align: right;\n",
       "    }\n",
       "</style>\n",
       "<table border=\"1\" class=\"dataframe\">\n",
       "  <thead>\n",
       "    <tr style=\"text-align: right;\">\n",
       "      <th></th>\n",
       "      <th>Unnamed: 0</th>\n",
       "      <th>title</th>\n",
       "      <th>location</th>\n",
       "      <th>department</th>\n",
       "      <th>salary_range</th>\n",
       "      <th>company_profile</th>\n",
       "      <th>description</th>\n",
       "      <th>requirements</th>\n",
       "      <th>benefits</th>\n",
       "      <th>telecommuting</th>\n",
       "      <th>has_company_logo</th>\n",
       "      <th>has_questions</th>\n",
       "      <th>employment_type</th>\n",
       "      <th>required_experience</th>\n",
       "      <th>required_education</th>\n",
       "      <th>industry</th>\n",
       "      <th>function</th>\n",
       "      <th>fraudulent</th>\n",
       "      <th>in_balanced_dataset</th>\n",
       "    </tr>\n",
       "  </thead>\n",
       "  <tbody>\n",
       "    <tr>\n",
       "      <th>0</th>\n",
       "      <td>421</td>\n",
       "      <td>Mobile Engineer</td>\n",
       "      <td>US, ND, Bismarck</td>\n",
       "      <td></td>\n",
       "      <td></td>\n",
       "      <td>&lt;p&gt;We're changing how the world creates and pu...</td>\n",
       "      <td>&lt;p&gt;We're changing how the world creates and pu...</td>\n",
       "      <td>&lt;h3&gt;The Musts:&lt;/h3&gt;\\r\\n&lt;ul&gt;\\r\\n&lt;li&gt;You think b...</td>\n",
       "      <td>&lt;h3&gt;The Perks (full-time only):&lt;/h3&gt;\\r\\n&lt;ul&gt;\\r...</td>\n",
       "      <td>f</td>\n",
       "      <td>t</td>\n",
       "      <td>t</td>\n",
       "      <td>Full-time</td>\n",
       "      <td>Entry level</td>\n",
       "      <td>Unspecified</td>\n",
       "      <td>Program Development</td>\n",
       "      <td>Other</td>\n",
       "      <td>f</td>\n",
       "      <td>t</td>\n",
       "    </tr>\n",
       "    <tr>\n",
       "      <th>1</th>\n",
       "      <td>545</td>\n",
       "      <td>BI Consultant &amp; Database Expert</td>\n",
       "      <td>BE, ,</td>\n",
       "      <td>tech</td>\n",
       "      <td></td>\n",
       "      <td>&lt;p&gt;hello world&lt;/p&gt;\\r\\n&lt;p&gt;talents23_ drives the...</td>\n",
       "      <td>&lt;p&gt;hello world&lt;/p&gt;\\r\\n&lt;p&gt;talents23_ drives the...</td>\n",
       "      <td>&lt;ul&gt;\\r\\n&lt;li&gt;You know SQL and have professional...</td>\n",
       "      <td>&lt;ul&gt;\\r\\n&lt;li&gt;WeÃÂ¢ÃÂÃÂre theÃÂÃÂ key An...</td>\n",
       "      <td>f</td>\n",
       "      <td>t</td>\n",
       "      <td>t</td>\n",
       "      <td>Full-time</td>\n",
       "      <td>Associate</td>\n",
       "      <td></td>\n",
       "      <td></td>\n",
       "      <td></td>\n",
       "      <td>f</td>\n",
       "      <td>t</td>\n",
       "    </tr>\n",
       "    <tr>\n",
       "      <th>2</th>\n",
       "      <td>806</td>\n",
       "      <td>Customer Service Representative</td>\n",
       "      <td>US, TX, SAN ANTONIO</td>\n",
       "      <td></td>\n",
       "      <td></td>\n",
       "      <td></td>\n",
       "      <td>&lt;p&gt;SUMMARYResponsible for acting as a liaison ...</td>\n",
       "      <td>&lt;p&gt;Experience: Proficiency with Microsoft Word...</td>\n",
       "      <td>&lt;p&gt;You would be eligible to Benefits after 2mo...</td>\n",
       "      <td>f</td>\n",
       "      <td>f</td>\n",
       "      <td>f</td>\n",
       "      <td>Full-time</td>\n",
       "      <td>Not Applicable</td>\n",
       "      <td>High School or equivalent</td>\n",
       "      <td>Consumer Services</td>\n",
       "      <td>Customer Service</td>\n",
       "      <td>t</td>\n",
       "      <td>t</td>\n",
       "    </tr>\n",
       "    <tr>\n",
       "      <th>3</th>\n",
       "      <td>803</td>\n",
       "      <td>Administrative Assistant</td>\n",
       "      <td>US, CA, Santa Ana</td>\n",
       "      <td></td>\n",
       "      <td></td>\n",
       "      <td></td>\n",
       "      <td>&lt;p&gt;ÃÂÃÂ In addition to clerical and adminis...</td>\n",
       "      <td></td>\n",
       "      <td>&lt;p&gt;No requirements&lt;/p&gt;</td>\n",
       "      <td>f</td>\n",
       "      <td>f</td>\n",
       "      <td>f</td>\n",
       "      <td>Full-time</td>\n",
       "      <td></td>\n",
       "      <td></td>\n",
       "      <td>Accounting</td>\n",
       "      <td>Administrative</td>\n",
       "      <td>t</td>\n",
       "      <td>t</td>\n",
       "    </tr>\n",
       "    <tr>\n",
       "      <th>4</th>\n",
       "      <td>147</td>\n",
       "      <td>Key Account Manager Switzerland</td>\n",
       "      <td>CH, BS, Basel</td>\n",
       "      <td>Sales</td>\n",
       "      <td></td>\n",
       "      <td></td>\n",
       "      <td>&lt;p&gt;Are you looking for a career that will chal...</td>\n",
       "      <td></td>\n",
       "      <td></td>\n",
       "      <td>f</td>\n",
       "      <td>t</td>\n",
       "      <td>t</td>\n",
       "      <td>Full-time</td>\n",
       "      <td>Associate</td>\n",
       "      <td>Bachelor's Degree</td>\n",
       "      <td>Education Management</td>\n",
       "      <td>Sales</td>\n",
       "      <td>f</td>\n",
       "      <td>t</td>\n",
       "    </tr>\n",
       "    <tr>\n",
       "      <th>...</th>\n",
       "      <td>...</td>\n",
       "      <td>...</td>\n",
       "      <td>...</td>\n",
       "      <td>...</td>\n",
       "      <td>...</td>\n",
       "      <td>...</td>\n",
       "      <td>...</td>\n",
       "      <td>...</td>\n",
       "      <td>...</td>\n",
       "      <td>...</td>\n",
       "      <td>...</td>\n",
       "      <td>...</td>\n",
       "      <td>...</td>\n",
       "      <td>...</td>\n",
       "      <td>...</td>\n",
       "      <td>...</td>\n",
       "      <td>...</td>\n",
       "      <td>...</td>\n",
       "      <td>...</td>\n",
       "    </tr>\n",
       "    <tr>\n",
       "      <th>445</th>\n",
       "      <td>718</td>\n",
       "      <td>Data Entry</td>\n",
       "      <td>US, FL, HILLIARD FL</td>\n",
       "      <td></td>\n",
       "      <td>25-30</td>\n",
       "      <td></td>\n",
       "      <td>&lt;p&gt;Prepares source data for computer entry by ...</td>\n",
       "      <td>&lt;p&gt;We are seeking extremely motivated and expe...</td>\n",
       "      <td>&lt;p&gt;ÃÂÃÂ Health, Dental, Life and AD&amp;amp;D I...</td>\n",
       "      <td>f</td>\n",
       "      <td>f</td>\n",
       "      <td>f</td>\n",
       "      <td>Contract</td>\n",
       "      <td>Internship</td>\n",
       "      <td></td>\n",
       "      <td>Consumer Services</td>\n",
       "      <td>Accounting/Auditing</td>\n",
       "      <td>t</td>\n",
       "      <td>t</td>\n",
       "    </tr>\n",
       "    <tr>\n",
       "      <th>446</th>\n",
       "      <td>826</td>\n",
       "      <td>Personal Assistant</td>\n",
       "      <td>US, NY, New York</td>\n",
       "      <td>Admin - Clerical</td>\n",
       "      <td></td>\n",
       "      <td></td>\n",
       "      <td>&lt;p&gt;Job Description&lt;/p&gt;\\r\\n&lt;p&gt;&lt;br&gt;Vertex Global...</td>\n",
       "      <td></td>\n",
       "      <td></td>\n",
       "      <td>f</td>\n",
       "      <td>f</td>\n",
       "      <td>f</td>\n",
       "      <td>Temporary</td>\n",
       "      <td>Entry level</td>\n",
       "      <td>Unspecified</td>\n",
       "      <td>Telecommunications</td>\n",
       "      <td>Administrative</td>\n",
       "      <td>t</td>\n",
       "      <td>t</td>\n",
       "    </tr>\n",
       "    <tr>\n",
       "      <th>447</th>\n",
       "      <td>675</td>\n",
       "      <td>OR Specialty Coordinator</td>\n",
       "      <td>US, ,</td>\n",
       "      <td></td>\n",
       "      <td></td>\n",
       "      <td></td>\n",
       "      <td>&lt;p&gt;&lt;b&gt;Apply using below link&lt;/b&gt;&lt;/p&gt;\\r\\n&lt;p&gt;&lt;b&gt;...</td>\n",
       "      <td></td>\n",
       "      <td></td>\n",
       "      <td>f</td>\n",
       "      <td>f</td>\n",
       "      <td>f</td>\n",
       "      <td>Full-time</td>\n",
       "      <td></td>\n",
       "      <td></td>\n",
       "      <td>Hospital &amp; Health Care</td>\n",
       "      <td></td>\n",
       "      <td>t</td>\n",
       "      <td>t</td>\n",
       "    </tr>\n",
       "    <tr>\n",
       "      <th>448</th>\n",
       "      <td>555</td>\n",
       "      <td>Sales Consultant NYC</td>\n",
       "      <td>US, NY, New York</td>\n",
       "      <td></td>\n",
       "      <td></td>\n",
       "      <td>&lt;p&gt;Sarbari is a high-growth, investment-backed...</td>\n",
       "      <td>&lt;p&gt;Sarbari is a high-growth, investment-backed...</td>\n",
       "      <td></td>\n",
       "      <td>&lt;p&gt;Sarbari offers a base salary and high earni...</td>\n",
       "      <td>f</td>\n",
       "      <td>t</td>\n",
       "      <td>f</td>\n",
       "      <td>Full-time</td>\n",
       "      <td>Associate</td>\n",
       "      <td></td>\n",
       "      <td>Food &amp; Beverages</td>\n",
       "      <td>Sales</td>\n",
       "      <td>f</td>\n",
       "      <td>t</td>\n",
       "    </tr>\n",
       "    <tr>\n",
       "      <th>449</th>\n",
       "      <td>439</td>\n",
       "      <td>Account Manager</td>\n",
       "      <td>NZ, N, Auckland</td>\n",
       "      <td>Customer Service</td>\n",
       "      <td>55000-65000</td>\n",
       "      <td>&lt;p&gt;HealthLink provides a computer communicatio...</td>\n",
       "      <td>&lt;p&gt;HealthLink provides a computer communicatio...</td>\n",
       "      <td>&lt;ul&gt;\\r\\n&lt;li&gt;Good computer skills: experience i...</td>\n",
       "      <td>&lt;ul&gt;\\r\\n&lt;li&gt;Stimulating environment with high ...</td>\n",
       "      <td>f</td>\n",
       "      <td>t</td>\n",
       "      <td>t</td>\n",
       "      <td>Full-time</td>\n",
       "      <td>Not Applicable</td>\n",
       "      <td>Bachelor's Degree</td>\n",
       "      <td>Information Technology and Services</td>\n",
       "      <td>Customer Service</td>\n",
       "      <td>f</td>\n",
       "      <td>t</td>\n",
       "    </tr>\n",
       "  </tbody>\n",
       "</table>\n",
       "<p>450 rows × 19 columns</p>\n",
       "</div>"
      ],
      "text/plain": [
       "     Unnamed: 0                            title               location  \\\n",
       "0           421                  Mobile Engineer       US, ND, Bismarck   \n",
       "1           545  BI Consultant & Database Expert                 BE, ,    \n",
       "2           806  Customer Service Representative    US, TX, SAN ANTONIO   \n",
       "3           803         Administrative Assistant      US, CA, Santa Ana   \n",
       "4           147  Key Account Manager Switzerland          CH, BS, Basel   \n",
       "..          ...                              ...                    ...   \n",
       "445         718                       Data Entry  US, FL, HILLIARD FL     \n",
       "446         826               Personal Assistant       US, NY, New York   \n",
       "447         675         OR Specialty Coordinator                 US, ,    \n",
       "448         555             Sales Consultant NYC       US, NY, New York   \n",
       "449         439                  Account Manager        NZ, N, Auckland   \n",
       "\n",
       "           department salary_range  \\\n",
       "0                                    \n",
       "1                tech                \n",
       "2                                    \n",
       "3                                    \n",
       "4               Sales                \n",
       "..                ...          ...   \n",
       "445                          25-30   \n",
       "446  Admin - Clerical                \n",
       "447                                  \n",
       "448                                  \n",
       "449  Customer Service  55000-65000   \n",
       "\n",
       "                                       company_profile  \\\n",
       "0    <p>We're changing how the world creates and pu...   \n",
       "1    <p>hello world</p>\\r\\n<p>talents23_ drives the...   \n",
       "2                                                        \n",
       "3                                                        \n",
       "4                                                        \n",
       "..                                                 ...   \n",
       "445                                                      \n",
       "446                                                      \n",
       "447                                                      \n",
       "448  <p>Sarbari is a high-growth, investment-backed...   \n",
       "449  <p>HealthLink provides a computer communicatio...   \n",
       "\n",
       "                                           description  \\\n",
       "0    <p>We're changing how the world creates and pu...   \n",
       "1    <p>hello world</p>\\r\\n<p>talents23_ drives the...   \n",
       "2    <p>SUMMARYResponsible for acting as a liaison ...   \n",
       "3    <p>ÃÂÃÂ In addition to clerical and adminis...   \n",
       "4    <p>Are you looking for a career that will chal...   \n",
       "..                                                 ...   \n",
       "445  <p>Prepares source data for computer entry by ...   \n",
       "446  <p>Job Description</p>\\r\\n<p><br>Vertex Global...   \n",
       "447  <p><b>Apply using below link</b></p>\\r\\n<p><b>...   \n",
       "448  <p>Sarbari is a high-growth, investment-backed...   \n",
       "449  <p>HealthLink provides a computer communicatio...   \n",
       "\n",
       "                                          requirements  \\\n",
       "0    <h3>The Musts:</h3>\\r\\n<ul>\\r\\n<li>You think b...   \n",
       "1    <ul>\\r\\n<li>You know SQL and have professional...   \n",
       "2    <p>Experience: Proficiency with Microsoft Word...   \n",
       "3                                                        \n",
       "4                                                        \n",
       "..                                                 ...   \n",
       "445  <p>We are seeking extremely motivated and expe...   \n",
       "446                                                      \n",
       "447                                                      \n",
       "448                                                      \n",
       "449  <ul>\\r\\n<li>Good computer skills: experience i...   \n",
       "\n",
       "                                              benefits telecommuting  \\\n",
       "0    <h3>The Perks (full-time only):</h3>\\r\\n<ul>\\r...             f   \n",
       "1    <ul>\\r\\n<li>WeÃÂ¢ÃÂÃÂre theÃÂÃÂ key An...             f   \n",
       "2    <p>You would be eligible to Benefits after 2mo...             f   \n",
       "3                               <p>No requirements</p>             f   \n",
       "4                                                                  f   \n",
       "..                                                 ...           ...   \n",
       "445  <p>ÃÂÃÂ Health, Dental, Life and AD&amp;D I...             f   \n",
       "446                                                                f   \n",
       "447                                                                f   \n",
       "448  <p>Sarbari offers a base salary and high earni...             f   \n",
       "449  <ul>\\r\\n<li>Stimulating environment with high ...             f   \n",
       "\n",
       "    has_company_logo has_questions employment_type required_experience  \\\n",
       "0                  t             t       Full-time         Entry level   \n",
       "1                  t             t       Full-time           Associate   \n",
       "2                  f             f       Full-time      Not Applicable   \n",
       "3                  f             f       Full-time                       \n",
       "4                  t             t       Full-time           Associate   \n",
       "..               ...           ...             ...                 ...   \n",
       "445                f             f        Contract          Internship   \n",
       "446                f             f       Temporary         Entry level   \n",
       "447                f             f       Full-time                       \n",
       "448                t             f       Full-time           Associate   \n",
       "449                t             t       Full-time      Not Applicable   \n",
       "\n",
       "            required_education                             industry  \\\n",
       "0                  Unspecified                  Program Development   \n",
       "1                                                                     \n",
       "2    High School or equivalent                    Consumer Services   \n",
       "3                                                        Accounting   \n",
       "4            Bachelor's Degree                 Education Management   \n",
       "..                         ...                                  ...   \n",
       "445                                               Consumer Services   \n",
       "446                Unspecified                   Telecommunications   \n",
       "447                                          Hospital & Health Care   \n",
       "448                                                Food & Beverages   \n",
       "449          Bachelor's Degree  Information Technology and Services   \n",
       "\n",
       "                function fraudulent in_balanced_dataset  \n",
       "0                  Other          f                   t  \n",
       "1                                 f                   t  \n",
       "2       Customer Service          t                   t  \n",
       "3         Administrative          t                   t  \n",
       "4                  Sales          f                   t  \n",
       "..                   ...        ...                 ...  \n",
       "445  Accounting/Auditing          t                   t  \n",
       "446       Administrative          t                   t  \n",
       "447                               t                   t  \n",
       "448                Sales          f                   t  \n",
       "449     Customer Service          f                   t  \n",
       "\n",
       "[450 rows x 19 columns]"
      ]
     },
     "execution_count": 24,
     "metadata": {},
     "output_type": "execute_result"
    }
   ],
   "source": [
    "df2 = df2.fillna(\"\")\n",
    "df2['description']=df2['company_profile']+df2['description']+df2['requirements']+df2['benefits']\n",
    "df2"
   ]
  },
  {
   "cell_type": "code",
   "execution_count": 25,
   "id": "4b064c37-c21a-4051-9c42-a49c86c7309d",
   "metadata": {
    "tags": []
   },
   "outputs": [
    {
     "data": {
      "text/html": [
       "<div>\n",
       "<style scoped>\n",
       "    .dataframe tbody tr th:only-of-type {\n",
       "        vertical-align: middle;\n",
       "    }\n",
       "\n",
       "    .dataframe tbody tr th {\n",
       "        vertical-align: top;\n",
       "    }\n",
       "\n",
       "    .dataframe thead th {\n",
       "        text-align: right;\n",
       "    }\n",
       "</style>\n",
       "<table border=\"1\" class=\"dataframe\">\n",
       "  <thead>\n",
       "    <tr style=\"text-align: right;\">\n",
       "      <th></th>\n",
       "      <th>fraudulent</th>\n",
       "      <th>description</th>\n",
       "      <th>scam</th>\n",
       "      <th>text</th>\n",
       "    </tr>\n",
       "  </thead>\n",
       "  <tbody>\n",
       "    <tr>\n",
       "      <th>0</th>\n",
       "      <td>f</td>\n",
       "      <td>&lt;p&gt;We're changing how the world creates and pu...</td>\n",
       "      <td>0</td>\n",
       "      <td>&lt;p&gt;We're changing how the world creates and pu...</td>\n",
       "    </tr>\n",
       "    <tr>\n",
       "      <th>1</th>\n",
       "      <td>f</td>\n",
       "      <td>&lt;p&gt;hello world&lt;/p&gt;\\r\\n&lt;p&gt;talents23_ drives the...</td>\n",
       "      <td>0</td>\n",
       "      <td>&lt;p&gt;hello world&lt;/p&gt;\\r\\n&lt;p&gt;talents23_ drives the...</td>\n",
       "    </tr>\n",
       "    <tr>\n",
       "      <th>2</th>\n",
       "      <td>t</td>\n",
       "      <td>&lt;p&gt;SUMMARYResponsible for acting as a liaison ...</td>\n",
       "      <td>1</td>\n",
       "      <td>&lt;p&gt;SUMMARYResponsible for acting as a liaison ...</td>\n",
       "    </tr>\n",
       "    <tr>\n",
       "      <th>3</th>\n",
       "      <td>t</td>\n",
       "      <td>&lt;p&gt;ÃÂÃÂ In addition to clerical and adminis...</td>\n",
       "      <td>1</td>\n",
       "      <td>&lt;p&gt;ÃÂÃÂ In addition to clerical and adminis...</td>\n",
       "    </tr>\n",
       "    <tr>\n",
       "      <th>4</th>\n",
       "      <td>f</td>\n",
       "      <td>&lt;p&gt;Are you looking for a career that will chal...</td>\n",
       "      <td>0</td>\n",
       "      <td>&lt;p&gt;Are you looking for a career that will chal...</td>\n",
       "    </tr>\n",
       "  </tbody>\n",
       "</table>\n",
       "</div>"
      ],
      "text/plain": [
       "  fraudulent                                        description  scam  \\\n",
       "0          f  <p>We're changing how the world creates and pu...     0   \n",
       "1          f  <p>hello world</p>\\r\\n<p>talents23_ drives the...     0   \n",
       "2          t  <p>SUMMARYResponsible for acting as a liaison ...     1   \n",
       "3          t  <p>ÃÂÃÂ In addition to clerical and adminis...     1   \n",
       "4          f  <p>Are you looking for a career that will chal...     0   \n",
       "\n",
       "                                                text  \n",
       "0  <p>We're changing how the world creates and pu...  \n",
       "1  <p>hello world</p>\\r\\n<p>talents23_ drives the...  \n",
       "2  <p>SUMMARYResponsible for acting as a liaison ...  \n",
       "3  <p>ÃÂÃÂ In addition to clerical and adminis...  \n",
       "4  <p>Are you looking for a career that will chal...  "
      ]
     },
     "execution_count": 25,
     "metadata": {},
     "output_type": "execute_result"
    }
   ],
   "source": [
    "def fraudulent(x):\n",
    "    if(x=='f'):\n",
    "        return 0\n",
    "    return 1\n",
    "df_OD = df2[['fraudulent', 'description']].copy()\n",
    "df_OD.head()\n",
    "df_OD['scam'] = df2['fraudulent'].map(lambda x:fraudulent(x))\n",
    "df_OD['text']= df2['description'].copy()\n",
    "df_OD.head()"
   ]
  },
  {
   "cell_type": "code",
   "execution_count": 26,
   "id": "47198c2f-b9da-4b57-aa7d-ef4e2953340f",
   "metadata": {
    "tags": []
   },
   "outputs": [
    {
     "data": {
      "text/html": [
       "<div>\n",
       "<style scoped>\n",
       "    .dataframe tbody tr th:only-of-type {\n",
       "        vertical-align: middle;\n",
       "    }\n",
       "\n",
       "    .dataframe tbody tr th {\n",
       "        vertical-align: top;\n",
       "    }\n",
       "\n",
       "    .dataframe thead th {\n",
       "        text-align: right;\n",
       "    }\n",
       "</style>\n",
       "<table border=\"1\" class=\"dataframe\">\n",
       "  <thead>\n",
       "    <tr style=\"text-align: right;\">\n",
       "      <th></th>\n",
       "      <th>scam</th>\n",
       "      <th>text</th>\n",
       "    </tr>\n",
       "  </thead>\n",
       "  <tbody>\n",
       "    <tr>\n",
       "      <th>0</th>\n",
       "      <td>0</td>\n",
       "      <td>&lt;p&gt;We're changing how the world creates and pu...</td>\n",
       "    </tr>\n",
       "    <tr>\n",
       "      <th>1</th>\n",
       "      <td>0</td>\n",
       "      <td>&lt;p&gt;hello world&lt;/p&gt;\\r\\n&lt;p&gt;talents23_ drives the...</td>\n",
       "    </tr>\n",
       "    <tr>\n",
       "      <th>2</th>\n",
       "      <td>1</td>\n",
       "      <td>&lt;p&gt;SUMMARYResponsible for acting as a liaison ...</td>\n",
       "    </tr>\n",
       "    <tr>\n",
       "      <th>3</th>\n",
       "      <td>1</td>\n",
       "      <td>&lt;p&gt;ÃÂÃÂ In addition to clerical and adminis...</td>\n",
       "    </tr>\n",
       "    <tr>\n",
       "      <th>4</th>\n",
       "      <td>0</td>\n",
       "      <td>&lt;p&gt;Are you looking for a career that will chal...</td>\n",
       "    </tr>\n",
       "  </tbody>\n",
       "</table>\n",
       "</div>"
      ],
      "text/plain": [
       "   scam                                               text\n",
       "0     0  <p>We're changing how the world creates and pu...\n",
       "1     0  <p>hello world</p>\\r\\n<p>talents23_ drives the...\n",
       "2     1  <p>SUMMARYResponsible for acting as a liaison ...\n",
       "3     1  <p>ÃÂÃÂ In addition to clerical and adminis...\n",
       "4     0  <p>Are you looking for a career that will chal..."
      ]
     },
     "execution_count": 26,
     "metadata": {},
     "output_type": "execute_result"
    }
   ],
   "source": [
    "df_OD=df_OD.drop(['fraudulent', 'description'], axis=1)\n",
    "\n",
    "df_OD.head()\n",
    "    \n"
   ]
  },
  {
   "cell_type": "code",
   "execution_count": 27,
   "id": "885b75fa-8639-414f-929c-a7ebe82f6609",
   "metadata": {
    "tags": []
   },
   "outputs": [],
   "source": [
    "lem = WordNetLemmatizer()\n",
    "def preprocessing(data):\n",
    "      sms = contractions.fix(data) # converting shortened words to original (Eg:\"I'm\" to \"I am\")\n",
    "      sms = sms.lower() # lower casing the sms\n",
    "      sms = re.sub(r'https?://S+|www.S+', \"\", sms).strip() #removing url\n",
    "      sms = re.sub(\"[^a-z ]\", \"\", sms) # removing symbols and numbes\n",
    "      sms = sms.split() #splitting\n",
    "      # lemmatization and stopword removal\n",
    "      sms = [lem.lemmatize(word) for word in sms if not word in set(stopwords.words(\"english\"))]\n",
    "      sms = \" \".join(sms)\n",
    "      return sms\n",
    "\n",
    "def remove_tags(string):\n",
    "    result = re.sub('<.*?>','',string)\n",
    "    return result\n",
    "df_OD['text']=df_OD['text'].apply(lambda cw : remove_tags(cw))\n",
    "\n",
    "X = df_OD[\"text\"].apply(preprocessing)"
   ]
  },
  {
   "cell_type": "code",
   "execution_count": 28,
   "id": "ef29a230-9bbb-48da-9a3f-9d849ffd7ce5",
   "metadata": {
    "tags": []
   },
   "outputs": [
    {
     "data": {
      "text/html": [
       "<div>\n",
       "<style scoped>\n",
       "    .dataframe tbody tr th:only-of-type {\n",
       "        vertical-align: middle;\n",
       "    }\n",
       "\n",
       "    .dataframe tbody tr th {\n",
       "        vertical-align: top;\n",
       "    }\n",
       "\n",
       "    .dataframe thead th {\n",
       "        text-align: right;\n",
       "    }\n",
       "</style>\n",
       "<table border=\"1\" class=\"dataframe\">\n",
       "  <thead>\n",
       "    <tr style=\"text-align: right;\">\n",
       "      <th></th>\n",
       "      <th>scam</th>\n",
       "      <th>text</th>\n",
       "    </tr>\n",
       "  </thead>\n",
       "  <tbody>\n",
       "    <tr>\n",
       "      <th>0</th>\n",
       "      <td>0</td>\n",
       "      <td>We're changing how the world creates and publi...</td>\n",
       "    </tr>\n",
       "    <tr>\n",
       "      <th>1</th>\n",
       "      <td>0</td>\n",
       "      <td>hello world\\r\\ntalents23_ drives the change in...</td>\n",
       "    </tr>\n",
       "    <tr>\n",
       "      <th>2</th>\n",
       "      <td>1</td>\n",
       "      <td>SUMMARYResponsible for acting as a liaison bet...</td>\n",
       "    </tr>\n",
       "    <tr>\n",
       "      <th>3</th>\n",
       "      <td>1</td>\n",
       "      <td>ÃÂÃÂ In addition to clerical and administra...</td>\n",
       "    </tr>\n",
       "    <tr>\n",
       "      <th>4</th>\n",
       "      <td>0</td>\n",
       "      <td>Are you looking for a career that will challen...</td>\n",
       "    </tr>\n",
       "  </tbody>\n",
       "</table>\n",
       "</div>"
      ],
      "text/plain": [
       "   scam                                               text\n",
       "0     0  We're changing how the world creates and publi...\n",
       "1     0  hello world\\r\\ntalents23_ drives the change in...\n",
       "2     1  SUMMARYResponsible for acting as a liaison bet...\n",
       "3     1  ÃÂÃÂ In addition to clerical and administra...\n",
       "4     0  Are you looking for a career that will challen..."
      ]
     },
     "execution_count": 28,
     "metadata": {},
     "output_type": "execute_result"
    }
   ],
   "source": [
    "df_OD.head()\n"
   ]
  },
  {
   "cell_type": "code",
   "execution_count": 29,
   "id": "eec40b25-78f5-4e6b-9dfc-d2159d05b675",
   "metadata": {
    "tags": []
   },
   "outputs": [
    {
     "data": {
      "text/plain": [
       "<Axes: xlabel='scam', ylabel='count'>"
      ]
     },
     "execution_count": 29,
     "metadata": {},
     "output_type": "execute_result"
    },
    {
     "data": {
      "image/png": "[encoded data removed]",
      "text/plain": [
       "<Figure size 640x480 with 1 Axes>"
      ]
     },
     "metadata": {},
     "output_type": "display_data"
    }
   ],
   "source": [
    "sns.countplot(x=df_OD[\"scam\"])"
   ]
  },
  {
   "cell_type": "code",
   "execution_count": 30,
   "id": "ed8be661-6e0e-4bc4-b798-838154e045b1",
   "metadata": {
    "tags": []
   },
   "outputs": [],
   "source": [
    "from sklearn.preprocessing import LabelEncoder\n",
    "lb_enc = LabelEncoder()\n",
    "y = lb_enc.fit_transform(df_OD[\"scam\"])"
   ]
  },
  {
   "cell_type": "code",
   "execution_count": 31,
   "id": "84580329-8059-4a53-8f23-85dca1a88101",
   "metadata": {
    "tags": []
   },
   "outputs": [
    {
     "name": "stdout",
     "output_type": "stream",
     "text": [
      "0      changing world creates publishes content even ...\n",
      "1      hello worldtalents drive change digital recrui...\n",
      "2      summaryresponsible acting liaison customer com...\n",
      "3      addition clerical administrative duty individu...\n",
      "4      looking career challenge allow make impact eve...\n",
      "                             ...                        \n",
      "445    prepares source data computer entry compiling ...\n",
      "446    job descriptionvertex global solution seek exe...\n",
      "447    apply using linkurlabecbbbaadffccccaaebor spec...\n",
      "448    sarbari highgrowth investmentbacked software c...\n",
      "449    healthlink provides computer communication sys...\n",
      "Name: text, Length: 450, dtype: object\n"
     ]
    }
   ],
   "source": [
    "tokenizer = Tokenizer() #initializing the tokenizer\n",
    "tokenizer.fit_on_texts(X)# fitting on the sms data\n",
    "text_to_sequence = tokenizer.texts_to_sequences(X)\n",
    "print(X)"
   ]
  },
  {
   "cell_type": "code",
   "execution_count": 32,
   "id": "7e8cb25f-8a14-4048-a708-f2921449f145",
   "metadata": {
    "tags": []
   },
   "outputs": [
    {
     "data": {
      "text/plain": [
       "450"
      ]
     },
     "execution_count": 32,
     "metadata": {},
     "output_type": "execute_result"
    }
   ],
   "source": [
    "max_length_sequence = max([len(i) for i in text_to_sequence])\n",
    " # finding the length of largest sequence\n",
    "padded_sms_sequence = pad_sequences(text_to_sequence, maxlen=max_length_sequence, \n",
    "                                    padding = \"pre\") \n",
    "len(padded_sms_sequence)"
   ]
  },
  {
   "cell_type": "code",
   "execution_count": 57,
   "id": "301c8759-cbfc-4494-9a73-f3f9570e2203",
   "metadata": {
    "tags": []
   },
   "outputs": [
    {
     "name": "stdout",
     "output_type": "stream",
     "text": [
      "Model: \"sequential_2\"\n",
      "_________________________________________________________________\n",
      " Layer (type)                Output Shape              Param #   \n",
      "=================================================================\n",
      " embedding_2 (Embedding)     (None, 2700, 32)          421536    \n",
      "                                                                 \n",
      " lstm_2 (LSTM)               (None, 50)                16600     \n",
      "                                                                 \n",
      " dropout_4 (Dropout)         (None, 50)                0         \n",
      "                                                                 \n",
      " dense_4 (Dense)             (None, 20)                1020      \n",
      "                                                                 \n",
      " dropout_5 (Dropout)         (None, 20)                0         \n",
      "                                                                 \n",
      " dense_5 (Dense)             (None, 1)                 21        \n",
      "                                                                 \n",
      "=================================================================\n",
      "Total params: 439177 (1.68 MB)\n",
      "Trainable params: 439177 (1.68 MB)\n",
      "Non-trainable params: 0 (0.00 Byte)\n",
      "_________________________________________________________________\n"
     ]
    }
   ],
   "source": [
    "TOT_SIZE = len(tokenizer.word_index)+1\n",
    "def create_model():\n",
    "      lstm_model = Sequential()\n",
    "      lstm_model.add(Embedding(TOT_SIZE, 32, input_length=max_length_sequence))\n",
    "      lstm_model.add(LSTM(50))\n",
    "      lstm_model.add(Dropout(0.4))\n",
    "      lstm_model.add(Dense(20, activation=\"relu\"))\n",
    "      lstm_model.add(Dropout(0.3))\n",
    "      lstm_model.add(Dense(1, activation = \"sigmoid\"))\n",
    "      return lstm_model\n",
    "lstm_model = create_model()\n",
    "lstm_model.compile(loss = \"binary_crossentropy\", optimizer = \"adam\", metrics = [\"binary_crossentropy\"])\n",
    "lstm_model.summary()"
   ]
  },
  {
   "cell_type": "code",
   "execution_count": 65,
   "id": "eda18ef8-c830-4e3c-b211-7d38fd4f9b9c",
   "metadata": {
    "tags": []
   },
   "outputs": [
    {
     "name": "stdout",
     "output_type": "stream",
     "text": [
      "Epoch 1/11\n",
      "6/6 [==============================] - 5s 895ms/step - loss: 0.2617 - binary_crossentropy: 0.2617 - val_loss: 0.5136 - val_binary_crossentropy: 0.5136\n",
      "Epoch 2/11\n",
      "6/6 [==============================] - 5s 916ms/step - loss: 0.2145 - binary_crossentropy: 0.2145 - val_loss: 0.4507 - val_binary_crossentropy: 0.4507\n",
      "Epoch 3/11\n",
      "6/6 [==============================] - 5s 914ms/step - loss: 0.1651 - binary_crossentropy: 0.1651 - val_loss: 0.3794 - val_binary_crossentropy: 0.3794\n",
      "Epoch 4/11\n",
      "6/6 [==============================] - 5s 897ms/step - loss: 0.1178 - binary_crossentropy: 0.1178 - val_loss: 0.3012 - val_binary_crossentropy: 0.3012\n",
      "Epoch 5/11\n",
      "6/6 [==============================] - 5s 904ms/step - loss: 0.0716 - binary_crossentropy: 0.0716 - val_loss: 0.3155 - val_binary_crossentropy: 0.3155\n",
      "Epoch 6/11\n"
     ]
    },
    {
     "ename": "KeyboardInterrupt",
     "evalue": "",
     "output_type": "error",
     "traceback": [
      "\u001b[0;31m---------------------------------------------------------------------------\u001b[0m",
      "\u001b[0;31mKeyboardInterrupt\u001b[0m                         Traceback (most recent call last)",
      "Cell \u001b[0;32mIn[65], line 1\u001b[0m\n\u001b[0;32m----> 1\u001b[0m history\u001b[38;5;241m=\u001b[39m\u001b[43mlstm_model\u001b[49m\u001b[38;5;241;43m.\u001b[39;49m\u001b[43mfit\u001b[49m\u001b[43m(\u001b[49m\u001b[43mpadded_sms_sequence\u001b[49m\u001b[43m,\u001b[49m\u001b[43m \u001b[49m\u001b[43my\u001b[49m\u001b[43m,\u001b[49m\u001b[43m \u001b[49m\u001b[43mepochs\u001b[49m\u001b[43m \u001b[49m\u001b[38;5;241;43m=\u001b[39;49m\u001b[38;5;241;43m11\u001b[39;49m\u001b[43m,\u001b[49m\u001b[43m \u001b[49m\u001b[43mvalidation_split\u001b[49m\u001b[38;5;241;43m=\u001b[39;49m\u001b[38;5;241;43m0.2\u001b[39;49m\u001b[43m,\u001b[49m\u001b[43m \u001b[49m\u001b[43mbatch_size\u001b[49m\u001b[38;5;241;43m=\u001b[39;49m\u001b[38;5;241;43m64\u001b[39;49m\u001b[43m)\u001b[49m\n",
      "File \u001b[0;32m~/anaconda3/envs/R/lib/python3.8/site-packages/keras/src/utils/traceback_utils.py:65\u001b[0m, in \u001b[0;36mfilter_traceback.<locals>.error_handler\u001b[0;34m(*args, **kwargs)\u001b[0m\n\u001b[1;32m     63\u001b[0m filtered_tb \u001b[38;5;241m=\u001b[39m \u001b[38;5;28;01mNone\u001b[39;00m\n\u001b[1;32m     64\u001b[0m \u001b[38;5;28;01mtry\u001b[39;00m:\n\u001b[0;32m---> 65\u001b[0m     \u001b[38;5;28;01mreturn\u001b[39;00m \u001b[43mfn\u001b[49m\u001b[43m(\u001b[49m\u001b[38;5;241;43m*\u001b[39;49m\u001b[43margs\u001b[49m\u001b[43m,\u001b[49m\u001b[43m \u001b[49m\u001b[38;5;241;43m*\u001b[39;49m\u001b[38;5;241;43m*\u001b[39;49m\u001b[43mkwargs\u001b[49m\u001b[43m)\u001b[49m\n\u001b[1;32m     66\u001b[0m \u001b[38;5;28;01mexcept\u001b[39;00m \u001b[38;5;167;01mException\u001b[39;00m \u001b[38;5;28;01mas\u001b[39;00m e:\n\u001b[1;32m     67\u001b[0m     filtered_tb \u001b[38;5;241m=\u001b[39m _process_traceback_frames(e\u001b[38;5;241m.\u001b[39m__traceback__)\n",
      "File \u001b[0;32m~/anaconda3/envs/R/lib/python3.8/site-packages/keras/src/engine/training.py:1742\u001b[0m, in \u001b[0;36mModel.fit\u001b[0;34m(self, x, y, batch_size, epochs, verbose, callbacks, validation_split, validation_data, shuffle, class_weight, sample_weight, initial_epoch, steps_per_epoch, validation_steps, validation_batch_size, validation_freq, max_queue_size, workers, use_multiprocessing)\u001b[0m\n\u001b[1;32m   1734\u001b[0m \u001b[38;5;28;01mwith\u001b[39;00m tf\u001b[38;5;241m.\u001b[39mprofiler\u001b[38;5;241m.\u001b[39mexperimental\u001b[38;5;241m.\u001b[39mTrace(\n\u001b[1;32m   1735\u001b[0m     \u001b[38;5;124m\"\u001b[39m\u001b[38;5;124mtrain\u001b[39m\u001b[38;5;124m\"\u001b[39m,\n\u001b[1;32m   1736\u001b[0m     epoch_num\u001b[38;5;241m=\u001b[39mepoch,\n\u001b[0;32m   (...)\u001b[0m\n\u001b[1;32m   1739\u001b[0m     _r\u001b[38;5;241m=\u001b[39m\u001b[38;5;241m1\u001b[39m,\n\u001b[1;32m   1740\u001b[0m ):\n\u001b[1;32m   1741\u001b[0m     callbacks\u001b[38;5;241m.\u001b[39mon_train_batch_begin(step)\n\u001b[0;32m-> 1742\u001b[0m     tmp_logs \u001b[38;5;241m=\u001b[39m \u001b[38;5;28;43mself\u001b[39;49m\u001b[38;5;241;43m.\u001b[39;49m\u001b[43mtrain_function\u001b[49m\u001b[43m(\u001b[49m\u001b[43miterator\u001b[49m\u001b[43m)\u001b[49m\n\u001b[1;32m   1743\u001b[0m     \u001b[38;5;28;01mif\u001b[39;00m data_handler\u001b[38;5;241m.\u001b[39mshould_sync:\n\u001b[1;32m   1744\u001b[0m         context\u001b[38;5;241m.\u001b[39masync_wait()\n",
      "File \u001b[0;32m~/anaconda3/envs/R/lib/python3.8/site-packages/tensorflow/python/util/traceback_utils.py:150\u001b[0m, in \u001b[0;36mfilter_traceback.<locals>.error_handler\u001b[0;34m(*args, **kwargs)\u001b[0m\n\u001b[1;32m    148\u001b[0m filtered_tb \u001b[38;5;241m=\u001b[39m \u001b[38;5;28;01mNone\u001b[39;00m\n\u001b[1;32m    149\u001b[0m \u001b[38;5;28;01mtry\u001b[39;00m:\n\u001b[0;32m--> 150\u001b[0m   \u001b[38;5;28;01mreturn\u001b[39;00m \u001b[43mfn\u001b[49m\u001b[43m(\u001b[49m\u001b[38;5;241;43m*\u001b[39;49m\u001b[43margs\u001b[49m\u001b[43m,\u001b[49m\u001b[43m \u001b[49m\u001b[38;5;241;43m*\u001b[39;49m\u001b[38;5;241;43m*\u001b[39;49m\u001b[43mkwargs\u001b[49m\u001b[43m)\u001b[49m\n\u001b[1;32m    151\u001b[0m \u001b[38;5;28;01mexcept\u001b[39;00m \u001b[38;5;167;01mException\u001b[39;00m \u001b[38;5;28;01mas\u001b[39;00m e:\n\u001b[1;32m    152\u001b[0m   filtered_tb \u001b[38;5;241m=\u001b[39m _process_traceback_frames(e\u001b[38;5;241m.\u001b[39m__traceback__)\n",
      "File \u001b[0;32m~/anaconda3/envs/R/lib/python3.8/site-packages/tensorflow/python/eager/polymorphic_function/polymorphic_function.py:825\u001b[0m, in \u001b[0;36mFunction.__call__\u001b[0;34m(self, *args, **kwds)\u001b[0m\n\u001b[1;32m    822\u001b[0m compiler \u001b[38;5;241m=\u001b[39m \u001b[38;5;124m\"\u001b[39m\u001b[38;5;124mxla\u001b[39m\u001b[38;5;124m\"\u001b[39m \u001b[38;5;28;01mif\u001b[39;00m \u001b[38;5;28mself\u001b[39m\u001b[38;5;241m.\u001b[39m_jit_compile \u001b[38;5;28;01melse\u001b[39;00m \u001b[38;5;124m\"\u001b[39m\u001b[38;5;124mnonXla\u001b[39m\u001b[38;5;124m\"\u001b[39m\n\u001b[1;32m    824\u001b[0m \u001b[38;5;28;01mwith\u001b[39;00m OptionalXlaContext(\u001b[38;5;28mself\u001b[39m\u001b[38;5;241m.\u001b[39m_jit_compile):\n\u001b[0;32m--> 825\u001b[0m   result \u001b[38;5;241m=\u001b[39m \u001b[38;5;28;43mself\u001b[39;49m\u001b[38;5;241;43m.\u001b[39;49m\u001b[43m_call\u001b[49m\u001b[43m(\u001b[49m\u001b[38;5;241;43m*\u001b[39;49m\u001b[43margs\u001b[49m\u001b[43m,\u001b[49m\u001b[43m \u001b[49m\u001b[38;5;241;43m*\u001b[39;49m\u001b[38;5;241;43m*\u001b[39;49m\u001b[43mkwds\u001b[49m\u001b[43m)\u001b[49m\n\u001b[1;32m    827\u001b[0m new_tracing_count \u001b[38;5;241m=\u001b[39m \u001b[38;5;28mself\u001b[39m\u001b[38;5;241m.\u001b[39mexperimental_get_tracing_count()\n\u001b[1;32m    828\u001b[0m without_tracing \u001b[38;5;241m=\u001b[39m (tracing_count \u001b[38;5;241m==\u001b[39m new_tracing_count)\n",
      "File \u001b[0;32m~/anaconda3/envs/R/lib/python3.8/site-packages/tensorflow/python/eager/polymorphic_function/polymorphic_function.py:857\u001b[0m, in \u001b[0;36mFunction._call\u001b[0;34m(self, *args, **kwds)\u001b[0m\n\u001b[1;32m    854\u001b[0m   \u001b[38;5;28mself\u001b[39m\u001b[38;5;241m.\u001b[39m_lock\u001b[38;5;241m.\u001b[39mrelease()\n\u001b[1;32m    855\u001b[0m   \u001b[38;5;66;03m# In this case we have created variables on the first call, so we run the\u001b[39;00m\n\u001b[1;32m    856\u001b[0m   \u001b[38;5;66;03m# defunned version which is guaranteed to never create variables.\u001b[39;00m\n\u001b[0;32m--> 857\u001b[0m   \u001b[38;5;28;01mreturn\u001b[39;00m \u001b[38;5;28;43mself\u001b[39;49m\u001b[38;5;241;43m.\u001b[39;49m\u001b[43m_no_variable_creation_fn\u001b[49m\u001b[43m(\u001b[49m\u001b[38;5;241;43m*\u001b[39;49m\u001b[43margs\u001b[49m\u001b[43m,\u001b[49m\u001b[43m \u001b[49m\u001b[38;5;241;43m*\u001b[39;49m\u001b[38;5;241;43m*\u001b[39;49m\u001b[43mkwds\u001b[49m\u001b[43m)\u001b[49m  \u001b[38;5;66;03m# pylint: disable=not-callable\u001b[39;00m\n\u001b[1;32m    858\u001b[0m \u001b[38;5;28;01melif\u001b[39;00m \u001b[38;5;28mself\u001b[39m\u001b[38;5;241m.\u001b[39m_variable_creation_fn \u001b[38;5;129;01mis\u001b[39;00m \u001b[38;5;129;01mnot\u001b[39;00m \u001b[38;5;28;01mNone\u001b[39;00m:\n\u001b[1;32m    859\u001b[0m   \u001b[38;5;66;03m# Release the lock early so that multiple threads can perform the call\u001b[39;00m\n\u001b[1;32m    860\u001b[0m   \u001b[38;5;66;03m# in parallel.\u001b[39;00m\n\u001b[1;32m    861\u001b[0m   \u001b[38;5;28mself\u001b[39m\u001b[38;5;241m.\u001b[39m_lock\u001b[38;5;241m.\u001b[39mrelease()\n",
      "File \u001b[0;32m~/anaconda3/envs/R/lib/python3.8/site-packages/tensorflow/python/eager/polymorphic_function/tracing_compiler.py:148\u001b[0m, in \u001b[0;36mTracingCompiler.__call__\u001b[0;34m(self, *args, **kwargs)\u001b[0m\n\u001b[1;32m    145\u001b[0m \u001b[38;5;28;01mwith\u001b[39;00m \u001b[38;5;28mself\u001b[39m\u001b[38;5;241m.\u001b[39m_lock:\n\u001b[1;32m    146\u001b[0m   (concrete_function,\n\u001b[1;32m    147\u001b[0m    filtered_flat_args) \u001b[38;5;241m=\u001b[39m \u001b[38;5;28mself\u001b[39m\u001b[38;5;241m.\u001b[39m_maybe_define_function(args, kwargs)\n\u001b[0;32m--> 148\u001b[0m \u001b[38;5;28;01mreturn\u001b[39;00m \u001b[43mconcrete_function\u001b[49m\u001b[38;5;241;43m.\u001b[39;49m\u001b[43m_call_flat\u001b[49m\u001b[43m(\u001b[49m\n\u001b[1;32m    149\u001b[0m \u001b[43m    \u001b[49m\u001b[43mfiltered_flat_args\u001b[49m\u001b[43m,\u001b[49m\u001b[43m \u001b[49m\u001b[43mcaptured_inputs\u001b[49m\u001b[38;5;241;43m=\u001b[39;49m\u001b[43mconcrete_function\u001b[49m\u001b[38;5;241;43m.\u001b[39;49m\u001b[43mcaptured_inputs\u001b[49m\u001b[43m)\u001b[49m\n",
      "File \u001b[0;32m~/anaconda3/envs/R/lib/python3.8/site-packages/tensorflow/python/eager/polymorphic_function/monomorphic_function.py:1349\u001b[0m, in \u001b[0;36mConcreteFunction._call_flat\u001b[0;34m(self, args, captured_inputs)\u001b[0m\n\u001b[1;32m   1345\u001b[0m possible_gradient_type \u001b[38;5;241m=\u001b[39m gradients_util\u001b[38;5;241m.\u001b[39mPossibleTapeGradientTypes(args)\n\u001b[1;32m   1346\u001b[0m \u001b[38;5;28;01mif\u001b[39;00m (possible_gradient_type \u001b[38;5;241m==\u001b[39m gradients_util\u001b[38;5;241m.\u001b[39mPOSSIBLE_GRADIENT_TYPES_NONE\n\u001b[1;32m   1347\u001b[0m     \u001b[38;5;129;01mand\u001b[39;00m executing_eagerly):\n\u001b[1;32m   1348\u001b[0m   \u001b[38;5;66;03m# No tape is watching; skip to running the function.\u001b[39;00m\n\u001b[0;32m-> 1349\u001b[0m   \u001b[38;5;28;01mreturn\u001b[39;00m \u001b[38;5;28mself\u001b[39m\u001b[38;5;241m.\u001b[39m_build_call_outputs(\u001b[38;5;28;43mself\u001b[39;49m\u001b[38;5;241;43m.\u001b[39;49m\u001b[43m_inference_function\u001b[49m\u001b[43m(\u001b[49m\u001b[38;5;241;43m*\u001b[39;49m\u001b[43margs\u001b[49m\u001b[43m)\u001b[49m)\n\u001b[1;32m   1350\u001b[0m forward_backward \u001b[38;5;241m=\u001b[39m \u001b[38;5;28mself\u001b[39m\u001b[38;5;241m.\u001b[39m_select_forward_and_backward_functions(\n\u001b[1;32m   1351\u001b[0m     args,\n\u001b[1;32m   1352\u001b[0m     possible_gradient_type,\n\u001b[1;32m   1353\u001b[0m     executing_eagerly)\n\u001b[1;32m   1354\u001b[0m forward_function, args_with_tangents \u001b[38;5;241m=\u001b[39m forward_backward\u001b[38;5;241m.\u001b[39mforward()\n",
      "File \u001b[0;32m~/anaconda3/envs/R/lib/python3.8/site-packages/tensorflow/python/eager/polymorphic_function/atomic_function.py:196\u001b[0m, in \u001b[0;36mAtomicFunction.__call__\u001b[0;34m(self, *args)\u001b[0m\n\u001b[1;32m    194\u001b[0m \u001b[38;5;28;01mwith\u001b[39;00m record\u001b[38;5;241m.\u001b[39mstop_recording():\n\u001b[1;32m    195\u001b[0m   \u001b[38;5;28;01mif\u001b[39;00m \u001b[38;5;28mself\u001b[39m\u001b[38;5;241m.\u001b[39m_bound_context\u001b[38;5;241m.\u001b[39mexecuting_eagerly():\n\u001b[0;32m--> 196\u001b[0m     outputs \u001b[38;5;241m=\u001b[39m \u001b[38;5;28;43mself\u001b[39;49m\u001b[38;5;241;43m.\u001b[39;49m\u001b[43m_bound_context\u001b[49m\u001b[38;5;241;43m.\u001b[39;49m\u001b[43mcall_function\u001b[49m\u001b[43m(\u001b[49m\n\u001b[1;32m    197\u001b[0m \u001b[43m        \u001b[49m\u001b[38;5;28;43mself\u001b[39;49m\u001b[38;5;241;43m.\u001b[39;49m\u001b[43mname\u001b[49m\u001b[43m,\u001b[49m\n\u001b[1;32m    198\u001b[0m \u001b[43m        \u001b[49m\u001b[38;5;28;43mlist\u001b[39;49m\u001b[43m(\u001b[49m\u001b[43margs\u001b[49m\u001b[43m)\u001b[49m\u001b[43m,\u001b[49m\n\u001b[1;32m    199\u001b[0m \u001b[43m        \u001b[49m\u001b[38;5;28;43mlen\u001b[39;49m\u001b[43m(\u001b[49m\u001b[38;5;28;43mself\u001b[39;49m\u001b[38;5;241;43m.\u001b[39;49m\u001b[43mfunction_type\u001b[49m\u001b[38;5;241;43m.\u001b[39;49m\u001b[43mflat_outputs\u001b[49m\u001b[43m)\u001b[49m\u001b[43m,\u001b[49m\n\u001b[1;32m    200\u001b[0m \u001b[43m    \u001b[49m\u001b[43m)\u001b[49m\n\u001b[1;32m    201\u001b[0m   \u001b[38;5;28;01melse\u001b[39;00m:\n\u001b[1;32m    202\u001b[0m     outputs \u001b[38;5;241m=\u001b[39m make_call_op_in_graph(\u001b[38;5;28mself\u001b[39m, \u001b[38;5;28mlist\u001b[39m(args))\n",
      "File \u001b[0;32m~/anaconda3/envs/R/lib/python3.8/site-packages/tensorflow/python/eager/context.py:1457\u001b[0m, in \u001b[0;36mContext.call_function\u001b[0;34m(self, name, tensor_inputs, num_outputs)\u001b[0m\n\u001b[1;32m   1455\u001b[0m cancellation_context \u001b[38;5;241m=\u001b[39m cancellation\u001b[38;5;241m.\u001b[39mcontext()\n\u001b[1;32m   1456\u001b[0m \u001b[38;5;28;01mif\u001b[39;00m cancellation_context \u001b[38;5;129;01mis\u001b[39;00m \u001b[38;5;28;01mNone\u001b[39;00m:\n\u001b[0;32m-> 1457\u001b[0m   outputs \u001b[38;5;241m=\u001b[39m \u001b[43mexecute\u001b[49m\u001b[38;5;241;43m.\u001b[39;49m\u001b[43mexecute\u001b[49m\u001b[43m(\u001b[49m\n\u001b[1;32m   1458\u001b[0m \u001b[43m      \u001b[49m\u001b[43mname\u001b[49m\u001b[38;5;241;43m.\u001b[39;49m\u001b[43mdecode\u001b[49m\u001b[43m(\u001b[49m\u001b[38;5;124;43m\"\u001b[39;49m\u001b[38;5;124;43mutf-8\u001b[39;49m\u001b[38;5;124;43m\"\u001b[39;49m\u001b[43m)\u001b[49m\u001b[43m,\u001b[49m\n\u001b[1;32m   1459\u001b[0m \u001b[43m      \u001b[49m\u001b[43mnum_outputs\u001b[49m\u001b[38;5;241;43m=\u001b[39;49m\u001b[43mnum_outputs\u001b[49m\u001b[43m,\u001b[49m\n\u001b[1;32m   1460\u001b[0m \u001b[43m      \u001b[49m\u001b[43minputs\u001b[49m\u001b[38;5;241;43m=\u001b[39;49m\u001b[43mtensor_inputs\u001b[49m\u001b[43m,\u001b[49m\n\u001b[1;32m   1461\u001b[0m \u001b[43m      \u001b[49m\u001b[43mattrs\u001b[49m\u001b[38;5;241;43m=\u001b[39;49m\u001b[43mattrs\u001b[49m\u001b[43m,\u001b[49m\n\u001b[1;32m   1462\u001b[0m \u001b[43m      \u001b[49m\u001b[43mctx\u001b[49m\u001b[38;5;241;43m=\u001b[39;49m\u001b[38;5;28;43mself\u001b[39;49m\u001b[43m,\u001b[49m\n\u001b[1;32m   1463\u001b[0m \u001b[43m  \u001b[49m\u001b[43m)\u001b[49m\n\u001b[1;32m   1464\u001b[0m \u001b[38;5;28;01melse\u001b[39;00m:\n\u001b[1;32m   1465\u001b[0m   outputs \u001b[38;5;241m=\u001b[39m execute\u001b[38;5;241m.\u001b[39mexecute_with_cancellation(\n\u001b[1;32m   1466\u001b[0m       name\u001b[38;5;241m.\u001b[39mdecode(\u001b[38;5;124m\"\u001b[39m\u001b[38;5;124mutf-8\u001b[39m\u001b[38;5;124m\"\u001b[39m),\n\u001b[1;32m   1467\u001b[0m       num_outputs\u001b[38;5;241m=\u001b[39mnum_outputs,\n\u001b[0;32m   (...)\u001b[0m\n\u001b[1;32m   1471\u001b[0m       cancellation_manager\u001b[38;5;241m=\u001b[39mcancellation_context,\n\u001b[1;32m   1472\u001b[0m   )\n",
      "File \u001b[0;32m~/anaconda3/envs/R/lib/python3.8/site-packages/tensorflow/python/eager/execute.py:53\u001b[0m, in \u001b[0;36mquick_execute\u001b[0;34m(op_name, num_outputs, inputs, attrs, ctx, name)\u001b[0m\n\u001b[1;32m     51\u001b[0m \u001b[38;5;28;01mtry\u001b[39;00m:\n\u001b[1;32m     52\u001b[0m   ctx\u001b[38;5;241m.\u001b[39mensure_initialized()\n\u001b[0;32m---> 53\u001b[0m   tensors \u001b[38;5;241m=\u001b[39m \u001b[43mpywrap_tfe\u001b[49m\u001b[38;5;241;43m.\u001b[39;49m\u001b[43mTFE_Py_Execute\u001b[49m\u001b[43m(\u001b[49m\u001b[43mctx\u001b[49m\u001b[38;5;241;43m.\u001b[39;49m\u001b[43m_handle\u001b[49m\u001b[43m,\u001b[49m\u001b[43m \u001b[49m\u001b[43mdevice_name\u001b[49m\u001b[43m,\u001b[49m\u001b[43m \u001b[49m\u001b[43mop_name\u001b[49m\u001b[43m,\u001b[49m\n\u001b[1;32m     54\u001b[0m \u001b[43m                                      \u001b[49m\u001b[43minputs\u001b[49m\u001b[43m,\u001b[49m\u001b[43m \u001b[49m\u001b[43mattrs\u001b[49m\u001b[43m,\u001b[49m\u001b[43m \u001b[49m\u001b[43mnum_outputs\u001b[49m\u001b[43m)\u001b[49m\n\u001b[1;32m     55\u001b[0m \u001b[38;5;28;01mexcept\u001b[39;00m core\u001b[38;5;241m.\u001b[39m_NotOkStatusException \u001b[38;5;28;01mas\u001b[39;00m e:\n\u001b[1;32m     56\u001b[0m   \u001b[38;5;28;01mif\u001b[39;00m name \u001b[38;5;129;01mis\u001b[39;00m \u001b[38;5;129;01mnot\u001b[39;00m \u001b[38;5;28;01mNone\u001b[39;00m:\n",
      "\u001b[0;31mKeyboardInterrupt\u001b[0m: "
     ]
    }
   ],
   "source": [
    "history=lstm_model.fit(padded_sms_sequence, y, epochs =11, validation_split=0.2, batch_size=64)"
   ]
  },
  {
   "cell_type": "code",
   "execution_count": 33,
   "id": "c985ed13-2fa1-4330-a63d-3102b74c6068",
   "metadata": {
    "tags": []
   },
   "outputs": [
    {
     "name": "stdout",
     "output_type": "stream",
     "text": [
      "Text               :  accepting online application onlyclick applythis full time temporary position lasting yearsdescriptionvalidate review legal contractual agreement customer input contract contract database contract completed amp reviewed within perdetermined service level agreement professional email interaction customer scanning uploading documentsqualificationshigh school diploma equivalent professional communication skill via email interactiondedicated need business project management skill assist facilitating multiple contract reject detail oriented able multitaskability work time sensitive document must able work independently able perform team environment needed fast accurate typistaccepting online application onlyclick apply\n",
      "Numerical Sequence :  [739, 136, 1310, 5356, 286, 771, 5357, 1001, 5358, 740, 214, 3568, 99, 2112, 24, 138, 41, 287, 1060, 209, 5359, 99, 945, 242, 146, 5360, 181, 95, 77, 1871, 1208, 806, 2370, 1127, 3569, 1673, 2797, 95, 77, 71, 37, 71, 342, 1674, 1002, 95, 77, 1128, 1311, 5361, 1208, 806, 133, 1127, 136, 3570, 5362, 5363, 138, 287, 3569, 152, 120, 2798, 15, 41, 1060, 209, 718, 149, 318, 2113, 101, 13, 356, 84, 5364, 2371, 1872, 96, 78, 5365, 719, 5366, 59, 2, 5367, 343, 3571, 5368, 503, 173, 453, 1061, 5369, 13, 388, 3, 1129, 5370, 93, 3572, 101, 1, 5371, 2114, 575, 1209, 575, 9, 5372, 851, 1312, 63, 32, 1060, 209, 5373, 1062, 126, 772, 15, 121, 5374, 1, 5375, 625, 24, 15, 5376, 331, 2798, 169, 66, 75, 101, 5377, 1130, 43, 741, 5378, 32, 2, 5379, 13, 96, 89, 2, 5380, 5381, 64, 14, 2, 42, 1, 2372, 1127, 120, 1063, 1127, 5382, 720, 5383, 21, 319, 95, 1210, 773, 477, 2799, 518, 5384, 5385, 202, 202, 5386, 1003, 153, 357, 3573, 1675, 223, 5387, 146, 5388, 171, 251, 243, 231, 5389, 5390, 2115, 2800, 3574, 1413, 5391, 5392, 3575, 721, 5393, 5394, 320, 5395, 2373, 5396, 5397, 852, 5398, 5399, 5400, 2374, 299, 5401, 5402, 519, 5403, 1414, 2801, 5404, 1873, 1873, 28]\n",
      "Text               :  position administrative assistant whose job primarily consist calling prospect expressed interest service requested contacted workfromhome optionthere absolutely coldcalling involved whatsoeverthis person need pleasant professional comfortable talking seniorlevel manager executive attentiontodetail must extensive tracking need made prospect\n",
      "Numerical Sequence :  [5405, 5406, 275, 276, 117, 504, 807, 85, 101, 3576, 897, 260, 5407, 159, 139, 5, 1415, 27, 232, 10, 557, 5408, 59, 33, 1676, 5409, 2116, 3577, 5410, 5411, 5, 332, 233, 27, 232, 46, 520, 4, 1211, 1064, 626, 1313, 2802, 2375, 1314, 5412, 5413, 57, 242, 1, 35, 3578, 1416, 358, 853, 492, 5414, 388, 945, 232, 5, 5415, 321, 1004, 5416, 203, 48, 3579, 5417, 5418, 1212, 32, 22, 5419, 3580, 5420, 13, 32, 454, 43, 27, 2117, 204, 1417, 27, 946, 5421, 46, 359, 454, 5422, 22, 79, 44, 1531, 558, 13, 5423, 5424, 277, 34, 2376, 356, 39, 179, 82, 8, 685, 535, 210, 73, 32, 5425, 306, 627, 42, 2, 21, 204, 27, 1212, 5426, 1418, 2803, 1419, 5427, 808, 5428, 2376, 169, 14, 2, 128, 5429, 115, 48, 22, 2804, 344, 2118, 204, 43, 27, 5430, 1874, 102, 10, 175, 3581, 175, 88, 5431, 3582, 5432, 174, 5433, 2, 5434, 647, 10, 119, 210, 2805, 3583, 505, 5435, 234, 602, 244, 809, 3584, 648, 854, 2116, 5436, 5437, 78, 575, 5438, 173, 686, 3585, 2377, 195, 72, 1532, 11, 124, 5439, 5440, 232, 5441, 5442, 1064, 5443, 1, 5444, 5445, 3586, 27, 5446, 3587, 5447, 27, 5448, 10, 5449, 389, 5450, 1, 3588, 197, 5451, 1213, 5452, 505, 2378, 1, 5453, 5454, 5455, 5456, 5457, 295, 1005, 5458, 5459, 5460, 390, 245, 8, 5461, 321, 5462, 649, 2379, 3589, 2119, 66]\n",
      "Text               :  ultra luxury american cruise company urgently looking following positionshospitality many bar amp restaurant boardretail duty free shop amp boutique boardhousekeeping housekeeping amp cleaning jobsoffice admin front desk amp tour booking jobsother position dj security staff photographer amp nanniesvessel type operation ultra luxury cruisecertification amp experienceprevious experience requiredgood english speaker customer service skill wanting learn amp workjob typepermsailing areaworld widebenefitson board en suite accommodation food medical cover duration contractworld work visa free wifitax free salary amp morejob descriptiona ultra luxury cruise company looking recruit hardworking enthusiastic cruise personalthis exciting opportunity available candidate willing learn work amp flexiblecandidate also customer service skill skill public relation good english speakersrotation month month great salary euro tax freepay discussed via communication full application proccessif looking new adventure apply todayplease send resume emaileadacdedbcafcbacbacfdffcb coppy amp paste email addresswe contact shortly within hourslooking forward aboardadrian westdept rec\n",
      "Numerical Sequence :  [5463, 5464, 1677, 3, 5, 164, 1420, 269, 2380, 129, 687, 650, 5465, 5466, 5467, 3, 1420, 261, 111, 86, 651, 95, 5468, 536, 1006, 3, 2806, 129, 5469, 3, 5470, 5471, 122, 1131, 5472, 1678, 5473, 1533, 269, 5474, 5475, 5, 5476, 720, 80, 2807, 80, 521, 111, 5477, 5478, 5479, 687, 3590, 384, 5480, 5, 5481, 46, 13, 5482, 13, 5483, 3591, 3, 5484, 5485, 3, 808, 5486, 13, 5487, 88, 43, 947, 75, 108, 5488, 3, 4, 71, 123, 1534, 3, 4, 5489, 309, 108, 5490, 948, 224, 288, 262, 855, 2808, 76, 286, 22, 29, 2381, 204, 5491, 21, 1132, 296, 2382, 2383, 1421, 22, 2803, 166, 1065, 62, 112, 21, 5, 62, 1679, 143, 188, 310]\n",
      "Text               :  kmc projectwe looking someone reliable ability work hour week would include potentially christmas break manage program worker split break half work part break although increased hour ten day span give preference pc deal breaker\n",
      "Numerical Sequence :  [856, 810, 216, 144, 105, 3592, 34, 33, 127, 106, 105, 38, 84, 1680, 9, 1422, 5492, 119]\n",
      "Text               :  exciting opportunity exists fill parttime position assistant accountant immediate start sydney regionin role key member team responsible overall bookkeeping duty client required proactive duty take task required\n",
      "Numerical Sequence :  [24, 100, 388, 1681, 56, 537, 121, 97, 1066, 23, 134, 18, 322, 1875, 84, 139, 103, 1, 2809, 145, 333, 857, 1423, 687, 3593, 210, 129, 71, 73, 628, 538, 100, 5493, 2810, 375, 14, 1, 145, 360, 333, 146, 58, 121, 97, 2810, 388, 2120, 5494, 2121, 15, 2122, 358, 537, 160, 1, 53, 2811, 455, 2123, 72, 478, 5495, 73, 275, 3593, 10, 2812, 103, 2124, 2813, 182, 1535, 439, 1067, 198, 2384, 478, 5496, 5497, 858, 15, 10, 23, 859, 15, 18, 1682, 12, 79, 1133, 345, 456, 5498, 1876, 376, 2125, 2810, 252, 95, 5499, 1424, 5500, 440, 263, 439, 5501, 311, 3594, 652, 5502, 742, 129, 1536, 253, 18, 2385, 12, 1315, 176, 5503, 5504, 1134, 5505, 2812, 103, 189, 12, 8, 195, 5506, 1068, 5507, 14, 2, 12, 10, 32, 1214, 2, 5508, 1682, 12, 5509, 209, 439, 128, 13, 5510, 42, 948, 2386, 205, 140, 1537, 1214, 5511, 29, 244, 2387, 82, 3594, 21, 1068, 1877, 5512, 377, 227, 576, 275, 5513, 161, 5514, 195, 2812, 333, 29, 1, 5515, 3595, 505, 5516, 29, 1316, 82, 242, 5517, 688, 102, 1132]\n"
     ]
    },
    {
     "data": {
      "text/plain": [
       "array([[   0,    0,    0, ...,   39,  542,   79],\n",
       "       [   0,    0,    0, ...,   27,  497,  910],\n",
       "       [   0,    0,    0, ...,  789,  790,  791],\n",
       "       ...,\n",
       "       [   0,    0,    0, ...,  742,  650, 1092],\n",
       "       [   0,    0,    0, ...,  892,   30,   18],\n",
       "       [   0,    0,    0, ...,    5,  291, 1224]], dtype=int32)"
      ]
     },
     "execution_count": 33,
     "metadata": {},
     "output_type": "execute_result"
    }
   ],
   "source": [
    "df_test = df_test.fillna(\"\")\n",
    "df_test['description']=df_test['company_profile']+df_test['description']\n",
    "df_OD_test = df_test[['fraudulent', 'description']].copy()\n",
    "df_OD_test.head()\n",
    "df_OD_test['scam'] = df_test['fraudulent'].map(lambda x:fraudulent(x))\n",
    "df_OD_test['text']= df_test['description'].copy()\n",
    "df_OD_test=df_OD_test.drop(['fraudulent', 'description'], axis=1)\n",
    "df_OD_test['text']=df_OD_test['text'].apply(lambda cw : remove_tags(cw))\n",
    "X = df_OD_test[\"text\"].apply(preprocessing)\n",
    "for i in range(5):\n",
    "           print(\"Text               : \",X[i] )\n",
    "           print(\"Numerical Sequence : \", text_to_sequence[i])\n",
    "tokenizer = Tokenizer() #initializing the tokenizer\n",
    "tokenizer.fit_on_texts(X)# fitting on the sms data\n",
    "text_to_sequence = tokenizer.texts_to_sequences(X)\n",
    "\n",
    " # finding the length of largest sequence\n",
    "padded_sms_sequence_test = pad_sequences(text_to_sequence, maxlen=max_length_sequence, \n",
    "                                    padding = \"pre\") \n",
    "padded_sms_sequence_test\n"
   ]
  },
  {
   "cell_type": "code",
   "execution_count": 34,
   "id": "203f9fd6-3356-4133-8dd4-ba3d4c1375c0",
   "metadata": {
    "tags": []
   },
   "outputs": [],
   "source": [
    "lb_enc = LabelEncoder()\n",
    "y_test = lb_enc.fit_transform(df_OD_test[\"scam\"])"
   ]
  },
  {
   "cell_type": "code",
   "execution_count": 35,
   "id": "1c1a647d-f04a-403a-909c-2d8942f19cc7",
   "metadata": {
    "tags": []
   },
   "outputs": [
    {
     "data": {
      "text/plain": [
       "450"
      ]
     },
     "execution_count": 35,
     "metadata": {},
     "output_type": "execute_result"
    }
   ],
   "source": [
    "len(padded_sms_sequence_test)"
   ]
  },
  {
   "cell_type": "code",
   "execution_count": 132,
   "id": "8522e482-05a8-4b68-9ed7-97cc33f5c9f0",
   "metadata": {},
   "outputs": [
    {
     "name": "stdout",
     "output_type": "stream",
     "text": [
      "15/15 [==============================] - 3s 189ms/step\n",
      "0.45536363\n"
     ]
    },
    {
     "data": {
      "text/plain": [
       "array([[173,  58],\n",
       "       [ 53, 166]])"
      ]
     },
     "execution_count": 132,
     "metadata": {},
     "output_type": "execute_result"
    }
   ],
   "source": [
    "pred = lstm_model.predict(padded_sms_sequence_test)\n",
    "y_pred=[]\n",
    "med= np.median(pred)\n",
    "print(med)\n",
    "for i in range(0,pred.size):\n",
    "    if pred[i][0] >med:\n",
    "        y_pred.append(1)\n",
    "    else:\n",
    "        y_pred.append(0)\n",
    "from sklearn.metrics import confusion_matrix\n",
    "\n",
    "\n",
    "confusion_matrix(y_test, y_pred)"
   ]
  },
  {
   "cell_type": "code",
   "execution_count": 133,
   "id": "9fe57dc8-5a3a-4214-9b12-8ade6931b7c3",
   "metadata": {
    "tags": []
   },
   "outputs": [],
   "source": [
    "hist,bins = np.histogram(pred,bins = [0,0.2,0.4,0.6,0.8,1]) "
   ]
  },
  {
   "cell_type": "code",
   "execution_count": 134,
   "id": "49ab41a5-1ef8-4d6f-a274-34f21a866918",
   "metadata": {},
   "outputs": [
    {
     "data": {
      "text/plain": [
       "array([209,  12,   6,  43, 180])"
      ]
     },
     "execution_count": 134,
     "metadata": {},
     "output_type": "execute_result"
    }
   ],
   "source": [
    "hist"
   ]
  },
  {
   "cell_type": "code",
   "execution_count": 36,
   "id": "1650b548-8a02-4eba-adcc-bc10c16147c4",
   "metadata": {},
   "outputs": [
    {
     "ename": "NameError",
     "evalue": "name 'lstm_model' is not defined",
     "output_type": "error",
     "traceback": [
      "\u001b[0;31m---------------------------------------------------------------------------\u001b[0m",
      "\u001b[0;31mNameError\u001b[0m                                 Traceback (most recent call last)",
      "Cell \u001b[0;32mIn[36], line 2\u001b[0m\n\u001b[1;32m      1\u001b[0m \u001b[38;5;28;01mimport\u001b[39;00m \u001b[38;5;21;01mpickle\u001b[39;00m\n\u001b[0;32m----> 2\u001b[0m pickle\u001b[38;5;241m.\u001b[39mdump(\u001b[43mlstm_model\u001b[49m, \u001b[38;5;28mopen\u001b[39m(\u001b[38;5;124m'\u001b[39m\u001b[38;5;124mmodel2.pkl\u001b[39m\u001b[38;5;124m'\u001b[39m, \u001b[38;5;124m'\u001b[39m\u001b[38;5;124mwb\u001b[39m\u001b[38;5;124m'\u001b[39m))\n",
      "\u001b[0;31mNameError\u001b[0m: name 'lstm_model' is not defined"
     ]
    }
   ],
   "source": [
    "import pickle\n",
    "pickle.dump(lstm_model, open('model2.pkl', 'wb'))"
   ]
  },
  {
   "cell_type": "code",
   "execution_count": 64,
   "id": "115747df-fcd5-4f32-b004-fe6faebc3dc1",
   "metadata": {},
   "outputs": [
    {
     "name": "stdout",
     "output_type": "stream",
     "text": [
      "15/15 [==============================] - 2s 142ms/step\n",
      "0.4568141\n"
     ]
    },
    {
     "data": {
      "text/plain": [
       "array([[153,  78],\n",
       "       [ 72, 147]])"
      ]
     },
     "execution_count": 64,
     "metadata": {},
     "output_type": "execute_result"
    }
   ],
   "source": [
    "model = pickle.load(open('model2.pkl','rb'))\n",
    "pred = model.predict(padded_sms_sequence_test)\n",
    "\n",
    "y_pred=[]\n",
    "y_column=[]\n",
    "med= np.median(pred)\n",
    "print(med)\n",
    "for i in range(0,pred.size):\n",
    "    if pred[i][0] >med:\n",
    "        y_pred.append(1)\n",
    "    else:\n",
    "        y_pred.append(0)\n",
    "    y_column.append(pred[i][0])\n",
    "from sklearn.metrics import confusion_matrix\n",
    "\n",
    "confusion_matrix(y_test, y_pred)"
   ]
  },
  {
   "cell_type": "code",
   "execution_count": 65,
   "id": "050b881c-6110-4f04-8271-d97e6b4987c6",
   "metadata": {
    "tags": []
   },
   "outputs": [],
   "source": [
    "df_test['LSTM_PREDICT'] = y_pred"
   ]
  },
  {
   "cell_type": "code",
   "execution_count": 66,
   "id": "becbef16-eab0-420b-9202-9e7e4caff78a",
   "metadata": {
    "tags": []
   },
   "outputs": [],
   "source": [
    "df_test['LSTM_PROB']=y_column"
   ]
  },
  {
   "cell_type": "code",
   "execution_count": 67,
   "id": "db4802c8-8b04-4d89-9e65-b916b63f6d13",
   "metadata": {
    "tags": []
   },
   "outputs": [],
   "source": [
    "df_test.to_csv('EDA_Dataset.csv',index=False)"
   ]
  },
  {
   "cell_type": "code",
   "execution_count": 68,
   "id": "703a3c44-273a-4c56-9870-38918156f0f0",
   "metadata": {
    "tags": []
   },
   "outputs": [],
   "source": [
    "df_works=pd.read_csv('EDA_Dataset.csv')"
   ]
  },
  {
   "cell_type": "code",
   "execution_count": 71,
   "id": "301aeca9-ada7-4d23-8178-549e985652c0",
   "metadata": {
    "tags": []
   },
   "outputs": [],
   "source": [
    "df_true=df_works[df_works['fraudulent']=='t']"
   ]
  },
  {
   "cell_type": "code",
   "execution_count": 72,
   "id": "a6b47425-6b8f-49bc-929b-00bc92a97f1e",
   "metadata": {
    "tags": []
   },
   "outputs": [
    {
     "data": {
      "text/plain": [
       "0.6710159621187214"
      ]
     },
     "execution_count": 72,
     "metadata": {},
     "output_type": "execute_result"
    }
   ],
   "source": [
    "sum(df_true['LSTM_PROB'])/len(df_true['LSTM_PROB'])"
   ]
  },
  {
   "cell_type": "code",
   "execution_count": 73,
   "id": "bc2e379c-b6ab-4644-aefb-9650ede28f4d",
   "metadata": {},
   "outputs": [],
   "source": [
    "df_false=df_works[df_works['fraudulent']=='f']"
   ]
  },
  {
   "cell_type": "code",
   "execution_count": 74,
   "id": "09e1892c-b048-49cd-8176-51275382c87d",
   "metadata": {},
   "outputs": [
    {
     "data": {
      "text/plain": [
       "0.395886385116883"
      ]
     },
     "execution_count": 74,
     "metadata": {},
     "output_type": "execute_result"
    }
   ],
   "source": [
    "sum(df_false['LSTM_PROB'])/len(df_false['LSTM_PROB'])"
   ]
  },
  {
   "cell_type": "code",
   "execution_count": null,
   "id": "61fce0ec-f2b3-42c5-9655-22e9cc8ce154",
   "metadata": {},
   "outputs": [],
   "source": []
  }
 ],
 "metadata": {
  "kernelspec": {
   "display_name": "Python 3 (ipykernel)",
   "language": "python",
   "name": "python3"
  },
  "language_info": {
   "codemirror_mode": {
    "name": "ipython",
    "version": 3
   },
   "file_extension": ".py",
   "mimetype": "text/x-python",
   "name": "python",
   "nbconvert_exporter": "python",
   "pygments_lexer": "ipython3",
   "version": "3.8.2"
  }
 },
 "nbformat": 4,
 "nbformat_minor": 5
}
