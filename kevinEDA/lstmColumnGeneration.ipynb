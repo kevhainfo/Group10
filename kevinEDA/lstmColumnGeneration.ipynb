{
 "cells": [
  {
   "cell_type": "code",
   "execution_count": 21,
   "id": "0fefda21-31aa-480f-8709-7fe8d99ddf54",
   "metadata": {
    "tags": []
   },
   "outputs": [
    {
     "name": "stderr",
     "output_type": "stream",
     "text": [
      "[nltk_data] Downloading package wordnet to /Users/kevinha/nltk_data...\n",
      "[nltk_data]   Package wordnet is already up-to-date!\n"
     ]
    }
   ],
   "source": [
    "\n",
    "import pandas as pd\n",
    "import numpy as np\n",
    "import re\n",
    "import collections\n",
    "import contractions\n",
    "import seaborn as sns\n",
    "import matplotlib.pyplot as plt\n",
    "plt.style.use('dark_background')\n",
    "import nltk\n",
    "nltk.download('wordnet')\n",
    "from nltk.stem import WordNetLemmatizer\n",
    "from nltk.corpus import stopwords\n",
    "import warnings\n",
    "warnings.simplefilter(action='ignore', category=Warning)\n",
    "import keras\n",
    "from keras.layers import Dense, Embedding, LSTM, Dropout\n",
    "from keras.models import Sequential\n",
    "from keras.preprocessing.text import Tokenizer\n",
    "from keras.preprocessing.sequence import pad_sequences"
   ]
  },
  {
   "cell_type": "code",
   "execution_count": 22,
   "id": "b760182c-50be-40e5-a9d7-0f5e0ffd9900",
   "metadata": {
    "tags": []
   },
   "outputs": [],
   "source": [
    "df2=pd.read_csv('balanced_dataset_training.csv', encoding='latin')\n",
    "df_test=pd.read_csv('balanced_dataset_testing.csv', encoding='latin')"
   ]
  },
  {
   "cell_type": "code",
   "execution_count": 23,
   "id": "cbc08e2d-8def-46eb-bf5a-366b333a8a27",
   "metadata": {
    "tags": []
   },
   "outputs": [
    {
     "data": {
      "text/html": [
       "<div>\n",
       "<style scoped>\n",
       "    .dataframe tbody tr th:only-of-type {\n",
       "        vertical-align: middle;\n",
       "    }\n",
       "\n",
       "    .dataframe tbody tr th {\n",
       "        vertical-align: top;\n",
       "    }\n",
       "\n",
       "    .dataframe thead th {\n",
       "        text-align: right;\n",
       "    }\n",
       "</style>\n",
       "<table border=\"1\" class=\"dataframe\">\n",
       "  <thead>\n",
       "    <tr style=\"text-align: right;\">\n",
       "      <th></th>\n",
       "      <th>Unnamed: 0</th>\n",
       "      <th>title</th>\n",
       "      <th>location</th>\n",
       "      <th>department</th>\n",
       "      <th>salary_range</th>\n",
       "      <th>company_profile</th>\n",
       "      <th>description</th>\n",
       "      <th>requirements</th>\n",
       "      <th>benefits</th>\n",
       "      <th>telecommuting</th>\n",
       "      <th>has_company_logo</th>\n",
       "      <th>has_questions</th>\n",
       "      <th>employment_type</th>\n",
       "      <th>required_experience</th>\n",
       "      <th>required_education</th>\n",
       "      <th>industry</th>\n",
       "      <th>function</th>\n",
       "      <th>fraudulent</th>\n",
       "      <th>in_balanced_dataset</th>\n",
       "    </tr>\n",
       "  </thead>\n",
       "  <tbody>\n",
       "    <tr>\n",
       "      <th>0</th>\n",
       "      <td>421</td>\n",
       "      <td>Mobile Engineer</td>\n",
       "      <td>US, ND, Bismarck</td>\n",
       "      <td>NaN</td>\n",
       "      <td>NaN</td>\n",
       "      <td>&lt;p&gt;We're changing how the world creates and pu...</td>\n",
       "      <td>&lt;p&gt;We are looking for a mobile application eng...</td>\n",
       "      <td>&lt;h3&gt;The Musts:&lt;/h3&gt;\\r\\n&lt;ul&gt;\\r\\n&lt;li&gt;You think b...</td>\n",
       "      <td>&lt;h3&gt;The Perks (full-time only):&lt;/h3&gt;\\r\\n&lt;ul&gt;\\r...</td>\n",
       "      <td>f</td>\n",
       "      <td>t</td>\n",
       "      <td>t</td>\n",
       "      <td>Full-time</td>\n",
       "      <td>Entry level</td>\n",
       "      <td>Unspecified</td>\n",
       "      <td>Program Development</td>\n",
       "      <td>Other</td>\n",
       "      <td>f</td>\n",
       "      <td>t</td>\n",
       "    </tr>\n",
       "    <tr>\n",
       "      <th>1</th>\n",
       "      <td>545</td>\n",
       "      <td>BI Consultant &amp; Database Expert</td>\n",
       "      <td>BE, ,</td>\n",
       "      <td>tech</td>\n",
       "      <td>NaN</td>\n",
       "      <td>&lt;p&gt;hello world&lt;/p&gt;\\r\\n&lt;p&gt;talents23_ drives the...</td>\n",
       "      <td>&lt;p&gt;This fast growing company specialized in da...</td>\n",
       "      <td>&lt;ul&gt;\\r\\n&lt;li&gt;You know SQL and have professional...</td>\n",
       "      <td>&lt;ul&gt;\\r\\n&lt;li&gt;WeÃÂ¢ÃÂÃÂre theÃÂÃÂ key An...</td>\n",
       "      <td>f</td>\n",
       "      <td>t</td>\n",
       "      <td>t</td>\n",
       "      <td>Full-time</td>\n",
       "      <td>Associate</td>\n",
       "      <td>NaN</td>\n",
       "      <td>NaN</td>\n",
       "      <td>NaN</td>\n",
       "      <td>f</td>\n",
       "      <td>t</td>\n",
       "    </tr>\n",
       "    <tr>\n",
       "      <th>2</th>\n",
       "      <td>806</td>\n",
       "      <td>Customer Service Representative</td>\n",
       "      <td>US, TX, SAN ANTONIO</td>\n",
       "      <td>NaN</td>\n",
       "      <td>NaN</td>\n",
       "      <td>NaN</td>\n",
       "      <td>&lt;p&gt;SUMMARYResponsible for acting as a liaison ...</td>\n",
       "      <td>&lt;p&gt;Experience: Proficiency with Microsoft Word...</td>\n",
       "      <td>&lt;p&gt;You would be eligible to Benefits after 2mo...</td>\n",
       "      <td>f</td>\n",
       "      <td>f</td>\n",
       "      <td>f</td>\n",
       "      <td>Full-time</td>\n",
       "      <td>Not Applicable</td>\n",
       "      <td>High School or equivalent</td>\n",
       "      <td>Consumer Services</td>\n",
       "      <td>Customer Service</td>\n",
       "      <td>t</td>\n",
       "      <td>t</td>\n",
       "    </tr>\n",
       "    <tr>\n",
       "      <th>3</th>\n",
       "      <td>803</td>\n",
       "      <td>Administrative Assistant</td>\n",
       "      <td>US, CA, Santa Ana</td>\n",
       "      <td>NaN</td>\n",
       "      <td>NaN</td>\n",
       "      <td>NaN</td>\n",
       "      <td>&lt;p&gt;ÃÂÃÂ In addition to clerical and adminis...</td>\n",
       "      <td>NaN</td>\n",
       "      <td>&lt;p&gt;No requirements&lt;/p&gt;</td>\n",
       "      <td>f</td>\n",
       "      <td>f</td>\n",
       "      <td>f</td>\n",
       "      <td>Full-time</td>\n",
       "      <td>NaN</td>\n",
       "      <td>NaN</td>\n",
       "      <td>Accounting</td>\n",
       "      <td>Administrative</td>\n",
       "      <td>t</td>\n",
       "      <td>t</td>\n",
       "    </tr>\n",
       "    <tr>\n",
       "      <th>4</th>\n",
       "      <td>147</td>\n",
       "      <td>Key Account Manager Switzerland</td>\n",
       "      <td>CH, BS, Basel</td>\n",
       "      <td>Sales</td>\n",
       "      <td>NaN</td>\n",
       "      <td>NaN</td>\n",
       "      <td>&lt;p&gt;Are you looking for a career that will chal...</td>\n",
       "      <td>NaN</td>\n",
       "      <td>NaN</td>\n",
       "      <td>f</td>\n",
       "      <td>t</td>\n",
       "      <td>t</td>\n",
       "      <td>Full-time</td>\n",
       "      <td>Associate</td>\n",
       "      <td>Bachelor's Degree</td>\n",
       "      <td>Education Management</td>\n",
       "      <td>Sales</td>\n",
       "      <td>f</td>\n",
       "      <td>t</td>\n",
       "    </tr>\n",
       "  </tbody>\n",
       "</table>\n",
       "</div>"
      ],
      "text/plain": [
       "   Unnamed: 0                            title             location  \\\n",
       "0         421                  Mobile Engineer     US, ND, Bismarck   \n",
       "1         545  BI Consultant & Database Expert               BE, ,    \n",
       "2         806  Customer Service Representative  US, TX, SAN ANTONIO   \n",
       "3         803         Administrative Assistant    US, CA, Santa Ana   \n",
       "4         147  Key Account Manager Switzerland        CH, BS, Basel   \n",
       "\n",
       "  department salary_range                                    company_profile  \\\n",
       "0        NaN          NaN  <p>We're changing how the world creates and pu...   \n",
       "1       tech          NaN  <p>hello world</p>\\r\\n<p>talents23_ drives the...   \n",
       "2        NaN          NaN                                                NaN   \n",
       "3        NaN          NaN                                                NaN   \n",
       "4      Sales          NaN                                                NaN   \n",
       "\n",
       "                                         description  \\\n",
       "0  <p>We are looking for a mobile application eng...   \n",
       "1  <p>This fast growing company specialized in da...   \n",
       "2  <p>SUMMARYResponsible for acting as a liaison ...   \n",
       "3  <p>ÃÂÃÂ In addition to clerical and adminis...   \n",
       "4  <p>Are you looking for a career that will chal...   \n",
       "\n",
       "                                        requirements  \\\n",
       "0  <h3>The Musts:</h3>\\r\\n<ul>\\r\\n<li>You think b...   \n",
       "1  <ul>\\r\\n<li>You know SQL and have professional...   \n",
       "2  <p>Experience: Proficiency with Microsoft Word...   \n",
       "3                                                NaN   \n",
       "4                                                NaN   \n",
       "\n",
       "                                            benefits telecommuting  \\\n",
       "0  <h3>The Perks (full-time only):</h3>\\r\\n<ul>\\r...             f   \n",
       "1  <ul>\\r\\n<li>WeÃÂ¢ÃÂÃÂre theÃÂÃÂ key An...             f   \n",
       "2  <p>You would be eligible to Benefits after 2mo...             f   \n",
       "3                             <p>No requirements</p>             f   \n",
       "4                                                NaN             f   \n",
       "\n",
       "  has_company_logo has_questions employment_type required_experience  \\\n",
       "0                t             t       Full-time         Entry level   \n",
       "1                t             t       Full-time           Associate   \n",
       "2                f             f       Full-time      Not Applicable   \n",
       "3                f             f       Full-time                 NaN   \n",
       "4                t             t       Full-time           Associate   \n",
       "\n",
       "          required_education              industry          function  \\\n",
       "0                Unspecified   Program Development             Other   \n",
       "1                        NaN                   NaN               NaN   \n",
       "2  High School or equivalent     Consumer Services  Customer Service   \n",
       "3                        NaN            Accounting    Administrative   \n",
       "4          Bachelor's Degree  Education Management             Sales   \n",
       "\n",
       "  fraudulent in_balanced_dataset  \n",
       "0          f                   t  \n",
       "1          f                   t  \n",
       "2          t                   t  \n",
       "3          t                   t  \n",
       "4          f                   t  "
      ]
     },
     "execution_count": 23,
     "metadata": {},
     "output_type": "execute_result"
    }
   ],
   "source": [
    "df2.head()"
   ]
  },
  {
   "cell_type": "code",
   "execution_count": 24,
   "id": "5734163a-eb00-4ab7-bc45-ec68bee03e25",
   "metadata": {
    "tags": []
   },
   "outputs": [
    {
     "data": {
      "text/plain": [
       "Unnamed: 0               0\n",
       "title                    0\n",
       "location                 9\n",
       "department             310\n",
       "salary_range           363\n",
       "company_profile        249\n",
       "description              0\n",
       "requirements            88\n",
       "benefits               179\n",
       "telecommuting            0\n",
       "has_company_logo         0\n",
       "has_questions            0\n",
       "employment_type        132\n",
       "required_experience    189\n",
       "required_education     230\n",
       "industry               162\n",
       "function               177\n",
       "fraudulent               0\n",
       "in_balanced_dataset      0\n",
       "dtype: int64"
      ]
     },
     "execution_count": 24,
     "metadata": {},
     "output_type": "execute_result"
    }
   ],
   "source": [
    "df2.isna().sum()"
   ]
  },
  {
   "cell_type": "code",
   "execution_count": 25,
   "id": "ea017e40-005f-47d5-99c4-ad3978789b13",
   "metadata": {
    "tags": []
   },
   "outputs": [
    {
     "data": {
      "text/html": [
       "<div>\n",
       "<style scoped>\n",
       "    .dataframe tbody tr th:only-of-type {\n",
       "        vertical-align: middle;\n",
       "    }\n",
       "\n",
       "    .dataframe tbody tr th {\n",
       "        vertical-align: top;\n",
       "    }\n",
       "\n",
       "    .dataframe thead th {\n",
       "        text-align: right;\n",
       "    }\n",
       "</style>\n",
       "<table border=\"1\" class=\"dataframe\">\n",
       "  <thead>\n",
       "    <tr style=\"text-align: right;\">\n",
       "      <th></th>\n",
       "      <th>Unnamed: 0</th>\n",
       "      <th>title</th>\n",
       "      <th>location</th>\n",
       "      <th>department</th>\n",
       "      <th>salary_range</th>\n",
       "      <th>company_profile</th>\n",
       "      <th>description</th>\n",
       "      <th>requirements</th>\n",
       "      <th>benefits</th>\n",
       "      <th>telecommuting</th>\n",
       "      <th>has_company_logo</th>\n",
       "      <th>has_questions</th>\n",
       "      <th>employment_type</th>\n",
       "      <th>required_experience</th>\n",
       "      <th>required_education</th>\n",
       "      <th>industry</th>\n",
       "      <th>function</th>\n",
       "      <th>fraudulent</th>\n",
       "      <th>in_balanced_dataset</th>\n",
       "    </tr>\n",
       "  </thead>\n",
       "  <tbody>\n",
       "    <tr>\n",
       "      <th>0</th>\n",
       "      <td>421</td>\n",
       "      <td>Mobile Engineer</td>\n",
       "      <td>US, ND, Bismarck</td>\n",
       "      <td></td>\n",
       "      <td></td>\n",
       "      <td>&lt;p&gt;We're changing how the world creates and pu...</td>\n",
       "      <td>&lt;p&gt;We're changing how the world creates and pu...</td>\n",
       "      <td>&lt;h3&gt;The Musts:&lt;/h3&gt;\\r\\n&lt;ul&gt;\\r\\n&lt;li&gt;You think b...</td>\n",
       "      <td>&lt;h3&gt;The Perks (full-time only):&lt;/h3&gt;\\r\\n&lt;ul&gt;\\r...</td>\n",
       "      <td>f</td>\n",
       "      <td>t</td>\n",
       "      <td>t</td>\n",
       "      <td>Full-time</td>\n",
       "      <td>Entry level</td>\n",
       "      <td>Unspecified</td>\n",
       "      <td>Program Development</td>\n",
       "      <td>Other</td>\n",
       "      <td>f</td>\n",
       "      <td>t</td>\n",
       "    </tr>\n",
       "    <tr>\n",
       "      <th>1</th>\n",
       "      <td>545</td>\n",
       "      <td>BI Consultant &amp; Database Expert</td>\n",
       "      <td>BE, ,</td>\n",
       "      <td>tech</td>\n",
       "      <td></td>\n",
       "      <td>&lt;p&gt;hello world&lt;/p&gt;\\r\\n&lt;p&gt;talents23_ drives the...</td>\n",
       "      <td>&lt;p&gt;hello world&lt;/p&gt;\\r\\n&lt;p&gt;talents23_ drives the...</td>\n",
       "      <td>&lt;ul&gt;\\r\\n&lt;li&gt;You know SQL and have professional...</td>\n",
       "      <td>&lt;ul&gt;\\r\\n&lt;li&gt;WeÃÂ¢ÃÂÃÂre theÃÂÃÂ key An...</td>\n",
       "      <td>f</td>\n",
       "      <td>t</td>\n",
       "      <td>t</td>\n",
       "      <td>Full-time</td>\n",
       "      <td>Associate</td>\n",
       "      <td></td>\n",
       "      <td></td>\n",
       "      <td></td>\n",
       "      <td>f</td>\n",
       "      <td>t</td>\n",
       "    </tr>\n",
       "    <tr>\n",
       "      <th>2</th>\n",
       "      <td>806</td>\n",
       "      <td>Customer Service Representative</td>\n",
       "      <td>US, TX, SAN ANTONIO</td>\n",
       "      <td></td>\n",
       "      <td></td>\n",
       "      <td></td>\n",
       "      <td>&lt;p&gt;SUMMARYResponsible for acting as a liaison...</td>\n",
       "      <td>&lt;p&gt;Experience: Proficiency with Microsoft Word...</td>\n",
       "      <td>&lt;p&gt;You would be eligible to Benefits after 2mo...</td>\n",
       "      <td>f</td>\n",
       "      <td>f</td>\n",
       "      <td>f</td>\n",
       "      <td>Full-time</td>\n",
       "      <td>Not Applicable</td>\n",
       "      <td>High School or equivalent</td>\n",
       "      <td>Consumer Services</td>\n",
       "      <td>Customer Service</td>\n",
       "      <td>t</td>\n",
       "      <td>t</td>\n",
       "    </tr>\n",
       "    <tr>\n",
       "      <th>3</th>\n",
       "      <td>803</td>\n",
       "      <td>Administrative Assistant</td>\n",
       "      <td>US, CA, Santa Ana</td>\n",
       "      <td></td>\n",
       "      <td></td>\n",
       "      <td></td>\n",
       "      <td>&lt;p&gt;ÃÂÃÂ In addition to clerical and admini...</td>\n",
       "      <td></td>\n",
       "      <td>&lt;p&gt;No requirements&lt;/p&gt;</td>\n",
       "      <td>f</td>\n",
       "      <td>f</td>\n",
       "      <td>f</td>\n",
       "      <td>Full-time</td>\n",
       "      <td></td>\n",
       "      <td></td>\n",
       "      <td>Accounting</td>\n",
       "      <td>Administrative</td>\n",
       "      <td>t</td>\n",
       "      <td>t</td>\n",
       "    </tr>\n",
       "    <tr>\n",
       "      <th>4</th>\n",
       "      <td>147</td>\n",
       "      <td>Key Account Manager Switzerland</td>\n",
       "      <td>CH, BS, Basel</td>\n",
       "      <td>Sales</td>\n",
       "      <td></td>\n",
       "      <td></td>\n",
       "      <td>&lt;p&gt;Are you looking for a career that will cha...</td>\n",
       "      <td></td>\n",
       "      <td></td>\n",
       "      <td>f</td>\n",
       "      <td>t</td>\n",
       "      <td>t</td>\n",
       "      <td>Full-time</td>\n",
       "      <td>Associate</td>\n",
       "      <td>Bachelor's Degree</td>\n",
       "      <td>Education Management</td>\n",
       "      <td>Sales</td>\n",
       "      <td>f</td>\n",
       "      <td>t</td>\n",
       "    </tr>\n",
       "    <tr>\n",
       "      <th>...</th>\n",
       "      <td>...</td>\n",
       "      <td>...</td>\n",
       "      <td>...</td>\n",
       "      <td>...</td>\n",
       "      <td>...</td>\n",
       "      <td>...</td>\n",
       "      <td>...</td>\n",
       "      <td>...</td>\n",
       "      <td>...</td>\n",
       "      <td>...</td>\n",
       "      <td>...</td>\n",
       "      <td>...</td>\n",
       "      <td>...</td>\n",
       "      <td>...</td>\n",
       "      <td>...</td>\n",
       "      <td>...</td>\n",
       "      <td>...</td>\n",
       "      <td>...</td>\n",
       "      <td>...</td>\n",
       "    </tr>\n",
       "    <tr>\n",
       "      <th>445</th>\n",
       "      <td>718</td>\n",
       "      <td>Data Entry</td>\n",
       "      <td>US, FL, HILLIARD FL</td>\n",
       "      <td></td>\n",
       "      <td>25-30</td>\n",
       "      <td></td>\n",
       "      <td>&lt;p&gt;Prepares source data for computer entry by...</td>\n",
       "      <td>&lt;p&gt;We are seeking extremely motivated and expe...</td>\n",
       "      <td>&lt;p&gt;ÃÂÃÂ Health, Dental, Life and AD&amp;amp;D I...</td>\n",
       "      <td>f</td>\n",
       "      <td>f</td>\n",
       "      <td>f</td>\n",
       "      <td>Contract</td>\n",
       "      <td>Internship</td>\n",
       "      <td></td>\n",
       "      <td>Consumer Services</td>\n",
       "      <td>Accounting/Auditing</td>\n",
       "      <td>t</td>\n",
       "      <td>t</td>\n",
       "    </tr>\n",
       "    <tr>\n",
       "      <th>446</th>\n",
       "      <td>826</td>\n",
       "      <td>Personal Assistant</td>\n",
       "      <td>US, NY, New York</td>\n",
       "      <td>Admin - Clerical</td>\n",
       "      <td></td>\n",
       "      <td></td>\n",
       "      <td>&lt;p&gt;Job Description&lt;/p&gt;\\r\\n&lt;p&gt;&lt;br&gt;Vertex Globa...</td>\n",
       "      <td></td>\n",
       "      <td></td>\n",
       "      <td>f</td>\n",
       "      <td>f</td>\n",
       "      <td>f</td>\n",
       "      <td>Temporary</td>\n",
       "      <td>Entry level</td>\n",
       "      <td>Unspecified</td>\n",
       "      <td>Telecommunications</td>\n",
       "      <td>Administrative</td>\n",
       "      <td>t</td>\n",
       "      <td>t</td>\n",
       "    </tr>\n",
       "    <tr>\n",
       "      <th>447</th>\n",
       "      <td>675</td>\n",
       "      <td>OR Specialty Coordinator</td>\n",
       "      <td>US, ,</td>\n",
       "      <td></td>\n",
       "      <td></td>\n",
       "      <td></td>\n",
       "      <td>&lt;p&gt;&lt;b&gt;Apply using below link&lt;/b&gt;&lt;/p&gt;\\r\\n&lt;p&gt;&lt;b...</td>\n",
       "      <td></td>\n",
       "      <td></td>\n",
       "      <td>f</td>\n",
       "      <td>f</td>\n",
       "      <td>f</td>\n",
       "      <td>Full-time</td>\n",
       "      <td></td>\n",
       "      <td></td>\n",
       "      <td>Hospital &amp; Health Care</td>\n",
       "      <td></td>\n",
       "      <td>t</td>\n",
       "      <td>t</td>\n",
       "    </tr>\n",
       "    <tr>\n",
       "      <th>448</th>\n",
       "      <td>555</td>\n",
       "      <td>Sales Consultant NYC</td>\n",
       "      <td>US, NY, New York</td>\n",
       "      <td></td>\n",
       "      <td></td>\n",
       "      <td>&lt;p&gt;Sarbari is a high-growth, investment-backed...</td>\n",
       "      <td>&lt;p&gt;Sarbari is a high-growth, investment-backed...</td>\n",
       "      <td></td>\n",
       "      <td>&lt;p&gt;Sarbari offers a base salary and high earni...</td>\n",
       "      <td>f</td>\n",
       "      <td>t</td>\n",
       "      <td>f</td>\n",
       "      <td>Full-time</td>\n",
       "      <td>Associate</td>\n",
       "      <td></td>\n",
       "      <td>Food &amp; Beverages</td>\n",
       "      <td>Sales</td>\n",
       "      <td>f</td>\n",
       "      <td>t</td>\n",
       "    </tr>\n",
       "    <tr>\n",
       "      <th>449</th>\n",
       "      <td>439</td>\n",
       "      <td>Account Manager</td>\n",
       "      <td>NZ, N, Auckland</td>\n",
       "      <td>Customer Service</td>\n",
       "      <td>55000-65000</td>\n",
       "      <td>&lt;p&gt;HealthLink provides a computer communicatio...</td>\n",
       "      <td>&lt;p&gt;HealthLink provides a computer communicatio...</td>\n",
       "      <td>&lt;ul&gt;\\r\\n&lt;li&gt;Good computer skills: experience i...</td>\n",
       "      <td>&lt;ul&gt;\\r\\n&lt;li&gt;Stimulating environment with high ...</td>\n",
       "      <td>f</td>\n",
       "      <td>t</td>\n",
       "      <td>t</td>\n",
       "      <td>Full-time</td>\n",
       "      <td>Not Applicable</td>\n",
       "      <td>Bachelor's Degree</td>\n",
       "      <td>Information Technology and Services</td>\n",
       "      <td>Customer Service</td>\n",
       "      <td>f</td>\n",
       "      <td>t</td>\n",
       "    </tr>\n",
       "  </tbody>\n",
       "</table>\n",
       "<p>450 rows × 19 columns</p>\n",
       "</div>"
      ],
      "text/plain": [
       "     Unnamed: 0                            title               location  \\\n",
       "0           421                  Mobile Engineer       US, ND, Bismarck   \n",
       "1           545  BI Consultant & Database Expert                 BE, ,    \n",
       "2           806  Customer Service Representative    US, TX, SAN ANTONIO   \n",
       "3           803         Administrative Assistant      US, CA, Santa Ana   \n",
       "4           147  Key Account Manager Switzerland          CH, BS, Basel   \n",
       "..          ...                              ...                    ...   \n",
       "445         718                       Data Entry  US, FL, HILLIARD FL     \n",
       "446         826               Personal Assistant       US, NY, New York   \n",
       "447         675         OR Specialty Coordinator                 US, ,    \n",
       "448         555             Sales Consultant NYC       US, NY, New York   \n",
       "449         439                  Account Manager        NZ, N, Auckland   \n",
       "\n",
       "           department salary_range  \\\n",
       "0                                    \n",
       "1                tech                \n",
       "2                                    \n",
       "3                                    \n",
       "4               Sales                \n",
       "..                ...          ...   \n",
       "445                          25-30   \n",
       "446  Admin - Clerical                \n",
       "447                                  \n",
       "448                                  \n",
       "449  Customer Service  55000-65000   \n",
       "\n",
       "                                       company_profile  \\\n",
       "0    <p>We're changing how the world creates and pu...   \n",
       "1    <p>hello world</p>\\r\\n<p>talents23_ drives the...   \n",
       "2                                                        \n",
       "3                                                        \n",
       "4                                                        \n",
       "..                                                 ...   \n",
       "445                                                      \n",
       "446                                                      \n",
       "447                                                      \n",
       "448  <p>Sarbari is a high-growth, investment-backed...   \n",
       "449  <p>HealthLink provides a computer communicatio...   \n",
       "\n",
       "                                           description  \\\n",
       "0    <p>We're changing how the world creates and pu...   \n",
       "1    <p>hello world</p>\\r\\n<p>talents23_ drives the...   \n",
       "2     <p>SUMMARYResponsible for acting as a liaison...   \n",
       "3     <p>ÃÂÃÂ In addition to clerical and admini...   \n",
       "4     <p>Are you looking for a career that will cha...   \n",
       "..                                                 ...   \n",
       "445   <p>Prepares source data for computer entry by...   \n",
       "446   <p>Job Description</p>\\r\\n<p><br>Vertex Globa...   \n",
       "447   <p><b>Apply using below link</b></p>\\r\\n<p><b...   \n",
       "448  <p>Sarbari is a high-growth, investment-backed...   \n",
       "449  <p>HealthLink provides a computer communicatio...   \n",
       "\n",
       "                                          requirements  \\\n",
       "0    <h3>The Musts:</h3>\\r\\n<ul>\\r\\n<li>You think b...   \n",
       "1    <ul>\\r\\n<li>You know SQL and have professional...   \n",
       "2    <p>Experience: Proficiency with Microsoft Word...   \n",
       "3                                                        \n",
       "4                                                        \n",
       "..                                                 ...   \n",
       "445  <p>We are seeking extremely motivated and expe...   \n",
       "446                                                      \n",
       "447                                                      \n",
       "448                                                      \n",
       "449  <ul>\\r\\n<li>Good computer skills: experience i...   \n",
       "\n",
       "                                              benefits telecommuting  \\\n",
       "0    <h3>The Perks (full-time only):</h3>\\r\\n<ul>\\r...             f   \n",
       "1    <ul>\\r\\n<li>WeÃÂ¢ÃÂÃÂre theÃÂÃÂ key An...             f   \n",
       "2    <p>You would be eligible to Benefits after 2mo...             f   \n",
       "3                               <p>No requirements</p>             f   \n",
       "4                                                                  f   \n",
       "..                                                 ...           ...   \n",
       "445  <p>ÃÂÃÂ Health, Dental, Life and AD&amp;D I...             f   \n",
       "446                                                                f   \n",
       "447                                                                f   \n",
       "448  <p>Sarbari offers a base salary and high earni...             f   \n",
       "449  <ul>\\r\\n<li>Stimulating environment with high ...             f   \n",
       "\n",
       "    has_company_logo has_questions employment_type required_experience  \\\n",
       "0                  t             t       Full-time         Entry level   \n",
       "1                  t             t       Full-time           Associate   \n",
       "2                  f             f       Full-time      Not Applicable   \n",
       "3                  f             f       Full-time                       \n",
       "4                  t             t       Full-time           Associate   \n",
       "..               ...           ...             ...                 ...   \n",
       "445                f             f        Contract          Internship   \n",
       "446                f             f       Temporary         Entry level   \n",
       "447                f             f       Full-time                       \n",
       "448                t             f       Full-time           Associate   \n",
       "449                t             t       Full-time      Not Applicable   \n",
       "\n",
       "            required_education                             industry  \\\n",
       "0                  Unspecified                  Program Development   \n",
       "1                                                                     \n",
       "2    High School or equivalent                    Consumer Services   \n",
       "3                                                        Accounting   \n",
       "4            Bachelor's Degree                 Education Management   \n",
       "..                         ...                                  ...   \n",
       "445                                               Consumer Services   \n",
       "446                Unspecified                   Telecommunications   \n",
       "447                                          Hospital & Health Care   \n",
       "448                                                Food & Beverages   \n",
       "449          Bachelor's Degree  Information Technology and Services   \n",
       "\n",
       "                function fraudulent in_balanced_dataset  \n",
       "0                  Other          f                   t  \n",
       "1                                 f                   t  \n",
       "2       Customer Service          t                   t  \n",
       "3         Administrative          t                   t  \n",
       "4                  Sales          f                   t  \n",
       "..                   ...        ...                 ...  \n",
       "445  Accounting/Auditing          t                   t  \n",
       "446       Administrative          t                   t  \n",
       "447                               t                   t  \n",
       "448                Sales          f                   t  \n",
       "449     Customer Service          f                   t  \n",
       "\n",
       "[450 rows x 19 columns]"
      ]
     },
     "execution_count": 25,
     "metadata": {},
     "output_type": "execute_result"
    }
   ],
   "source": [
    "df2 = df2.fillna(\"\")\n",
    "df2['description']=df2['company_profile']+\" \"+df2['description']+\" \"+ df2['requirements']+\" \"+df2['benefits']\n",
    "df2"
   ]
  },
  {
   "cell_type": "code",
   "execution_count": 26,
   "id": "4b064c37-c21a-4051-9c42-a49c86c7309d",
   "metadata": {
    "tags": []
   },
   "outputs": [
    {
     "data": {
      "text/html": [
       "<div>\n",
       "<style scoped>\n",
       "    .dataframe tbody tr th:only-of-type {\n",
       "        vertical-align: middle;\n",
       "    }\n",
       "\n",
       "    .dataframe tbody tr th {\n",
       "        vertical-align: top;\n",
       "    }\n",
       "\n",
       "    .dataframe thead th {\n",
       "        text-align: right;\n",
       "    }\n",
       "</style>\n",
       "<table border=\"1\" class=\"dataframe\">\n",
       "  <thead>\n",
       "    <tr style=\"text-align: right;\">\n",
       "      <th></th>\n",
       "      <th>fraudulent</th>\n",
       "      <th>description</th>\n",
       "      <th>scam</th>\n",
       "      <th>text</th>\n",
       "    </tr>\n",
       "  </thead>\n",
       "  <tbody>\n",
       "    <tr>\n",
       "      <th>0</th>\n",
       "      <td>f</td>\n",
       "      <td>&lt;p&gt;We're changing how the world creates and pu...</td>\n",
       "      <td>0</td>\n",
       "      <td>&lt;p&gt;We're changing how the world creates and pu...</td>\n",
       "    </tr>\n",
       "    <tr>\n",
       "      <th>1</th>\n",
       "      <td>f</td>\n",
       "      <td>&lt;p&gt;hello world&lt;/p&gt;\\r\\n&lt;p&gt;talents23_ drives the...</td>\n",
       "      <td>0</td>\n",
       "      <td>&lt;p&gt;hello world&lt;/p&gt;\\r\\n&lt;p&gt;talents23_ drives the...</td>\n",
       "    </tr>\n",
       "    <tr>\n",
       "      <th>2</th>\n",
       "      <td>t</td>\n",
       "      <td>&lt;p&gt;SUMMARYResponsible for acting as a liaison...</td>\n",
       "      <td>1</td>\n",
       "      <td>&lt;p&gt;SUMMARYResponsible for acting as a liaison...</td>\n",
       "    </tr>\n",
       "    <tr>\n",
       "      <th>3</th>\n",
       "      <td>t</td>\n",
       "      <td>&lt;p&gt;ÃÂÃÂ In addition to clerical and admini...</td>\n",
       "      <td>1</td>\n",
       "      <td>&lt;p&gt;ÃÂÃÂ In addition to clerical and admini...</td>\n",
       "    </tr>\n",
       "    <tr>\n",
       "      <th>4</th>\n",
       "      <td>f</td>\n",
       "      <td>&lt;p&gt;Are you looking for a career that will cha...</td>\n",
       "      <td>0</td>\n",
       "      <td>&lt;p&gt;Are you looking for a career that will cha...</td>\n",
       "    </tr>\n",
       "  </tbody>\n",
       "</table>\n",
       "</div>"
      ],
      "text/plain": [
       "  fraudulent                                        description  scam  \\\n",
       "0          f  <p>We're changing how the world creates and pu...     0   \n",
       "1          f  <p>hello world</p>\\r\\n<p>talents23_ drives the...     0   \n",
       "2          t   <p>SUMMARYResponsible for acting as a liaison...     1   \n",
       "3          t   <p>ÃÂÃÂ In addition to clerical and admini...     1   \n",
       "4          f   <p>Are you looking for a career that will cha...     0   \n",
       "\n",
       "                                                text  \n",
       "0  <p>We're changing how the world creates and pu...  \n",
       "1  <p>hello world</p>\\r\\n<p>talents23_ drives the...  \n",
       "2   <p>SUMMARYResponsible for acting as a liaison...  \n",
       "3   <p>ÃÂÃÂ In addition to clerical and admini...  \n",
       "4   <p>Are you looking for a career that will cha...  "
      ]
     },
     "execution_count": 26,
     "metadata": {},
     "output_type": "execute_result"
    }
   ],
   "source": [
    "def fraudulent(x):\n",
    "    if(x=='f'):\n",
    "        return 0\n",
    "    return 1\n",
    "df_OD = df2[['fraudulent', 'description']].copy()\n",
    "df_OD.head()\n",
    "df_OD['scam'] = df2['fraudulent'].map(lambda x:fraudulent(x))\n",
    "df_OD['text']= df2['description'].copy()\n",
    "df_OD.head()"
   ]
  },
  {
   "cell_type": "code",
   "execution_count": 27,
   "id": "47198c2f-b9da-4b57-aa7d-ef4e2953340f",
   "metadata": {
    "tags": []
   },
   "outputs": [
    {
     "data": {
      "text/html": [
       "<div>\n",
       "<style scoped>\n",
       "    .dataframe tbody tr th:only-of-type {\n",
       "        vertical-align: middle;\n",
       "    }\n",
       "\n",
       "    .dataframe tbody tr th {\n",
       "        vertical-align: top;\n",
       "    }\n",
       "\n",
       "    .dataframe thead th {\n",
       "        text-align: right;\n",
       "    }\n",
       "</style>\n",
       "<table border=\"1\" class=\"dataframe\">\n",
       "  <thead>\n",
       "    <tr style=\"text-align: right;\">\n",
       "      <th></th>\n",
       "      <th>scam</th>\n",
       "      <th>text</th>\n",
       "    </tr>\n",
       "  </thead>\n",
       "  <tbody>\n",
       "    <tr>\n",
       "      <th>0</th>\n",
       "      <td>0</td>\n",
       "      <td>&lt;p&gt;We're changing how the world creates and pu...</td>\n",
       "    </tr>\n",
       "    <tr>\n",
       "      <th>1</th>\n",
       "      <td>0</td>\n",
       "      <td>&lt;p&gt;hello world&lt;/p&gt;\\r\\n&lt;p&gt;talents23_ drives the...</td>\n",
       "    </tr>\n",
       "    <tr>\n",
       "      <th>2</th>\n",
       "      <td>1</td>\n",
       "      <td>&lt;p&gt;SUMMARYResponsible for acting as a liaison...</td>\n",
       "    </tr>\n",
       "    <tr>\n",
       "      <th>3</th>\n",
       "      <td>1</td>\n",
       "      <td>&lt;p&gt;ÃÂÃÂ In addition to clerical and admini...</td>\n",
       "    </tr>\n",
       "    <tr>\n",
       "      <th>4</th>\n",
       "      <td>0</td>\n",
       "      <td>&lt;p&gt;Are you looking for a career that will cha...</td>\n",
       "    </tr>\n",
       "  </tbody>\n",
       "</table>\n",
       "</div>"
      ],
      "text/plain": [
       "   scam                                               text\n",
       "0     0  <p>We're changing how the world creates and pu...\n",
       "1     0  <p>hello world</p>\\r\\n<p>talents23_ drives the...\n",
       "2     1   <p>SUMMARYResponsible for acting as a liaison...\n",
       "3     1   <p>ÃÂÃÂ In addition to clerical and admini...\n",
       "4     0   <p>Are you looking for a career that will cha..."
      ]
     },
     "execution_count": 27,
     "metadata": {},
     "output_type": "execute_result"
    }
   ],
   "source": [
    "df_OD=df_OD.drop(['fraudulent', 'description'], axis=1)\n",
    "\n",
    "df_OD.head()\n",
    "    \n"
   ]
  },
  {
   "cell_type": "code",
   "execution_count": 28,
   "id": "885b75fa-8639-414f-929c-a7ebe82f6609",
   "metadata": {
    "tags": []
   },
   "outputs": [],
   "source": [
    "lem = WordNetLemmatizer()\n",
    "def preprocessing(data):\n",
    "      sms = contractions.fix(data) # converting shortened words to original (Eg:\"I'm\" to \"I am\")\n",
    "      sms = sms.lower() # lower casing the sms\n",
    "      sms = re.sub(r'https?://S+|www.S+', \"\", sms).strip() #removing url\n",
    "      sms = re.sub(\"[^a-z ]\", \"\", sms) # removing symbols and numbes\n",
    "      sms = sms.split() #splitting\n",
    "      # lemmatization and stopword removal\n",
    "      sms = [lem.lemmatize(word) for word in sms if not word in set(stopwords.words(\"english\"))]\n",
    "      sms = \" \".join(sms)\n",
    "      return sms\n",
    "\n",
    "def remove_tags(string):\n",
    "    result = re.sub('<.*?>','',string)\n",
    "    return result\n",
    "df_OD['text']=df_OD['text'].apply(lambda cw : remove_tags(cw))\n",
    "\n",
    "X = df_OD[\"text\"].apply(preprocessing)\n"
   ]
  },
  {
   "cell_type": "code",
   "execution_count": 29,
   "id": "ed8be661-6e0e-4bc4-b798-838154e045b1",
   "metadata": {
    "tags": []
   },
   "outputs": [],
   "source": [
    "from sklearn.preprocessing import LabelEncoder\n",
    "lb_enc = LabelEncoder()\n",
    "y = lb_enc.fit_transform(df_OD[\"scam\"])"
   ]
  },
  {
   "cell_type": "code",
   "execution_count": 30,
   "id": "84580329-8059-4a53-8f23-85dca1a88101",
   "metadata": {
    "tags": []
   },
   "outputs": [
    {
     "name": "stdout",
     "output_type": "stream",
     "text": [
      "0      changing world creates publishes content even ...\n",
      "1      hello worldtalents drive change digital recrui...\n",
      "2      summaryresponsible acting liaison customer com...\n",
      "3      addition clerical administrative duty individu...\n",
      "4      looking career challenge allow make impact eve...\n",
      "                             ...                        \n",
      "445    prepares source data computer entry compiling ...\n",
      "446    job descriptionvertex global solution seek exe...\n",
      "447    apply using linkurlabecbbbaadffccccaaebor spec...\n",
      "448    sarbari highgrowth investmentbacked software c...\n",
      "449    healthlink provides computer communication sys...\n",
      "Name: text, Length: 450, dtype: object\n"
     ]
    }
   ],
   "source": [
    "tokenizer = Tokenizer() #initializing the tokenizer\n",
    "tokenizer.fit_on_texts(X)# fitting on the sms data\n",
    "text_to_sequence = tokenizer.texts_to_sequences(X)\n",
    "print(X)"
   ]
  },
  {
   "cell_type": "code",
   "execution_count": 31,
   "id": "7e8cb25f-8a14-4048-a708-f2921449f145",
   "metadata": {
    "tags": []
   },
   "outputs": [
    {
     "data": {
      "text/plain": [
       "450"
      ]
     },
     "execution_count": 31,
     "metadata": {},
     "output_type": "execute_result"
    }
   ],
   "source": [
    "max_length_sequence = max([len(i) for i in text_to_sequence])\n",
    " # finding the length of largest sequence\n",
    "padded_sms_sequence = pad_sequences(text_to_sequence, maxlen=max_length_sequence, \n",
    "                                    padding = \"pre\") \n",
    "len(padded_sms_sequence)"
   ]
  },
  {
   "cell_type": "code",
   "execution_count": 32,
   "id": "301c8759-cbfc-4494-9a73-f3f9570e2203",
   "metadata": {
    "tags": []
   },
   "outputs": [
    {
     "name": "stdout",
     "output_type": "stream",
     "text": [
      "Model: \"sequential_1\"\n",
      "_________________________________________________________________\n",
      " Layer (type)                Output Shape              Param #   \n",
      "=================================================================\n",
      " embedding_1 (Embedding)     (None, 2700, 32)          407232    \n",
      "                                                                 \n",
      " lstm_1 (LSTM)               (None, 50)                16600     \n",
      "                                                                 \n",
      " dropout_2 (Dropout)         (None, 50)                0         \n",
      "                                                                 \n",
      " dense_2 (Dense)             (None, 20)                1020      \n",
      "                                                                 \n",
      " dropout_3 (Dropout)         (None, 20)                0         \n",
      "                                                                 \n",
      " dense_3 (Dense)             (None, 1)                 21        \n",
      "                                                                 \n",
      "=================================================================\n",
      "Total params: 424873 (1.62 MB)\n",
      "Trainable params: 424873 (1.62 MB)\n",
      "Non-trainable params: 0 (0.00 Byte)\n",
      "_________________________________________________________________\n"
     ]
    }
   ],
   "source": [
    "TOT_SIZE = len(tokenizer.word_index)+1\n",
    "def create_model():\n",
    "      lstm_model = Sequential()\n",
    "      lstm_model.add(Embedding(TOT_SIZE, 32, input_length=max_length_sequence))\n",
    "      lstm_model.add(LSTM(50))\n",
    "      lstm_model.add(Dropout(0.4))\n",
    "      lstm_model.add(Dense(20, activation=\"relu\"))\n",
    "      lstm_model.add(Dropout(0.3))\n",
    "      lstm_model.add(Dense(1, activation = \"sigmoid\"))\n",
    "      return lstm_model\n",
    "lstm_model = create_model()\n",
    "lstm_model.compile(loss = \"binary_crossentropy\", optimizer = \"adam\", metrics = [\"binary_crossentropy\"])\n",
    "lstm_model.summary()"
   ]
  },
  {
   "cell_type": "code",
   "execution_count": 33,
   "id": "eda18ef8-c830-4e3c-b211-7d38fd4f9b9c",
   "metadata": {
    "tags": []
   },
   "outputs": [
    {
     "name": "stdout",
     "output_type": "stream",
     "text": [
      "Epoch 1/11\n",
      "6/6 [==============================] - 8s 984ms/step - loss: 0.6923 - binary_crossentropy: 0.6923 - val_loss: 0.6923 - val_binary_crossentropy: 0.6923\n",
      "Epoch 2/11\n",
      "6/6 [==============================] - 5s 917ms/step - loss: 0.6872 - binary_crossentropy: 0.6872 - val_loss: 0.6899 - val_binary_crossentropy: 0.6899\n",
      "Epoch 3/11\n",
      "6/6 [==============================] - 5s 905ms/step - loss: 0.6805 - binary_crossentropy: 0.6805 - val_loss: 0.6841 - val_binary_crossentropy: 0.6841\n",
      "Epoch 4/11\n",
      "6/6 [==============================] - 6s 971ms/step - loss: 0.6651 - binary_crossentropy: 0.6651 - val_loss: 0.6681 - val_binary_crossentropy: 0.6681\n",
      "Epoch 5/11\n",
      "6/6 [==============================] - 5s 912ms/step - loss: 0.6025 - binary_crossentropy: 0.6025 - val_loss: 1.3470 - val_binary_crossentropy: 1.3470\n",
      "Epoch 6/11\n",
      "6/6 [==============================] - 5s 907ms/step - loss: 0.6218 - binary_crossentropy: 0.6218 - val_loss: 0.5955 - val_binary_crossentropy: 0.5955\n",
      "Epoch 7/11\n",
      "6/6 [==============================] - 5s 898ms/step - loss: 0.5132 - binary_crossentropy: 0.5132 - val_loss: 0.5679 - val_binary_crossentropy: 0.5679\n",
      "Epoch 8/11\n",
      "6/6 [==============================] - 5s 890ms/step - loss: 0.4514 - binary_crossentropy: 0.4514 - val_loss: 0.5312 - val_binary_crossentropy: 0.5312\n",
      "Epoch 9/11\n",
      "6/6 [==============================] - 6s 1s/step - loss: 0.3744 - binary_crossentropy: 0.3744 - val_loss: 0.4956 - val_binary_crossentropy: 0.4956\n",
      "Epoch 10/11\n",
      "6/6 [==============================] - 6s 914ms/step - loss: 0.2701 - binary_crossentropy: 0.2701 - val_loss: 0.4245 - val_binary_crossentropy: 0.4245\n",
      "Epoch 11/11\n",
      "6/6 [==============================] - 6s 957ms/step - loss: 0.1704 - binary_crossentropy: 0.1704 - val_loss: 0.3144 - val_binary_crossentropy: 0.3144\n"
     ]
    }
   ],
   "source": [
    "history=lstm_model.fit(padded_sms_sequence, y, epochs =11, validation_split=0.2, batch_size=64)"
   ]
  },
  {
   "cell_type": "code",
   "execution_count": 34,
   "id": "c985ed13-2fa1-4330-a63d-3102b74c6068",
   "metadata": {
    "tags": []
   },
   "outputs": [
    {
     "name": "stdout",
     "output_type": "stream",
     "text": [
      "Text               :  accepting online application onlyclick applythis full time temporary position lasting yearsdescriptionvalidate review legal contractual agreement customer input contract contract database contract completed amp reviewed within perdetermined service level agreement professional email interaction customer scanning uploading documentsqualificationshigh school diploma equivalent professional communication skill via email interactiondedicated need business project management skill assist facilitating multiple contract reject detail oriented able multitaskability work time sensitive document must able work independently able perform team environment needed fast accurate typistaccepting online application onlyclick apply\n",
      "Numerical Sequence :  [744, 138, 1316, 5334, 291, 778, 5335, 956, 5336, 745, 215, 3576, 102, 55, 25, 141, 39, 292, 1070, 212, 5337, 102, 957, 251, 149, 5338, 184, 98, 78, 1878, 1223, 818, 2385, 1137, 3577, 1681, 2815, 98, 78, 72, 38, 72, 337, 1682, 958, 98, 78, 1138, 1317, 5339, 1223, 818, 136, 1137, 138, 3578, 5340, 5341, 141, 292, 3577, 154, 123, 2816, 15, 39, 1070, 212, 730, 150, 327, 2122, 104, 13, 338, 82, 5342, 2386, 1879, 90, 79, 5343, 701, 5344, 63, 2, 5345, 348, 57, 5346, 508, 175, 462, 1071, 5347, 13, 392, 4, 1139, 5348, 99, 3579, 104, 1, 5349, 2123, 581, 1318, 581, 8, 5350, 862, 1319, 65, 32, 1070, 212, 5351, 1072, 126, 779, 15, 120, 5352, 1, 5353, 634, 25, 15, 5354, 339, 2816, 172, 66, 69, 104, 5355, 1140, 44, 746, 5356, 32, 2, 5357, 13, 90, 89, 2, 5358, 5359, 59, 14, 2, 43, 1, 2387, 1137, 123, 1073, 1137, 5360, 702, 5361, 23, 328, 98, 1224, 780, 463, 2817, 527, 5362, 5363, 206, 206, 5364, 1011, 147, 363, 35, 1538, 226, 5365, 149, 5366, 169, 258, 246, 227, 5367, 5368, 2124, 2818, 3580, 1417, 5369, 5370, 3581, 731, 5371, 5372, 329, 5373, 2388, 5374, 5375, 863, 5376, 5377, 5378, 2389, 301, 5379, 5380, 528, 5381, 1418, 2819, 5382, 1880, 1880, 27]\n",
      "Text               :  position administrative assistant whose job primarily consist calling prospect expressed interest service requested contacted workfromhome optionthere absolutely coldcalling involved whatsoeverthis person need pleasant professional comfortable talking seniorlevel manager executive attentiontodetail must extensive tracking need made prospect\n",
      "Numerical Sequence :  [5383, 5384, 272, 273, 118, 509, 819, 85, 104, 3582, 905, 265, 433, 160, 142, 5, 1419, 28, 235, 10, 566, 5385, 63, 33, 1683, 5386, 2125, 3583, 5387, 5388, 5, 340, 236, 28, 235, 45, 529, 3, 1225, 1074, 608, 1012, 2820, 2390, 1320, 5389, 5390, 61, 251, 1, 35, 3584, 1420, 364, 864, 495, 5391, 392, 957, 235, 5, 5392, 314, 1013, 5393, 207, 48, 3585, 5394, 5395, 1226, 32, 22, 5396, 3586, 5397, 13, 32, 464, 44, 28, 2126, 208, 1421, 28, 959, 5398, 45, 365, 464, 5399, 22, 77, 46, 1539, 567, 13, 5400, 5401, 280, 34, 2391, 338, 42, 167, 83, 9, 703, 543, 197, 73, 32, 5, 309, 635, 43, 2, 23, 208, 28, 1226, 5402, 1422, 3587, 1227, 5403, 820, 5404, 2391, 172, 14, 2, 129, 5405, 113, 48, 22, 3588, 349, 2127, 208, 44, 28, 5406, 1881, 91, 10, 176, 3589, 176, 87, 5407, 3590, 5408, 177, 5409, 2, 5410, 657, 10, 107, 197, 2821, 3591, 510, 5411, 237, 609, 252, 821, 3592, 658, 865, 2125, 5412, 5413, 79, 581, 5414, 175, 704, 3593, 2392, 198, 70, 1540, 11, 125, 1075, 5415, 235, 5416, 5417, 1074, 5418, 1, 5419, 5420, 3594, 28, 5421, 3595, 5422, 28, 5423, 10, 5424, 386, 5425, 1, 3596, 203, 5426, 1228, 5427, 510, 2393, 1, 5428, 5429, 5430, 5431, 5432, 274, 1014, 5433, 5434, 5435, 393, 253, 9, 5436, 314, 5437, 659, 2394, 3597, 2128, 66]\n",
      "Text               :  ultra luxury american cruise company urgently looking following positionshospitality many bar amp restaurant boardretail duty free shop amp boutique boardhousekeeping housekeeping amp cleaning jobsoffice admin front desk amp tour booking jobsother position dj security staff photographer amp nanniesvessel type operation ultra luxury cruisecertification amp experienceprevious experience requiredgood english speaker customer service skill wanting learn amp workjob typepermsailing areaworld widebenefitson board en suite accommodation food medical cover duration contractworld work visa free wifitax free salary amp morejob descriptiona ultra luxury cruise company looking recruit hardworking enthusiastic cruise personalthis exciting opportunity available candidate willing learn work amp flexiblecandidate also customer service skill skill public relation good english speakersrotation month month great salary euro tax freepay discussed via communication full application proccessif looking new adventure apply todayplease send resume emaileadacdedbcafcbacbacfdffcb coppy amp paste email addresswe contact shortly within hourslooking forward aboardadrian westdept rec\n",
      "Numerical Sequence :  [5438, 5439, 1684, 4, 5, 168, 1423, 275, 2129, 130, 660, 661, 5440, 5441, 5442, 4, 1423, 266, 114, 86, 662, 98, 5443, 544, 1015, 4, 2822, 130, 5444, 4, 5445, 5446, 121, 1141, 5447, 1685, 5448, 1541, 275, 5449, 5450, 5, 5451, 702, 80, 2823, 80, 530, 114, 5452, 5453, 5454, 660, 3598, 387, 5455, 5, 5456, 45, 13, 5457, 13, 5458, 3599, 4, 5459, 5460, 4, 820, 5461, 13, 5462, 87, 44, 960, 69, 112, 5463, 4, 3, 72, 124, 1542, 4, 3, 5464, 315, 112, 223, 2, 961, 228, 293, 259, 781, 2824, 76, 291, 22, 29, 2395, 208, 5465, 23, 1142, 284, 2396, 2397, 1424, 22, 242, 170, 1016, 56, 117, 23, 5, 56, 1686, 137, 185, 316]\n",
      "Text               :  kmc projectwe looking someone reliable ability work hour week would include potentially christmas break manage program worker split break half work part break although increased hour ten day span give preference pc deal breaker\n",
      "Numerical Sequence :  [866, 822, 218, 144, 105, 3600, 34, 33, 127, 106, 105, 36, 82, 1687, 8, 1425, 1426, 107]\n",
      "Text               :  exciting opportunity exists fill parttime position assistant accountant immediate start sydney regionin role key member team responsible overall bookkeeping duty client required proactive duty take task required\n",
      "Numerical Sequence :  [25, 92, 392, 1688, 58, 545, 120, 93, 1076, 21, 131, 19, 317, 1882, 82, 142, 100, 1, 2825, 146, 341, 867, 1427, 660, 3601, 197, 130, 72, 73, 636, 546, 92, 5466, 2826, 366, 14, 1, 146, 367, 341, 149, 60, 120, 93, 2826, 392, 2130, 5467, 2131, 15, 2132, 364, 545, 161, 1, 54, 2827, 434, 2133, 70, 465, 5468, 73, 272, 3601, 10, 2828, 100, 2134, 2829, 186, 1543, 433, 1077, 199, 2398, 465, 5469, 5470, 868, 15, 10, 21, 869, 15, 19, 1689, 12, 77, 1143, 350, 466, 5471, 1883, 381, 2135, 2826, 247, 98, 5472, 1428, 5473, 404, 254, 433, 5474, 302, 3602, 663, 5475, 747, 130, 1544, 260, 19, 2399, 12, 1321, 178, 5476, 5477, 1144, 5478, 2828, 100, 193, 12, 9, 198, 5479, 1017, 5480, 14, 2, 12, 10, 32, 1229, 2, 5481, 1689, 12, 5482, 212, 433, 129, 13, 5483, 43, 961, 2400, 209, 143, 1545, 1229, 5484, 29, 252, 2401, 83, 3602, 23, 1017, 1884, 5485, 351, 223, 582, 272, 5486, 162, 5487, 198, 2828, 341, 29, 1, 5488, 3603, 510, 5489, 29, 1322, 83, 251, 5490, 511, 91, 1142]\n"
     ]
    },
    {
     "data": {
      "text/plain": [
       "array([[   0,    0,    0, ...,   39,  542,   79],\n",
       "       [   0,    0,    0, ...,   27,  497,  910],\n",
       "       [   0,    0,    0, ...,  789,  790,  791],\n",
       "       ...,\n",
       "       [   0,    0,    0, ...,  742,  650, 1092],\n",
       "       [   0,    0,    0, ...,  892,   30,   18],\n",
       "       [   0,    0,    0, ...,    5,  291, 1224]], dtype=int32)"
      ]
     },
     "execution_count": 34,
     "metadata": {},
     "output_type": "execute_result"
    }
   ],
   "source": [
    "df_test = df_test.fillna(\"\")\n",
    "df_test['description']=df_test['company_profile']+df_test['description']\n",
    "df_OD_test = df_test[['fraudulent', 'description']].copy()\n",
    "df_OD_test.head()\n",
    "df_OD_test['scam'] = df_test['fraudulent'].map(lambda x:fraudulent(x))\n",
    "df_OD_test['text']= df_test['description'].copy()\n",
    "df_OD_test=df_OD_test.drop(['fraudulent', 'description'], axis=1)\n",
    "df_OD_test['text']=df_OD_test['text'].apply(lambda cw : remove_tags(cw))\n",
    "X = df_OD_test[\"text\"].apply(preprocessing)\n",
    "for i in range(5):\n",
    "           print(\"Text               : \",X[i] )\n",
    "           print(\"Numerical Sequence : \", text_to_sequence[i])\n",
    "tokenizer = Tokenizer() #initializing the tokenizer\n",
    "tokenizer.fit_on_texts(X)# fitting on the sms data\n",
    "text_to_sequence = tokenizer.texts_to_sequences(X)\n",
    "\n",
    " # finding the length of largest sequence\n",
    "padded_sms_sequence_test = pad_sequences(text_to_sequence, maxlen=max_length_sequence, \n",
    "                                    padding = \"pre\") \n",
    "padded_sms_sequence_test\n"
   ]
  },
  {
   "cell_type": "code",
   "execution_count": 35,
   "id": "203f9fd6-3356-4133-8dd4-ba3d4c1375c0",
   "metadata": {
    "tags": []
   },
   "outputs": [],
   "source": [
    "lb_enc = LabelEncoder()\n",
    "y_test = lb_enc.fit_transform(df_OD_test[\"scam\"])"
   ]
  },
  {
   "cell_type": "code",
   "execution_count": 36,
   "id": "1c1a647d-f04a-403a-909c-2d8942f19cc7",
   "metadata": {
    "tags": []
   },
   "outputs": [
    {
     "data": {
      "text/plain": [
       "450"
      ]
     },
     "execution_count": 36,
     "metadata": {},
     "output_type": "execute_result"
    }
   ],
   "source": [
    "len(padded_sms_sequence_test)"
   ]
  },
  {
   "cell_type": "code",
   "execution_count": 37,
   "id": "8522e482-05a8-4b68-9ed7-97cc33f5c9f0",
   "metadata": {},
   "outputs": [
    {
     "name": "stdout",
     "output_type": "stream",
     "text": [
      "15/15 [==============================] - 2s 137ms/step\n",
      "0.7660905\n"
     ]
    },
    {
     "data": {
      "text/plain": [
       "array([[159,  72],\n",
       "       [ 68, 151]])"
      ]
     },
     "execution_count": 37,
     "metadata": {},
     "output_type": "execute_result"
    }
   ],
   "source": [
    "pred = lstm_model.predict(padded_sms_sequence_test)\n",
    "y_pred=[]\n",
    "med= np.median(pred)\n",
    "print(med)\n",
    "for i in range(0,pred.size):\n",
    "    if pred[i][0] >med:\n",
    "        y_pred.append(1)\n",
    "    else:\n",
    "        y_pred.append(0)\n",
    "from sklearn.metrics import confusion_matrix\n",
    "\n",
    "\n",
    "confusion_matrix(y_test, y_pred)"
   ]
  },
  {
   "cell_type": "code",
   "execution_count": 38,
   "id": "9fe57dc8-5a3a-4214-9b12-8ade6931b7c3",
   "metadata": {
    "tags": []
   },
   "outputs": [],
   "source": [
    "hist,bins = np.histogram(pred,bins = [0,0.2,0.4,0.6,0.8,1]) "
   ]
  },
  {
   "cell_type": "code",
   "execution_count": 39,
   "id": "49ab41a5-1ef8-4d6f-a274-34f21a866918",
   "metadata": {},
   "outputs": [
    {
     "data": {
      "text/plain": [
       "array([ 53,  95,  18,  79, 205])"
      ]
     },
     "execution_count": 39,
     "metadata": {},
     "output_type": "execute_result"
    }
   ],
   "source": [
    "hist"
   ]
  },
  {
   "cell_type": "code",
   "execution_count": 40,
   "id": "1650b548-8a02-4eba-adcc-bc10c16147c4",
   "metadata": {},
   "outputs": [],
   "source": [
    "import pickle\n",
    "pickle.dump(lstm_model, open('model2.pkl', 'wb'))"
   ]
  },
  {
   "cell_type": "code",
   "execution_count": 41,
   "id": "115747df-fcd5-4f32-b004-fe6faebc3dc1",
   "metadata": {},
   "outputs": [
    {
     "name": "stdout",
     "output_type": "stream",
     "text": [
      "15/15 [==============================] - 2s 140ms/step\n",
      "0.7660905\n"
     ]
    },
    {
     "data": {
      "text/plain": [
       "array([[159,  72],\n",
       "       [ 68, 151]])"
      ]
     },
     "execution_count": 41,
     "metadata": {},
     "output_type": "execute_result"
    }
   ],
   "source": [
    "model = pickle.load(open('model2.pkl','rb'))\n",
    "pred = model.predict(padded_sms_sequence_test)\n",
    "\n",
    "y_pred=[]\n",
    "y_column=[]\n",
    "med= np.median(pred)\n",
    "print(med)\n",
    "for i in range(0,pred.size):\n",
    "    if pred[i][0] >med:\n",
    "        y_pred.append(1)\n",
    "    else:\n",
    "        y_pred.append(0)\n",
    "    y_column.append(pred[i][0])\n",
    "from sklearn.metrics import confusion_matrix\n",
    "\n",
    "confusion_matrix(y_test, y_pred)"
   ]
  },
  {
   "cell_type": "code",
   "execution_count": 42,
   "id": "050b881c-6110-4f04-8271-d97e6b4987c6",
   "metadata": {
    "tags": []
   },
   "outputs": [],
   "source": [
    "df_test['LSTM_PREDICT'] = y_pred"
   ]
  },
  {
   "cell_type": "code",
   "execution_count": 43,
   "id": "becbef16-eab0-420b-9202-9e7e4caff78a",
   "metadata": {
    "tags": []
   },
   "outputs": [],
   "source": [
    "df_test['LSTM_PROB']=y_column"
   ]
  },
  {
   "cell_type": "code",
   "execution_count": 44,
   "id": "db4802c8-8b04-4d89-9e65-b916b63f6d13",
   "metadata": {
    "tags": []
   },
   "outputs": [],
   "source": [
    "df_test.to_csv('EDA_Dataset.csv',index=False)"
   ]
  },
  {
   "cell_type": "code",
   "execution_count": 45,
   "id": "703a3c44-273a-4c56-9870-38918156f0f0",
   "metadata": {
    "tags": []
   },
   "outputs": [],
   "source": [
    "df_works=pd.read_csv('EDA_Dataset.csv')"
   ]
  },
  {
   "cell_type": "code",
   "execution_count": 46,
   "id": "301aeca9-ada7-4d23-8178-549e985652c0",
   "metadata": {
    "tags": []
   },
   "outputs": [],
   "source": [
    "df_true=df_works[df_works['fraudulent']=='t']"
   ]
  },
  {
   "cell_type": "code",
   "execution_count": 47,
   "id": "a6b47425-6b8f-49bc-929b-00bc92a97f1e",
   "metadata": {
    "tags": []
   },
   "outputs": [
    {
     "data": {
      "text/plain": [
       "0.7549579153881285"
      ]
     },
     "execution_count": 47,
     "metadata": {},
     "output_type": "execute_result"
    }
   ],
   "source": [
    "sum(df_true['LSTM_PROB'])/len(df_true['LSTM_PROB'])"
   ]
  },
  {
   "cell_type": "code",
   "execution_count": 48,
   "id": "bc2e379c-b6ab-4644-aefb-9650ede28f4d",
   "metadata": {},
   "outputs": [],
   "source": [
    "df_false=df_works[df_works['fraudulent']=='f']"
   ]
  },
  {
   "cell_type": "code",
   "execution_count": 49,
   "id": "09e1892c-b048-49cd-8176-51275382c87d",
   "metadata": {},
   "outputs": [
    {
     "data": {
      "text/plain": [
       "0.5192337329870127"
      ]
     },
     "execution_count": 49,
     "metadata": {},
     "output_type": "execute_result"
    }
   ],
   "source": [
    "sum(df_false['LSTM_PROB'])/len(df_false['LSTM_PROB'])"
   ]
  },
  {
   "cell_type": "code",
   "execution_count": null,
   "id": "61fce0ec-f2b3-42c5-9655-22e9cc8ce154",
   "metadata": {},
   "outputs": [],
   "source": [
    "#Note: An LSTM is rather chaotic for the predicitons it generates and is very senseitive to initial conditions. The dataset generated by the LSTM in this code is different frmo the one used in the final product"
   ]
  }
 ],
 "metadata": {
  "kernelspec": {
   "display_name": "Python 3 (ipykernel)",
   "language": "python",
   "name": "python3"
  },
  "language_info": {
   "codemirror_mode": {
    "name": "ipython",
    "version": 3
   },
   "file_extension": ".py",
   "mimetype": "text/x-python",
   "name": "python",
   "nbconvert_exporter": "python",
   "pygments_lexer": "ipython3",
   "version": "3.8.2"
  }
 },
 "nbformat": 4,
 "nbformat_minor": 5
}
