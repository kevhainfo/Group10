{
 "cells": [
  {
   "cell_type": "code",
   "execution_count": 21,
   "id": "0fefda21-31aa-480f-8709-7fe8d99ddf54",
   "metadata": {
    "tags": []
   },
   "outputs": [
    {
     "name": "stderr",
     "output_type": "stream",
     "text": [
      "[nltk_data] Downloading package wordnet to /Users/kevinha/nltk_data...\n",
      "[nltk_data]   Package wordnet is already up-to-date!\n"
     ]
    }
   ],
   "source": [
    "#imports\n",
    "import pandas as pd\n",
    "import numpy as np\n",
    "import re\n",
    "import collections\n",
    "import contractions\n",
    "import seaborn as sns\n",
    "import matplotlib.pyplot as plt\n",
    "plt.style.use('dark_background')\n",
    "import nltk\n",
    "nltk.download('wordnet')\n",
    "from nltk.stem import WordNetLemmatizer\n",
    "from nltk.corpus import stopwords\n",
    "import warnings\n",
    "warnings.simplefilter(action='ignore', category=Warning)\n",
    "import keras\n",
    "from keras.layers import Dense, Embedding, LSTM, Dropout\n",
    "from keras.models import Sequential\n",
    "from keras.preprocessing.text import Tokenizer\n",
    "from keras.preprocessing.sequence import pad_sequences"
   ]
  },
  {
   "cell_type": "code",
   "execution_count": 22,
   "id": "b760182c-50be-40e5-a9d7-0f5e0ffd9900",
   "metadata": {
    "tags": []
   },
   "outputs": [],
   "source": [
    "#The 900-element dataset was split into a training set used to train the network and a testing set that further EDA was performed upon\n",
    "df2=pd.read_csv('balanced_dataset_training.csv', encoding='latin')\n",
    "df_test=pd.read_csv('balanced_dataset_testing.csv', encoding='latin')"
   ]
  },
  {
   "cell_type": "code",
   "execution_count": 52,
   "id": "cbc08e2d-8def-46eb-bf5a-366b333a8a27",
   "metadata": {
    "tags": []
   },
   "outputs": [
    {
     "data": {
      "text/html": [
       "<div>\n",
       "<style scoped>\n",
       "    .dataframe tbody tr th:only-of-type {\n",
       "        vertical-align: middle;\n",
       "    }\n",
       "\n",
       "    .dataframe tbody tr th {\n",
       "        vertical-align: top;\n",
       "    }\n",
       "\n",
       "    .dataframe thead th {\n",
       "        text-align: right;\n",
       "    }\n",
       "</style>\n",
       "<table border=\"1\" class=\"dataframe\">\n",
       "  <thead>\n",
       "    <tr style=\"text-align: right;\">\n",
       "      <th></th>\n",
       "      <th>Unnamed: 0</th>\n",
       "      <th>title</th>\n",
       "      <th>location</th>\n",
       "      <th>department</th>\n",
       "      <th>salary_range</th>\n",
       "      <th>company_profile</th>\n",
       "      <th>description</th>\n",
       "      <th>requirements</th>\n",
       "      <th>benefits</th>\n",
       "      <th>telecommuting</th>\n",
       "      <th>has_company_logo</th>\n",
       "      <th>has_questions</th>\n",
       "      <th>employment_type</th>\n",
       "      <th>required_experience</th>\n",
       "      <th>required_education</th>\n",
       "      <th>industry</th>\n",
       "      <th>function</th>\n",
       "      <th>fraudulent</th>\n",
       "      <th>in_balanced_dataset</th>\n",
       "    </tr>\n",
       "  </thead>\n",
       "  <tbody>\n",
       "    <tr>\n",
       "      <th>0</th>\n",
       "      <td>421</td>\n",
       "      <td>Mobile Engineer</td>\n",
       "      <td>US, ND, Bismarck</td>\n",
       "      <td></td>\n",
       "      <td></td>\n",
       "      <td>&lt;p&gt;We're changing how the world creates and pu...</td>\n",
       "      <td>&lt;p&gt;We're changing how the world creates and pu...</td>\n",
       "      <td>&lt;h3&gt;The Musts:&lt;/h3&gt;\\r\\n&lt;ul&gt;\\r\\n&lt;li&gt;You think b...</td>\n",
       "      <td>&lt;h3&gt;The Perks (full-time only):&lt;/h3&gt;\\r\\n&lt;ul&gt;\\r...</td>\n",
       "      <td>f</td>\n",
       "      <td>t</td>\n",
       "      <td>t</td>\n",
       "      <td>Full-time</td>\n",
       "      <td>Entry level</td>\n",
       "      <td>Unspecified</td>\n",
       "      <td>Program Development</td>\n",
       "      <td>Other</td>\n",
       "      <td>f</td>\n",
       "      <td>t</td>\n",
       "    </tr>\n",
       "    <tr>\n",
       "      <th>1</th>\n",
       "      <td>545</td>\n",
       "      <td>BI Consultant &amp; Database Expert</td>\n",
       "      <td>BE, ,</td>\n",
       "      <td>tech</td>\n",
       "      <td></td>\n",
       "      <td>&lt;p&gt;hello world&lt;/p&gt;\\r\\n&lt;p&gt;talents23_ drives the...</td>\n",
       "      <td>&lt;p&gt;hello world&lt;/p&gt;\\r\\n&lt;p&gt;talents23_ drives the...</td>\n",
       "      <td>&lt;ul&gt;\\r\\n&lt;li&gt;You know SQL and have professional...</td>\n",
       "      <td>&lt;ul&gt;\\r\\n&lt;li&gt;WeÃÂ¢ÃÂÃÂre theÃÂÃÂ key An...</td>\n",
       "      <td>f</td>\n",
       "      <td>t</td>\n",
       "      <td>t</td>\n",
       "      <td>Full-time</td>\n",
       "      <td>Associate</td>\n",
       "      <td></td>\n",
       "      <td></td>\n",
       "      <td></td>\n",
       "      <td>f</td>\n",
       "      <td>t</td>\n",
       "    </tr>\n",
       "    <tr>\n",
       "      <th>2</th>\n",
       "      <td>806</td>\n",
       "      <td>Customer Service Representative</td>\n",
       "      <td>US, TX, SAN ANTONIO</td>\n",
       "      <td></td>\n",
       "      <td></td>\n",
       "      <td></td>\n",
       "      <td>&lt;p&gt;SUMMARYResponsible for acting as a liaison...</td>\n",
       "      <td>&lt;p&gt;Experience: Proficiency with Microsoft Word...</td>\n",
       "      <td>&lt;p&gt;You would be eligible to Benefits after 2mo...</td>\n",
       "      <td>f</td>\n",
       "      <td>f</td>\n",
       "      <td>f</td>\n",
       "      <td>Full-time</td>\n",
       "      <td>Not Applicable</td>\n",
       "      <td>High School or equivalent</td>\n",
       "      <td>Consumer Services</td>\n",
       "      <td>Customer Service</td>\n",
       "      <td>t</td>\n",
       "      <td>t</td>\n",
       "    </tr>\n",
       "    <tr>\n",
       "      <th>3</th>\n",
       "      <td>803</td>\n",
       "      <td>Administrative Assistant</td>\n",
       "      <td>US, CA, Santa Ana</td>\n",
       "      <td></td>\n",
       "      <td></td>\n",
       "      <td></td>\n",
       "      <td>&lt;p&gt;ÃÂÃÂ In addition to clerical and admini...</td>\n",
       "      <td></td>\n",
       "      <td>&lt;p&gt;No requirements&lt;/p&gt;</td>\n",
       "      <td>f</td>\n",
       "      <td>f</td>\n",
       "      <td>f</td>\n",
       "      <td>Full-time</td>\n",
       "      <td></td>\n",
       "      <td></td>\n",
       "      <td>Accounting</td>\n",
       "      <td>Administrative</td>\n",
       "      <td>t</td>\n",
       "      <td>t</td>\n",
       "    </tr>\n",
       "    <tr>\n",
       "      <th>4</th>\n",
       "      <td>147</td>\n",
       "      <td>Key Account Manager Switzerland</td>\n",
       "      <td>CH, BS, Basel</td>\n",
       "      <td>Sales</td>\n",
       "      <td></td>\n",
       "      <td></td>\n",
       "      <td>&lt;p&gt;Are you looking for a career that will cha...</td>\n",
       "      <td></td>\n",
       "      <td></td>\n",
       "      <td>f</td>\n",
       "      <td>t</td>\n",
       "      <td>t</td>\n",
       "      <td>Full-time</td>\n",
       "      <td>Associate</td>\n",
       "      <td>Bachelor's Degree</td>\n",
       "      <td>Education Management</td>\n",
       "      <td>Sales</td>\n",
       "      <td>f</td>\n",
       "      <td>t</td>\n",
       "    </tr>\n",
       "  </tbody>\n",
       "</table>\n",
       "</div>"
      ],
      "text/plain": [
       "   Unnamed: 0                            title             location  \\\n",
       "0         421                  Mobile Engineer     US, ND, Bismarck   \n",
       "1         545  BI Consultant & Database Expert               BE, ,    \n",
       "2         806  Customer Service Representative  US, TX, SAN ANTONIO   \n",
       "3         803         Administrative Assistant    US, CA, Santa Ana   \n",
       "4         147  Key Account Manager Switzerland        CH, BS, Basel   \n",
       "\n",
       "  department salary_range                                    company_profile  \\\n",
       "0                          <p>We're changing how the world creates and pu...   \n",
       "1       tech               <p>hello world</p>\\r\\n<p>talents23_ drives the...   \n",
       "2                                                                              \n",
       "3                                                                              \n",
       "4      Sales                                                                   \n",
       "\n",
       "                                         description  \\\n",
       "0  <p>We're changing how the world creates and pu...   \n",
       "1  <p>hello world</p>\\r\\n<p>talents23_ drives the...   \n",
       "2   <p>SUMMARYResponsible for acting as a liaison...   \n",
       "3   <p>ÃÂÃÂ In addition to clerical and admini...   \n",
       "4   <p>Are you looking for a career that will cha...   \n",
       "\n",
       "                                        requirements  \\\n",
       "0  <h3>The Musts:</h3>\\r\\n<ul>\\r\\n<li>You think b...   \n",
       "1  <ul>\\r\\n<li>You know SQL and have professional...   \n",
       "2  <p>Experience: Proficiency with Microsoft Word...   \n",
       "3                                                      \n",
       "4                                                      \n",
       "\n",
       "                                            benefits telecommuting  \\\n",
       "0  <h3>The Perks (full-time only):</h3>\\r\\n<ul>\\r...             f   \n",
       "1  <ul>\\r\\n<li>WeÃÂ¢ÃÂÃÂre theÃÂÃÂ key An...             f   \n",
       "2  <p>You would be eligible to Benefits after 2mo...             f   \n",
       "3                             <p>No requirements</p>             f   \n",
       "4                                                                f   \n",
       "\n",
       "  has_company_logo has_questions employment_type required_experience  \\\n",
       "0                t             t       Full-time         Entry level   \n",
       "1                t             t       Full-time           Associate   \n",
       "2                f             f       Full-time      Not Applicable   \n",
       "3                f             f       Full-time                       \n",
       "4                t             t       Full-time           Associate   \n",
       "\n",
       "          required_education              industry          function  \\\n",
       "0                Unspecified   Program Development             Other   \n",
       "1                                                                      \n",
       "2  High School or equivalent     Consumer Services  Customer Service   \n",
       "3                                       Accounting    Administrative   \n",
       "4          Bachelor's Degree  Education Management             Sales   \n",
       "\n",
       "  fraudulent in_balanced_dataset  \n",
       "0          f                   t  \n",
       "1          f                   t  \n",
       "2          t                   t  \n",
       "3          t                   t  \n",
       "4          f                   t  "
      ]
     },
     "execution_count": 52,
     "metadata": {},
     "output_type": "execute_result"
    }
   ],
   "source": [
    "#The four columns- \"company_profile, description, requirements, benefits\" were combined(because many contain null values)\n",
    "df2.head()"
   ]
  },
  {
   "cell_type": "code",
   "execution_count": 53,
   "id": "5734163a-eb00-4ab7-bc45-ec68bee03e25",
   "metadata": {
    "tags": []
   },
   "outputs": [
    {
     "data": {
      "text/plain": [
       "Unnamed: 0             0\n",
       "title                  0\n",
       "location               0\n",
       "department             0\n",
       "salary_range           0\n",
       "company_profile        0\n",
       "description            0\n",
       "requirements           0\n",
       "benefits               0\n",
       "telecommuting          0\n",
       "has_company_logo       0\n",
       "has_questions          0\n",
       "employment_type        0\n",
       "required_experience    0\n",
       "required_education     0\n",
       "industry               0\n",
       "function               0\n",
       "fraudulent             0\n",
       "in_balanced_dataset    0\n",
       "dtype: int64"
      ]
     },
     "execution_count": 53,
     "metadata": {},
     "output_type": "execute_result"
    }
   ],
   "source": [
    "df2.isna().sum()"
   ]
  },
  {
   "cell_type": "code",
   "execution_count": 54,
   "id": "ea017e40-005f-47d5-99c4-ad3978789b13",
   "metadata": {
    "tags": []
   },
   "outputs": [
    {
     "data": {
      "text/html": [
       "<div>\n",
       "<style scoped>\n",
       "    .dataframe tbody tr th:only-of-type {\n",
       "        vertical-align: middle;\n",
       "    }\n",
       "\n",
       "    .dataframe tbody tr th {\n",
       "        vertical-align: top;\n",
       "    }\n",
       "\n",
       "    .dataframe thead th {\n",
       "        text-align: right;\n",
       "    }\n",
       "</style>\n",
       "<table border=\"1\" class=\"dataframe\">\n",
       "  <thead>\n",
       "    <tr style=\"text-align: right;\">\n",
       "      <th></th>\n",
       "      <th>Unnamed: 0</th>\n",
       "      <th>title</th>\n",
       "      <th>location</th>\n",
       "      <th>department</th>\n",
       "      <th>salary_range</th>\n",
       "      <th>company_profile</th>\n",
       "      <th>description</th>\n",
       "      <th>requirements</th>\n",
       "      <th>benefits</th>\n",
       "      <th>telecommuting</th>\n",
       "      <th>has_company_logo</th>\n",
       "      <th>has_questions</th>\n",
       "      <th>employment_type</th>\n",
       "      <th>required_experience</th>\n",
       "      <th>required_education</th>\n",
       "      <th>industry</th>\n",
       "      <th>function</th>\n",
       "      <th>fraudulent</th>\n",
       "      <th>in_balanced_dataset</th>\n",
       "    </tr>\n",
       "  </thead>\n",
       "  <tbody>\n",
       "    <tr>\n",
       "      <th>0</th>\n",
       "      <td>421</td>\n",
       "      <td>Mobile Engineer</td>\n",
       "      <td>US, ND, Bismarck</td>\n",
       "      <td></td>\n",
       "      <td></td>\n",
       "      <td>&lt;p&gt;We're changing how the world creates and pu...</td>\n",
       "      <td>&lt;p&gt;We're changing how the world creates and pu...</td>\n",
       "      <td>&lt;h3&gt;The Musts:&lt;/h3&gt;\\r\\n&lt;ul&gt;\\r\\n&lt;li&gt;You think b...</td>\n",
       "      <td>&lt;h3&gt;The Perks (full-time only):&lt;/h3&gt;\\r\\n&lt;ul&gt;\\r...</td>\n",
       "      <td>f</td>\n",
       "      <td>t</td>\n",
       "      <td>t</td>\n",
       "      <td>Full-time</td>\n",
       "      <td>Entry level</td>\n",
       "      <td>Unspecified</td>\n",
       "      <td>Program Development</td>\n",
       "      <td>Other</td>\n",
       "      <td>f</td>\n",
       "      <td>t</td>\n",
       "    </tr>\n",
       "    <tr>\n",
       "      <th>1</th>\n",
       "      <td>545</td>\n",
       "      <td>BI Consultant &amp; Database Expert</td>\n",
       "      <td>BE, ,</td>\n",
       "      <td>tech</td>\n",
       "      <td></td>\n",
       "      <td>&lt;p&gt;hello world&lt;/p&gt;\\r\\n&lt;p&gt;talents23_ drives the...</td>\n",
       "      <td>&lt;p&gt;hello world&lt;/p&gt;\\r\\n&lt;p&gt;talents23_ drives the...</td>\n",
       "      <td>&lt;ul&gt;\\r\\n&lt;li&gt;You know SQL and have professional...</td>\n",
       "      <td>&lt;ul&gt;\\r\\n&lt;li&gt;WeÃÂ¢ÃÂÃÂre theÃÂÃÂ key An...</td>\n",
       "      <td>f</td>\n",
       "      <td>t</td>\n",
       "      <td>t</td>\n",
       "      <td>Full-time</td>\n",
       "      <td>Associate</td>\n",
       "      <td></td>\n",
       "      <td></td>\n",
       "      <td></td>\n",
       "      <td>f</td>\n",
       "      <td>t</td>\n",
       "    </tr>\n",
       "    <tr>\n",
       "      <th>2</th>\n",
       "      <td>806</td>\n",
       "      <td>Customer Service Representative</td>\n",
       "      <td>US, TX, SAN ANTONIO</td>\n",
       "      <td></td>\n",
       "      <td></td>\n",
       "      <td></td>\n",
       "      <td>&lt;p&gt;SUMMARYResponsible for acting as a liaiso...</td>\n",
       "      <td>&lt;p&gt;Experience: Proficiency with Microsoft Word...</td>\n",
       "      <td>&lt;p&gt;You would be eligible to Benefits after 2mo...</td>\n",
       "      <td>f</td>\n",
       "      <td>f</td>\n",
       "      <td>f</td>\n",
       "      <td>Full-time</td>\n",
       "      <td>Not Applicable</td>\n",
       "      <td>High School or equivalent</td>\n",
       "      <td>Consumer Services</td>\n",
       "      <td>Customer Service</td>\n",
       "      <td>t</td>\n",
       "      <td>t</td>\n",
       "    </tr>\n",
       "    <tr>\n",
       "      <th>3</th>\n",
       "      <td>803</td>\n",
       "      <td>Administrative Assistant</td>\n",
       "      <td>US, CA, Santa Ana</td>\n",
       "      <td></td>\n",
       "      <td></td>\n",
       "      <td></td>\n",
       "      <td>&lt;p&gt;ÃÂÃÂ In addition to clerical and admin...</td>\n",
       "      <td></td>\n",
       "      <td>&lt;p&gt;No requirements&lt;/p&gt;</td>\n",
       "      <td>f</td>\n",
       "      <td>f</td>\n",
       "      <td>f</td>\n",
       "      <td>Full-time</td>\n",
       "      <td></td>\n",
       "      <td></td>\n",
       "      <td>Accounting</td>\n",
       "      <td>Administrative</td>\n",
       "      <td>t</td>\n",
       "      <td>t</td>\n",
       "    </tr>\n",
       "    <tr>\n",
       "      <th>4</th>\n",
       "      <td>147</td>\n",
       "      <td>Key Account Manager Switzerland</td>\n",
       "      <td>CH, BS, Basel</td>\n",
       "      <td>Sales</td>\n",
       "      <td></td>\n",
       "      <td></td>\n",
       "      <td>&lt;p&gt;Are you looking for a career that will ch...</td>\n",
       "      <td></td>\n",
       "      <td></td>\n",
       "      <td>f</td>\n",
       "      <td>t</td>\n",
       "      <td>t</td>\n",
       "      <td>Full-time</td>\n",
       "      <td>Associate</td>\n",
       "      <td>Bachelor's Degree</td>\n",
       "      <td>Education Management</td>\n",
       "      <td>Sales</td>\n",
       "      <td>f</td>\n",
       "      <td>t</td>\n",
       "    </tr>\n",
       "    <tr>\n",
       "      <th>...</th>\n",
       "      <td>...</td>\n",
       "      <td>...</td>\n",
       "      <td>...</td>\n",
       "      <td>...</td>\n",
       "      <td>...</td>\n",
       "      <td>...</td>\n",
       "      <td>...</td>\n",
       "      <td>...</td>\n",
       "      <td>...</td>\n",
       "      <td>...</td>\n",
       "      <td>...</td>\n",
       "      <td>...</td>\n",
       "      <td>...</td>\n",
       "      <td>...</td>\n",
       "      <td>...</td>\n",
       "      <td>...</td>\n",
       "      <td>...</td>\n",
       "      <td>...</td>\n",
       "      <td>...</td>\n",
       "    </tr>\n",
       "    <tr>\n",
       "      <th>445</th>\n",
       "      <td>718</td>\n",
       "      <td>Data Entry</td>\n",
       "      <td>US, FL, HILLIARD FL</td>\n",
       "      <td></td>\n",
       "      <td>25-30</td>\n",
       "      <td></td>\n",
       "      <td>&lt;p&gt;Prepares source data for computer entry b...</td>\n",
       "      <td>&lt;p&gt;We are seeking extremely motivated and expe...</td>\n",
       "      <td>&lt;p&gt;ÃÂÃÂ Health, Dental, Life and AD&amp;amp;D I...</td>\n",
       "      <td>f</td>\n",
       "      <td>f</td>\n",
       "      <td>f</td>\n",
       "      <td>Contract</td>\n",
       "      <td>Internship</td>\n",
       "      <td></td>\n",
       "      <td>Consumer Services</td>\n",
       "      <td>Accounting/Auditing</td>\n",
       "      <td>t</td>\n",
       "      <td>t</td>\n",
       "    </tr>\n",
       "    <tr>\n",
       "      <th>446</th>\n",
       "      <td>826</td>\n",
       "      <td>Personal Assistant</td>\n",
       "      <td>US, NY, New York</td>\n",
       "      <td>Admin - Clerical</td>\n",
       "      <td></td>\n",
       "      <td></td>\n",
       "      <td>&lt;p&gt;Job Description&lt;/p&gt;\\r\\n&lt;p&gt;&lt;br&gt;Vertex Glob...</td>\n",
       "      <td></td>\n",
       "      <td></td>\n",
       "      <td>f</td>\n",
       "      <td>f</td>\n",
       "      <td>f</td>\n",
       "      <td>Temporary</td>\n",
       "      <td>Entry level</td>\n",
       "      <td>Unspecified</td>\n",
       "      <td>Telecommunications</td>\n",
       "      <td>Administrative</td>\n",
       "      <td>t</td>\n",
       "      <td>t</td>\n",
       "    </tr>\n",
       "    <tr>\n",
       "      <th>447</th>\n",
       "      <td>675</td>\n",
       "      <td>OR Specialty Coordinator</td>\n",
       "      <td>US, ,</td>\n",
       "      <td></td>\n",
       "      <td></td>\n",
       "      <td></td>\n",
       "      <td>&lt;p&gt;&lt;b&gt;Apply using below link&lt;/b&gt;&lt;/p&gt;\\r\\n&lt;p&gt;&lt;...</td>\n",
       "      <td></td>\n",
       "      <td></td>\n",
       "      <td>f</td>\n",
       "      <td>f</td>\n",
       "      <td>f</td>\n",
       "      <td>Full-time</td>\n",
       "      <td></td>\n",
       "      <td></td>\n",
       "      <td>Hospital &amp; Health Care</td>\n",
       "      <td></td>\n",
       "      <td>t</td>\n",
       "      <td>t</td>\n",
       "    </tr>\n",
       "    <tr>\n",
       "      <th>448</th>\n",
       "      <td>555</td>\n",
       "      <td>Sales Consultant NYC</td>\n",
       "      <td>US, NY, New York</td>\n",
       "      <td></td>\n",
       "      <td></td>\n",
       "      <td>&lt;p&gt;Sarbari is a high-growth, investment-backed...</td>\n",
       "      <td>&lt;p&gt;Sarbari is a high-growth, investment-backed...</td>\n",
       "      <td></td>\n",
       "      <td>&lt;p&gt;Sarbari offers a base salary and high earni...</td>\n",
       "      <td>f</td>\n",
       "      <td>t</td>\n",
       "      <td>f</td>\n",
       "      <td>Full-time</td>\n",
       "      <td>Associate</td>\n",
       "      <td></td>\n",
       "      <td>Food &amp; Beverages</td>\n",
       "      <td>Sales</td>\n",
       "      <td>f</td>\n",
       "      <td>t</td>\n",
       "    </tr>\n",
       "    <tr>\n",
       "      <th>449</th>\n",
       "      <td>439</td>\n",
       "      <td>Account Manager</td>\n",
       "      <td>NZ, N, Auckland</td>\n",
       "      <td>Customer Service</td>\n",
       "      <td>55000-65000</td>\n",
       "      <td>&lt;p&gt;HealthLink provides a computer communicatio...</td>\n",
       "      <td>&lt;p&gt;HealthLink provides a computer communicatio...</td>\n",
       "      <td>&lt;ul&gt;\\r\\n&lt;li&gt;Good computer skills: experience i...</td>\n",
       "      <td>&lt;ul&gt;\\r\\n&lt;li&gt;Stimulating environment with high ...</td>\n",
       "      <td>f</td>\n",
       "      <td>t</td>\n",
       "      <td>t</td>\n",
       "      <td>Full-time</td>\n",
       "      <td>Not Applicable</td>\n",
       "      <td>Bachelor's Degree</td>\n",
       "      <td>Information Technology and Services</td>\n",
       "      <td>Customer Service</td>\n",
       "      <td>f</td>\n",
       "      <td>t</td>\n",
       "    </tr>\n",
       "  </tbody>\n",
       "</table>\n",
       "<p>450 rows × 19 columns</p>\n",
       "</div>"
      ],
      "text/plain": [
       "     Unnamed: 0                            title               location  \\\n",
       "0           421                  Mobile Engineer       US, ND, Bismarck   \n",
       "1           545  BI Consultant & Database Expert                 BE, ,    \n",
       "2           806  Customer Service Representative    US, TX, SAN ANTONIO   \n",
       "3           803         Administrative Assistant      US, CA, Santa Ana   \n",
       "4           147  Key Account Manager Switzerland          CH, BS, Basel   \n",
       "..          ...                              ...                    ...   \n",
       "445         718                       Data Entry  US, FL, HILLIARD FL     \n",
       "446         826               Personal Assistant       US, NY, New York   \n",
       "447         675         OR Specialty Coordinator                 US, ,    \n",
       "448         555             Sales Consultant NYC       US, NY, New York   \n",
       "449         439                  Account Manager        NZ, N, Auckland   \n",
       "\n",
       "           department salary_range  \\\n",
       "0                                    \n",
       "1                tech                \n",
       "2                                    \n",
       "3                                    \n",
       "4               Sales                \n",
       "..                ...          ...   \n",
       "445                          25-30   \n",
       "446  Admin - Clerical                \n",
       "447                                  \n",
       "448                                  \n",
       "449  Customer Service  55000-65000   \n",
       "\n",
       "                                       company_profile  \\\n",
       "0    <p>We're changing how the world creates and pu...   \n",
       "1    <p>hello world</p>\\r\\n<p>talents23_ drives the...   \n",
       "2                                                        \n",
       "3                                                        \n",
       "4                                                        \n",
       "..                                                 ...   \n",
       "445                                                      \n",
       "446                                                      \n",
       "447                                                      \n",
       "448  <p>Sarbari is a high-growth, investment-backed...   \n",
       "449  <p>HealthLink provides a computer communicatio...   \n",
       "\n",
       "                                           description  \\\n",
       "0    <p>We're changing how the world creates and pu...   \n",
       "1    <p>hello world</p>\\r\\n<p>talents23_ drives the...   \n",
       "2      <p>SUMMARYResponsible for acting as a liaiso...   \n",
       "3      <p>ÃÂÃÂ In addition to clerical and admin...   \n",
       "4      <p>Are you looking for a career that will ch...   \n",
       "..                                                 ...   \n",
       "445    <p>Prepares source data for computer entry b...   \n",
       "446    <p>Job Description</p>\\r\\n<p><br>Vertex Glob...   \n",
       "447    <p><b>Apply using below link</b></p>\\r\\n<p><...   \n",
       "448  <p>Sarbari is a high-growth, investment-backed...   \n",
       "449  <p>HealthLink provides a computer communicatio...   \n",
       "\n",
       "                                          requirements  \\\n",
       "0    <h3>The Musts:</h3>\\r\\n<ul>\\r\\n<li>You think b...   \n",
       "1    <ul>\\r\\n<li>You know SQL and have professional...   \n",
       "2    <p>Experience: Proficiency with Microsoft Word...   \n",
       "3                                                        \n",
       "4                                                        \n",
       "..                                                 ...   \n",
       "445  <p>We are seeking extremely motivated and expe...   \n",
       "446                                                      \n",
       "447                                                      \n",
       "448                                                      \n",
       "449  <ul>\\r\\n<li>Good computer skills: experience i...   \n",
       "\n",
       "                                              benefits telecommuting  \\\n",
       "0    <h3>The Perks (full-time only):</h3>\\r\\n<ul>\\r...             f   \n",
       "1    <ul>\\r\\n<li>WeÃÂ¢ÃÂÃÂre theÃÂÃÂ key An...             f   \n",
       "2    <p>You would be eligible to Benefits after 2mo...             f   \n",
       "3                               <p>No requirements</p>             f   \n",
       "4                                                                  f   \n",
       "..                                                 ...           ...   \n",
       "445  <p>ÃÂÃÂ Health, Dental, Life and AD&amp;D I...             f   \n",
       "446                                                                f   \n",
       "447                                                                f   \n",
       "448  <p>Sarbari offers a base salary and high earni...             f   \n",
       "449  <ul>\\r\\n<li>Stimulating environment with high ...             f   \n",
       "\n",
       "    has_company_logo has_questions employment_type required_experience  \\\n",
       "0                  t             t       Full-time         Entry level   \n",
       "1                  t             t       Full-time           Associate   \n",
       "2                  f             f       Full-time      Not Applicable   \n",
       "3                  f             f       Full-time                       \n",
       "4                  t             t       Full-time           Associate   \n",
       "..               ...           ...             ...                 ...   \n",
       "445                f             f        Contract          Internship   \n",
       "446                f             f       Temporary         Entry level   \n",
       "447                f             f       Full-time                       \n",
       "448                t             f       Full-time           Associate   \n",
       "449                t             t       Full-time      Not Applicable   \n",
       "\n",
       "            required_education                             industry  \\\n",
       "0                  Unspecified                  Program Development   \n",
       "1                                                                     \n",
       "2    High School or equivalent                    Consumer Services   \n",
       "3                                                        Accounting   \n",
       "4            Bachelor's Degree                 Education Management   \n",
       "..                         ...                                  ...   \n",
       "445                                               Consumer Services   \n",
       "446                Unspecified                   Telecommunications   \n",
       "447                                          Hospital & Health Care   \n",
       "448                                                Food & Beverages   \n",
       "449          Bachelor's Degree  Information Technology and Services   \n",
       "\n",
       "                function fraudulent in_balanced_dataset  \n",
       "0                  Other          f                   t  \n",
       "1                                 f                   t  \n",
       "2       Customer Service          t                   t  \n",
       "3         Administrative          t                   t  \n",
       "4                  Sales          f                   t  \n",
       "..                   ...        ...                 ...  \n",
       "445  Accounting/Auditing          t                   t  \n",
       "446       Administrative          t                   t  \n",
       "447                               t                   t  \n",
       "448                Sales          f                   t  \n",
       "449     Customer Service          f                   t  \n",
       "\n",
       "[450 rows x 19 columns]"
      ]
     },
     "execution_count": 54,
     "metadata": {},
     "output_type": "execute_result"
    }
   ],
   "source": [
    "df2 = df2.fillna(\"\")\n",
    "df2['description']=df2['company_profile']+\" \"+df2['description']+\" \"+ df2['requirements']+\" \"+df2['benefits']\n",
    "df2"
   ]
  },
  {
   "cell_type": "code",
   "execution_count": 56,
   "id": "4b064c37-c21a-4051-9c42-a49c86c7309d",
   "metadata": {
    "tags": []
   },
   "outputs": [
    {
     "data": {
      "text/html": [
       "<div>\n",
       "<style scoped>\n",
       "    .dataframe tbody tr th:only-of-type {\n",
       "        vertical-align: middle;\n",
       "    }\n",
       "\n",
       "    .dataframe tbody tr th {\n",
       "        vertical-align: top;\n",
       "    }\n",
       "\n",
       "    .dataframe thead th {\n",
       "        text-align: right;\n",
       "    }\n",
       "</style>\n",
       "<table border=\"1\" class=\"dataframe\">\n",
       "  <thead>\n",
       "    <tr style=\"text-align: right;\">\n",
       "      <th></th>\n",
       "      <th>fraudulent</th>\n",
       "      <th>description</th>\n",
       "      <th>scam</th>\n",
       "      <th>text</th>\n",
       "    </tr>\n",
       "  </thead>\n",
       "  <tbody>\n",
       "    <tr>\n",
       "      <th>0</th>\n",
       "      <td>f</td>\n",
       "      <td>&lt;p&gt;We're changing how the world creates and pu...</td>\n",
       "      <td>0</td>\n",
       "      <td>&lt;p&gt;We're changing how the world creates and pu...</td>\n",
       "    </tr>\n",
       "    <tr>\n",
       "      <th>1</th>\n",
       "      <td>f</td>\n",
       "      <td>&lt;p&gt;hello world&lt;/p&gt;\\r\\n&lt;p&gt;talents23_ drives the...</td>\n",
       "      <td>0</td>\n",
       "      <td>&lt;p&gt;hello world&lt;/p&gt;\\r\\n&lt;p&gt;talents23_ drives the...</td>\n",
       "    </tr>\n",
       "    <tr>\n",
       "      <th>2</th>\n",
       "      <td>t</td>\n",
       "      <td>&lt;p&gt;SUMMARYResponsible for acting as a liaiso...</td>\n",
       "      <td>1</td>\n",
       "      <td>&lt;p&gt;SUMMARYResponsible for acting as a liaiso...</td>\n",
       "    </tr>\n",
       "    <tr>\n",
       "      <th>3</th>\n",
       "      <td>t</td>\n",
       "      <td>&lt;p&gt;ÃÂÃÂ In addition to clerical and admin...</td>\n",
       "      <td>1</td>\n",
       "      <td>&lt;p&gt;ÃÂÃÂ In addition to clerical and admin...</td>\n",
       "    </tr>\n",
       "    <tr>\n",
       "      <th>4</th>\n",
       "      <td>f</td>\n",
       "      <td>&lt;p&gt;Are you looking for a career that will ch...</td>\n",
       "      <td>0</td>\n",
       "      <td>&lt;p&gt;Are you looking for a career that will ch...</td>\n",
       "    </tr>\n",
       "  </tbody>\n",
       "</table>\n",
       "</div>"
      ],
      "text/plain": [
       "  fraudulent                                        description  scam  \\\n",
       "0          f  <p>We're changing how the world creates and pu...     0   \n",
       "1          f  <p>hello world</p>\\r\\n<p>talents23_ drives the...     0   \n",
       "2          t    <p>SUMMARYResponsible for acting as a liaiso...     1   \n",
       "3          t    <p>ÃÂÃÂ In addition to clerical and admin...     1   \n",
       "4          f    <p>Are you looking for a career that will ch...     0   \n",
       "\n",
       "                                                text  \n",
       "0  <p>We're changing how the world creates and pu...  \n",
       "1  <p>hello world</p>\\r\\n<p>talents23_ drives the...  \n",
       "2    <p>SUMMARYResponsible for acting as a liaiso...  \n",
       "3    <p>ÃÂÃÂ In addition to clerical and admin...  \n",
       "4    <p>Are you looking for a career that will ch...  "
      ]
     },
     "execution_count": 56,
     "metadata": {},
     "output_type": "execute_result"
    }
   ],
   "source": [
    "#extracting the description and fraudulent columns\n",
    "def fraudulent(x):\n",
    "    if(x=='f'):\n",
    "        return 0\n",
    "    return 1\n",
    "df_OD = df2[['fraudulent', 'description']].copy()\n",
    "df_OD.head()\n",
    "df_OD['scam'] = df2['fraudulent'].map(lambda x:fraudulent(x))\n",
    "df_OD['text']= df2['description'].copy()\n",
    "df_OD.head()"
   ]
  },
  {
   "cell_type": "code",
   "execution_count": 27,
   "id": "47198c2f-b9da-4b57-aa7d-ef4e2953340f",
   "metadata": {
    "tags": []
   },
   "outputs": [
    {
     "data": {
      "text/html": [
       "<div>\n",
       "<style scoped>\n",
       "    .dataframe tbody tr th:only-of-type {\n",
       "        vertical-align: middle;\n",
       "    }\n",
       "\n",
       "    .dataframe tbody tr th {\n",
       "        vertical-align: top;\n",
       "    }\n",
       "\n",
       "    .dataframe thead th {\n",
       "        text-align: right;\n",
       "    }\n",
       "</style>\n",
       "<table border=\"1\" class=\"dataframe\">\n",
       "  <thead>\n",
       "    <tr style=\"text-align: right;\">\n",
       "      <th></th>\n",
       "      <th>scam</th>\n",
       "      <th>text</th>\n",
       "    </tr>\n",
       "  </thead>\n",
       "  <tbody>\n",
       "    <tr>\n",
       "      <th>0</th>\n",
       "      <td>0</td>\n",
       "      <td>&lt;p&gt;We're changing how the world creates and pu...</td>\n",
       "    </tr>\n",
       "    <tr>\n",
       "      <th>1</th>\n",
       "      <td>0</td>\n",
       "      <td>&lt;p&gt;hello world&lt;/p&gt;\\r\\n&lt;p&gt;talents23_ drives the...</td>\n",
       "    </tr>\n",
       "    <tr>\n",
       "      <th>2</th>\n",
       "      <td>1</td>\n",
       "      <td>&lt;p&gt;SUMMARYResponsible for acting as a liaison...</td>\n",
       "    </tr>\n",
       "    <tr>\n",
       "      <th>3</th>\n",
       "      <td>1</td>\n",
       "      <td>&lt;p&gt;ÃÂÃÂ In addition to clerical and admini...</td>\n",
       "    </tr>\n",
       "    <tr>\n",
       "      <th>4</th>\n",
       "      <td>0</td>\n",
       "      <td>&lt;p&gt;Are you looking for a career that will cha...</td>\n",
       "    </tr>\n",
       "  </tbody>\n",
       "</table>\n",
       "</div>"
      ],
      "text/plain": [
       "   scam                                               text\n",
       "0     0  <p>We're changing how the world creates and pu...\n",
       "1     0  <p>hello world</p>\\r\\n<p>talents23_ drives the...\n",
       "2     1   <p>SUMMARYResponsible for acting as a liaison...\n",
       "3     1   <p>ÃÂÃÂ In addition to clerical and admini...\n",
       "4     0   <p>Are you looking for a career that will cha..."
      ]
     },
     "execution_count": 27,
     "metadata": {},
     "output_type": "execute_result"
    }
   ],
   "source": [
    "#dropping columns, leaving \"scam\" and \"text\"\n",
    "df_OD=df_OD.drop(['fraudulent', 'description'], axis=1)\n",
    "\n",
    "df_OD.head()\n",
    "    \n"
   ]
  },
  {
   "cell_type": "code",
   "execution_count": 57,
   "id": "885b75fa-8639-414f-929c-a7ebe82f6609",
   "metadata": {
    "tags": []
   },
   "outputs": [],
   "source": [
    "#lemmatization of data using library, removal of HTML tags\n",
    "lem = WordNetLemmatizer()\n",
    "def preprocessing(data):\n",
    "      sms = contractions.fix(data) # converting shortened words to original (Eg:\"I'm\" to \"I am\")\n",
    "      sms = sms.lower() # lower casing the sms\n",
    "      sms = re.sub(r'https?://S+|www.S+', \"\", sms).strip() #removing url\n",
    "      sms = re.sub(\"[^a-z ]\", \"\", sms) # removing symbols and numbes\n",
    "      sms = sms.split() #splitting\n",
    "      # lemmatization and stopword removal\n",
    "      sms = [lem.lemmatize(word) for word in sms if not word in set(stopwords.words(\"english\"))]\n",
    "      sms = \" \".join(sms)\n",
    "      return sms\n",
    "\n",
    "def remove_tags(string):\n",
    "    result = re.sub('<.*?>','',string)\n",
    "    return result\n",
    "\n",
    "\n",
    "df_OD['text']=df_OD['text'].apply(lambda cw : remove_tags(cw))\n",
    "\n",
    "X = df_OD[\"text\"].apply(preprocessing)\n"
   ]
  },
  {
   "cell_type": "code",
   "execution_count": 58,
   "id": "ed8be661-6e0e-4bc4-b798-838154e045b1",
   "metadata": {
    "tags": []
   },
   "outputs": [],
   "source": [
    "#encode \"scam\" column into array\n",
    "from sklearn.preprocessing import LabelEncoder\n",
    "lb_enc = LabelEncoder()\n",
    "y = lb_enc.fit_transform(df_OD[\"scam\"])"
   ]
  },
  {
   "cell_type": "code",
   "execution_count": 59,
   "id": "84580329-8059-4a53-8f23-85dca1a88101",
   "metadata": {
    "tags": []
   },
   "outputs": [
    {
     "name": "stdout",
     "output_type": "stream",
     "text": [
      "0      changing world creates publishes content even ...\n",
      "1      hello worldtalents drive change digital recrui...\n",
      "2      summaryresponsible acting liaison customer com...\n",
      "3      addition clerical administrative duty individu...\n",
      "4      looking career challenge allow make impact eve...\n",
      "                             ...                        \n",
      "445    prepares source data computer entry compiling ...\n",
      "446    job descriptionvertex global solution seek exe...\n",
      "447    apply using linkurlabecbbbaadffccccaaebor spec...\n",
      "448    sarbari highgrowth investmentbacked software c...\n",
      "449    healthlink provides computer communication sys...\n",
      "Name: text, Length: 450, dtype: object\n"
     ]
    }
   ],
   "source": [
    "#tokenize data, convert to integers\n",
    "tokenizer = Tokenizer() #initializing the tokenizer\n",
    "tokenizer.fit_on_texts(X)# fitting on the sms data\n",
    "text_to_sequence = tokenizer.texts_to_sequences(X)\n",
    "print(X)"
   ]
  },
  {
   "cell_type": "code",
   "execution_count": 60,
   "id": "7e8cb25f-8a14-4048-a708-f2921449f145",
   "metadata": {
    "tags": []
   },
   "outputs": [
    {
     "data": {
      "text/plain": [
       "450"
      ]
     },
     "execution_count": 60,
     "metadata": {},
     "output_type": "execute_result"
    }
   ],
   "source": [
    "#add padding, the length of every sequence is the max length\n",
    "max_length_sequence = max([len(i) for i in text_to_sequence])\n",
    " # finding the length of largest sequence\n",
    "padded_sms_sequence = pad_sequences(text_to_sequence, maxlen=max_length_sequence, \n",
    "                                    padding = \"pre\") \n",
    "len(padded_sms_sequence)"
   ]
  },
  {
   "cell_type": "code",
   "execution_count": 65,
   "id": "301c8759-cbfc-4494-9a73-f3f9570e2203",
   "metadata": {
    "tags": []
   },
   "outputs": [
    {
     "name": "stdout",
     "output_type": "stream",
     "text": [
      "Model: \"sequential_3\"\n",
      "_________________________________________________________________\n",
      " Layer (type)                Output Shape              Param #   \n",
      "=================================================================\n",
      " embedding_3 (Embedding)     (None, 4024, 32)          407232    \n",
      "                                                                 \n",
      " lstm_3 (LSTM)               (None, 50)                16600     \n",
      "                                                                 \n",
      " dropout_6 (Dropout)         (None, 50)                0         \n",
      "                                                                 \n",
      " dense_6 (Dense)             (None, 20)                1020      \n",
      "                                                                 \n",
      " dropout_7 (Dropout)         (None, 20)                0         \n",
      "                                                                 \n",
      " dense_7 (Dense)             (None, 1)                 21        \n",
      "                                                                 \n",
      "=================================================================\n",
      "Total params: 424873 (1.62 MB)\n",
      "Trainable params: 424873 (1.62 MB)\n",
      "Non-trainable params: 0 (0.00 Byte)\n",
      "_________________________________________________________________\n"
     ]
    }
   ],
   "source": [
    "#LSTM MODEL, utilizing dropouts to prevent overfitting\n",
    "TOT_SIZE = len(tokenizer.word_index)+1\n",
    "def create_model():\n",
    "      lstm_model = Sequential()\n",
    "      lstm_model.add(Embedding(TOT_SIZE, 32, input_length=max_length_sequence))\n",
    "      lstm_model.add(LSTM(50))\n",
    "      lstm_model.add(Dropout(0.4))\n",
    "      lstm_model.add(Dense(20, activation=\"relu\"))\n",
    "      lstm_model.add(Dropout(0.3))\n",
    "      lstm_model.add(Dense(1, activation = \"sigmoid\"))\n",
    "      return lstm_model\n",
    "lstm_model = create_model()\n",
    "lstm_model.compile(loss = \"binary_crossentropy\", optimizer = \"adam\", metrics = [\"binary_crossentropy\"])\n",
    "lstm_model.summary()"
   ]
  },
  {
   "cell_type": "code",
   "execution_count": 66,
   "id": "eda18ef8-c830-4e3c-b211-7d38fd4f9b9c",
   "metadata": {
    "tags": []
   },
   "outputs": [
    {
     "name": "stdout",
     "output_type": "stream",
     "text": [
      "Epoch 1/9\n",
      "6/6 [==============================] - 12s 2s/step - loss: 0.6923 - binary_crossentropy: 0.6923 - val_loss: 0.6906 - val_binary_crossentropy: 0.6906\n",
      "Epoch 2/9\n",
      "6/6 [==============================] - 10s 2s/step - loss: 0.6887 - binary_crossentropy: 0.6887 - val_loss: 0.6879 - val_binary_crossentropy: 0.6879\n",
      "Epoch 3/9\n",
      "6/6 [==============================] - 10s 2s/step - loss: 0.6793 - binary_crossentropy: 0.6793 - val_loss: 0.6807 - val_binary_crossentropy: 0.6807\n",
      "Epoch 4/9\n",
      "6/6 [==============================] - 10s 2s/step - loss: 0.6544 - binary_crossentropy: 0.6544 - val_loss: 0.6530 - val_binary_crossentropy: 0.6530\n",
      "Epoch 5/9\n",
      "6/6 [==============================] - 10s 2s/step - loss: 0.5463 - binary_crossentropy: 0.5463 - val_loss: 0.5723 - val_binary_crossentropy: 0.5723\n",
      "Epoch 6/9\n",
      "6/6 [==============================] - 10s 2s/step - loss: 0.4428 - binary_crossentropy: 0.4428 - val_loss: 0.5038 - val_binary_crossentropy: 0.5038\n",
      "Epoch 7/9\n",
      "6/6 [==============================] - 10s 2s/step - loss: 0.3839 - binary_crossentropy: 0.3839 - val_loss: 0.5695 - val_binary_crossentropy: 0.5695\n",
      "Epoch 8/9\n",
      "6/6 [==============================] - 10s 2s/step - loss: 0.3218 - binary_crossentropy: 0.3218 - val_loss: 0.4565 - val_binary_crossentropy: 0.4565\n",
      "Epoch 9/9\n",
      "6/6 [==============================] - 9s 2s/step - loss: 0.2778 - binary_crossentropy: 0.2778 - val_loss: 0.5610 - val_binary_crossentropy: 0.5610\n"
     ]
    }
   ],
   "source": [
    "#batch-size was determined to be 64, around 10 epochs produced most balanced results\n",
    "history=lstm_model.fit(padded_sms_sequence, y, epochs =9, validation_split=0.2, batch_size=64)"
   ]
  },
  {
   "cell_type": "code",
   "execution_count": 68,
   "id": "c985ed13-2fa1-4330-a63d-3102b74c6068",
   "metadata": {
    "tags": []
   },
   "outputs": [
    {
     "name": "stdout",
     "output_type": "stream",
     "text": [
      "Text               :  accepting online application onlyclick applythis full time temporary position lasting yearsdescriptionvalidate review legal contractual agreement customer input contract contract database contract completed amp reviewed within perdetermined service level agreement professional email interaction customer scanning uploading documentsqualificationshigh school diploma equivalent professional communication skill via email interactiondedicated need business project management skill assist facilitating multiple contract reject detail oriented able multitaskability work time sensitive document must able work independently able perform team environment needed fast accurate typistaccepting online application onlyclick apply\n",
      "Numerical Sequence :  [697, 118, 1406, 4886, 261, 698, 4887, 932, 4888, 898, 228, 4074, 110, 58, 697, 118, 1406, 4886, 261, 698, 4887, 932, 4888, 898, 228, 4074, 110, 58, 37, 130, 43, 361, 933, 187, 9090, 110, 997, 248, 161, 9091, 202, 83, 69, 2024, 1487, 839, 2242, 1050, 4889, 1549, 3145, 83, 69, 99, 41, 99, 391, 2025, 899, 83, 69, 1213, 1214, 9092, 1487, 839, 107, 1050, 118, 4890, 9093, 9094, 130, 361, 4889, 235, 126, 3146, 17, 43, 933, 187, 664, 153, 304, 2026, 105, 14, 369, 85, 9095, 2243, 1674, 78, 77, 9096, 786, 9097, 64, 2, 9098, 340, 49, 4891, 405, 154, 477, 1150, 4892, 14, 374, 6, 1105, 4893, 100, 3147, 105, 1, 4894, 1906, 577, 1051, 577, 4, 4895, 765, 1344, 54, 34, 933, 187, 4896, 998, 137, 740, 17, 113, 4897, 1, 4898, 766, 37, 17, 4899, 362, 3146, 162, 63, 70, 105, 4900, 1215, 36, 840, 4901, 34, 2, 4902, 14, 78, 101, 2, 4903, 4904, 59, 12, 2, 42, 1, 2027, 1050, 126, 999, 1050, 4905, 684, 4906, 18, 375, 83, 1216, 720, 414, 2470, 551, 4907, 4908, 185, 185, 4909, 900, 139, 435, 31, 1262, 262, 4910, 161, 4911, 144, 206, 178, 217, 4912, 4913, 1907, 2810, 3148, 1550, 4914, 4915, 3149, 595, 4916, 4917, 287, 4918, 2244, 4919, 4920, 841, 4921, 4922, 4923, 2471, 331, 4924, 4925, 526, 4926, 1263, 2472, 4927, 1766, 1766, 25, 4891, 405, 154, 477, 1150, 4892, 14, 374, 6, 1105, 4893, 100, 3147, 105, 1, 4894, 1906, 577, 1051, 577, 4, 4895, 765, 1344, 54, 34, 933, 187, 4896, 998, 137, 740, 17, 113, 4897, 1, 4898, 766, 37, 17, 4899, 362, 3146, 162, 63, 70, 105, 4900, 1215, 36, 840, 4901, 34, 2, 4902, 14, 78, 101, 2, 4903, 4904, 59, 12, 2, 42, 1, 2027, 1050, 126, 999, 1050, 4905, 684, 4906, 18, 375, 83, 1216, 720, 414, 2470, 551, 4907, 4908, 185, 185, 4909, 900, 139, 435, 31, 1262, 262, 4910, 161, 4911, 144, 206, 178, 217, 4912, 4913, 1907, 2810, 3148, 1550, 4914, 4915, 3149, 595, 4916, 4917, 287, 4918, 2244, 4919, 4920, 841, 4921, 4922, 4923, 2471, 331, 4924, 4925, 526, 4926, 1263, 2472, 4927, 1766, 1766, 25]\n",
      "Text               :  position administrative assistant whose job primarily consist calling prospect expressed interest service requested contacted workfromhome optionthere absolutely coldcalling involved whatsoeverthis person need pleasant professional comfortable talking seniorlevel manager executive attentiontodetail must extensive tracking need made prospect\n",
      "Numerical Sequence :  [4928, 4929, 273, 271, 104, 415, 873, 88, 105, 4075, 842, 244, 455, 4928, 4929, 273, 271, 104, 415, 873, 88, 105, 4075, 842, 244, 455, 155, 147, 5, 1264, 27, 223, 10, 527, 9099, 64, 29, 1767, 9100, 1908, 4076, 9101, 9102, 5, 312, 207, 27, 223, 40, 578, 3, 1265, 1052, 552, 901, 2811, 2245, 1407, 9103, 9104, 52, 248, 1, 31, 4077, 1408, 301, 1151, 488, 9105, 374, 997, 223, 5, 9106, 334, 1217, 9107, 224, 55, 4078, 9108, 9109, 1152, 34, 24, 9110, 4930, 9111, 14, 34, 468, 36, 27, 2473, 203, 1488, 27, 959, 9112, 40, 376, 468, 9113, 24, 80, 44, 1551, 553, 14, 9114, 9115, 320, 39, 2474, 369, 38, 214, 91, 9, 604, 554, 219, 84, 34, 5, 305, 596, 42, 2, 18, 203, 27, 1152, 4931, 1153, 3150, 1106, 4932, 787, 4933, 2474, 162, 12, 2, 131, 4934, 92, 55, 24, 3151, 315, 2028, 203, 36, 27, 4935, 1552, 71, 10, 173, 4079, 173, 75, 4936, 4080, 4937, 179, 4938, 2, 4939, 767, 10, 94, 219, 2475, 3152, 579, 4940, 215, 685, 225, 699, 3153, 665, 843, 1908, 4941, 4942, 77, 577, 4943, 154, 686, 4081, 2029, 159, 65, 1345, 11, 140, 1000, 4944, 223, 4945, 4946, 1052, 4947, 1, 4948, 4949, 4082, 27, 4950, 3154, 4951, 27, 4952, 10, 4953, 350, 4954, 1, 4083, 237, 4955, 1001, 4956, 579, 2246, 1, 4957, 4958, 4959, 4960, 4961, 263, 1002, 4962, 4963, 4964, 392, 264, 9, 4965, 334, 4966, 648, 2476, 3155, 2477, 63, 305, 596, 42, 2, 18, 203, 27, 1152, 4931, 1153, 3150, 1106, 4932, 787, 4933, 2474, 162, 12, 2, 131, 4934, 92, 55, 24, 3151, 315, 2028, 203, 36, 27, 4935, 1552, 71, 10, 173, 4079, 173, 75, 4936, 4080, 4937, 179, 4938, 2, 4939, 767, 10, 94, 219, 2475, 3152, 579, 4940, 215, 685, 225, 699, 3153, 665, 843, 1908, 4941, 4942, 77, 577, 4943, 154, 686, 4081, 2029, 159, 65, 1345, 11, 140, 1000, 4944, 223, 4945, 4946, 1052, 4947, 1, 4948, 4949, 4082, 27, 4950, 3154, 4951, 27, 4952, 10, 4953, 350, 4954, 1, 4083, 237, 4955, 1001, 4956, 579, 2246, 1, 4957, 4958, 4959, 4960, 4961, 263, 1002, 4962, 4963, 4964, 392, 264, 9, 4965, 334, 4966, 648, 2476, 3155, 2477, 63]\n",
      "Text               :  ultra luxury american cruise company urgently looking following positionshospitality many bar amp restaurant boardretail duty free shop amp boutique boardhousekeeping housekeeping amp cleaning jobsoffice admin front desk amp tour booking jobsother position dj security staff photographer amp nanniesvessel type operation ultra luxury cruisecertification amp experienceprevious experience requiredgood english speaker customer service skill wanting learn amp workjob typepermsailing areaworld widebenefitson board en suite accommodation food medical cover duration contractworld work visa free wifitax free salary amp morejob descriptiona ultra luxury cruise company looking recruit hardworking enthusiastic cruise personalthis exciting opportunity available candidate willing learn work amp flexiblecandidate also customer service skill skill public relation good english speakersrotation month month great salary euro tax freepay discussed via communication full application proccessif looking new adventure apply todayplease send resume emaileadacdedbcafcbacbacfdffcb coppy amp paste email addresswe contact shortly within hourslooking forward aboardadrian westdept rec\n",
      "Numerical Sequence :  [9116, 9117, 2247, 6, 5, 245, 1909, 313, 2248, 168, 666, 844, 9118, 9119, 9120, 6, 1909, 351, 123, 95, 788, 83, 9121, 580, 1003, 6, 4084, 168, 9122, 6, 9123, 9124, 132, 1053, 9125, 1910, 9126, 1768, 313, 9127, 9128, 5, 9129, 684, 86, 4085, 86, 416, 123, 9130, 9131, 9132, 666, 4967, 363, 9133, 5, 9134, 40, 14, 9135, 14, 9136, 4086, 6, 9137, 9138, 6, 787, 9139, 14, 9140, 75, 36, 960, 70, 133, 9141, 6, 3, 99, 141, 1769, 6, 3, 9142, 321, 133, 229, 2, 961, 194, 249, 230, 667, 2812, 72, 261, 24, 23, 2478, 203, 4968, 18, 1266, 220, 2030, 2031, 1675, 24, 238, 186, 845, 45, 115, 18, 5, 45, 1676, 108, 151, 256, 2, 961, 194, 249, 230, 667, 2812, 72, 261, 24, 23, 2478, 203, 4968, 18, 1266, 220, 2030, 2031, 1675, 24, 238, 186, 845, 45, 115, 18, 5, 45, 1676, 108, 151, 256]\n",
      "Text               :  kmc projectwe looking someone reliable ability work hour week would include potentially christmas break manage program worker split break half work part break although increased hour ten day span give preference pc deal breaker\n",
      "Numerical Sequence :  [902, 962, 306, 189, 112, 4969, 39, 29, 127, 109, 112, 35, 85, 1489, 4, 1267, 1677, 94, 94]\n",
      "Text               :  exciting opportunity exists fill parttime position assistant accountant immediate start sydney regionin role key member team responsible overall bookkeeping duty client required proactive duty take task required\n",
      "Numerical Sequence :  [37, 87, 374, 1770, 62, 555, 113, 93, 1054, 26, 142, 19, 335, 2479, 85, 147, 96, 1, 2813, 149, 322, 903, 1771, 666, 4970, 219, 168, 99, 84, 649, 668, 87, 9143, 4087, 341, 12, 1, 149, 352, 322, 161, 61, 113, 93, 4087, 374, 2249, 9144, 2250, 17, 2032, 301, 555, 152, 1, 57, 3156, 456, 2251, 65, 428, 9145, 84, 273, 4970, 10, 4088, 96, 1911, 3157, 190, 1912, 455, 963, 191, 2252, 428, 9146, 9147, 789, 17, 10, 26, 846, 17, 19, 1913, 13, 80, 1268, 323, 497, 9148, 2253, 406, 2480, 4087, 265, 83, 9149, 1346, 9150, 541, 297, 455, 9151, 342, 4971, 650, 9152, 817, 168, 1772, 277, 19, 2254, 13, 1490, 174, 9153, 9154, 1154, 9155, 4088, 96, 192, 13, 9, 159, 9156, 1218, 9157, 12, 2, 13, 10, 34, 1219, 2, 9158, 1913, 13, 9159, 187, 455, 131, 14, 9160, 42, 961, 2255, 180, 111, 1409, 1219, 9161, 23, 225, 2814, 91, 4971, 18, 1218, 1773, 9162, 326, 229, 581, 273, 9163, 181, 9164, 159, 4088, 322, 23, 1, 9165, 4972, 579, 9166, 23, 1410, 91, 248, 9167, 398, 71, 1266]\n"
     ]
    },
    {
     "data": {
      "text/plain": [
       "array([[   0,    0,    0, ...,   52,  998,  162],\n",
       "       [   0,    0,    0, ...,   21,  282, 1526],\n",
       "       [   0,    0,    0, ..., 1332, 1333, 1334],\n",
       "       ...,\n",
       "       [   0,    0,    0, ...,  849, 1010, 1780],\n",
       "       [   0,    0,    0, ...,  824,   14,   38],\n",
       "       [   0,    0,    0, ...,    3,  415,  980]], dtype=int32)"
      ]
     },
     "execution_count": 68,
     "metadata": {},
     "output_type": "execute_result"
    }
   ],
   "source": [
    "#convert testing data in the same manner as the training data\n",
    "\n",
    "df_test = df_test.fillna(\"\")\n",
    "df_test['description']=df_test['company_profile']+df_test['description']\n",
    "df_OD_test = df_test[['fraudulent', 'description']].copy()\n",
    "df_OD_test.head()\n",
    "df_OD_test['scam'] = df_test['fraudulent'].map(lambda x:fraudulent(x))\n",
    "df_OD_test['text']= df_test['description'].copy()\n",
    "df_OD_test=df_OD_test.drop(['fraudulent', 'description'], axis=1)\n",
    "df_OD_test['text']=df_OD_test['text'].apply(lambda cw : remove_tags(cw))\n",
    "X = df_OD_test[\"text\"].apply(preprocessing)\n",
    "for i in range(5):\n",
    "           print(\"Text               : \",X[i] )\n",
    "           print(\"Numerical Sequence : \", text_to_sequence[i])\n",
    "tokenizer = Tokenizer() #initializing the tokenizer\n",
    "tokenizer.fit_on_texts(X)# fitting on the sms data\n",
    "text_to_sequence = tokenizer.texts_to_sequences(X)\n",
    "\n",
    " # finding the length of largest sequence\n",
    "padded_sms_sequence_test = pad_sequences(text_to_sequence, maxlen=max_length_sequence, \n",
    "                                    padding = \"pre\") \n",
    "padded_sms_sequence_test\n"
   ]
  },
  {
   "cell_type": "code",
   "execution_count": 69,
   "id": "203f9fd6-3356-4133-8dd4-ba3d4c1375c0",
   "metadata": {
    "tags": []
   },
   "outputs": [],
   "source": [
    "#encode test data\n",
    "lb_enc = LabelEncoder()\n",
    "y_test = lb_enc.fit_transform(df_OD_test[\"scam\"])"
   ]
  },
  {
   "cell_type": "code",
   "execution_count": 70,
   "id": "1c1a647d-f04a-403a-909c-2d8942f19cc7",
   "metadata": {
    "tags": []
   },
   "outputs": [
    {
     "data": {
      "text/plain": [
       "450"
      ]
     },
     "execution_count": 70,
     "metadata": {},
     "output_type": "execute_result"
    }
   ],
   "source": [
    "len(padded_sms_sequence_test)"
   ]
  },
  {
   "cell_type": "code",
   "execution_count": 86,
   "id": "8522e482-05a8-4b68-9ed7-97cc33f5c9f0",
   "metadata": {},
   "outputs": [
    {
     "name": "stdout",
     "output_type": "stream",
     "text": [
      "15/15 [==============================] - 3s 226ms/step\n",
      "0.93326724\n"
     ]
    },
    {
     "data": {
      "text/plain": [
       "array([[179,  52],\n",
       "       [ 46, 173]])"
      ]
     },
     "execution_count": 86,
     "metadata": {},
     "output_type": "execute_result"
    }
   ],
   "source": [
    "#generate predictions for testing data, take values with probabliltiy above median as spam\n",
    "pred = lstm_model.predict(padded_sms_sequence_test)\n",
    "y_pred=[]\n",
    "med= np.median(pred)\n",
    "print(med)\n",
    "for i in range(0,pred.size):\n",
    "    if pred[i][0] >med:\n",
    "        y_pred.append(1)\n",
    "    else:\n",
    "        y_pred.append(0)\n",
    "from sklearn.metrics import confusion_matrix\n",
    "\n",
    "\n",
    "confusion_matrix(y_test, y_pred)"
   ]
  },
  {
   "cell_type": "code",
   "execution_count": 72,
   "id": "9fe57dc8-5a3a-4214-9b12-8ade6931b7c3",
   "metadata": {
    "tags": []
   },
   "outputs": [],
   "source": [
    "#generate histogram for probability distribution\n",
    "hist,bins = np.histogram(pred,bins = [0,0.2,0.4,0.6,0.8,1]) "
   ]
  },
  {
   "cell_type": "code",
   "execution_count": 73,
   "id": "49ab41a5-1ef8-4d6f-a274-34f21a866918",
   "metadata": {},
   "outputs": [
    {
     "data": {
      "text/plain": [
       "array([  0,  25, 131,  35, 259])"
      ]
     },
     "execution_count": 73,
     "metadata": {},
     "output_type": "execute_result"
    }
   ],
   "source": [
    "hist"
   ]
  },
  {
   "cell_type": "code",
   "execution_count": 74,
   "id": "1650b548-8a02-4eba-adcc-bc10c16147c4",
   "metadata": {},
   "outputs": [],
   "source": [
    "#export model to pickle\n",
    "import pickle\n",
    "pickle.dump(lstm_model, open('model3.pkl', 'wb'))"
   ]
  },
  {
   "cell_type": "code",
   "execution_count": 77,
   "id": "115747df-fcd5-4f32-b004-fe6faebc3dc1",
   "metadata": {},
   "outputs": [
    {
     "name": "stdout",
     "output_type": "stream",
     "text": [
      "15/15 [==============================] - 3s 203ms/step\n",
      "0.93326724\n"
     ]
    },
    {
     "data": {
      "text/plain": [
       "array([[179,  52],\n",
       "       [ 46, 173]])"
      ]
     },
     "execution_count": 77,
     "metadata": {},
     "output_type": "execute_result"
    }
   ],
   "source": [
    "#load model from pickle\n",
    "model = pickle.load(open('model3.pkl','rb'))\n",
    "pred = model.predict(padded_sms_sequence_test)\n",
    "\n",
    "y_pred=[]\n",
    "y_column=[]\n",
    "med= np.median(pred)\n",
    "print(med)\n",
    "for i in range(0,pred.size):\n",
    "    if pred[i][0] >med:\n",
    "        y_pred.append(1)\n",
    "    else:\n",
    "        y_pred.append(0)\n",
    "    y_column.append(pred[i][0])\n",
    "from sklearn.metrics import confusion_matrix\n",
    "\n",
    "confusion_matrix(y_test, y_pred)"
   ]
  },
  {
   "cell_type": "code",
   "execution_count": 78,
   "id": "050b881c-6110-4f04-8271-d97e6b4987c6",
   "metadata": {
    "tags": []
   },
   "outputs": [],
   "source": [
    "#create new column in dataset with predictions\n",
    "df_test['LSTM_PREDICT'] = y_pred"
   ]
  },
  {
   "cell_type": "code",
   "execution_count": 79,
   "id": "becbef16-eab0-420b-9202-9e7e4caff78a",
   "metadata": {
    "tags": []
   },
   "outputs": [],
   "source": [
    "df_test['LSTM_PROB']=y_column"
   ]
  },
  {
   "cell_type": "code",
   "execution_count": 80,
   "id": "db4802c8-8b04-4d89-9e65-b916b63f6d13",
   "metadata": {
    "tags": []
   },
   "outputs": [],
   "source": [
    "#send to csv\n",
    "df_test.to_csv('EDA_Dataset.csv',index=False)"
   ]
  },
  {
   "cell_type": "code",
   "execution_count": 81,
   "id": "703a3c44-273a-4c56-9870-38918156f0f0",
   "metadata": {
    "tags": []
   },
   "outputs": [],
   "source": [
    "df_works=pd.read_csv('EDA_Dataset.csv')"
   ]
  },
  {
   "cell_type": "code",
   "execution_count": 82,
   "id": "301aeca9-ada7-4d23-8178-549e985652c0",
   "metadata": {
    "tags": []
   },
   "outputs": [],
   "source": [
    "df_true=df_works[df_works['fraudulent']=='t']"
   ]
  },
  {
   "cell_type": "code",
   "execution_count": 83,
   "id": "a6b47425-6b8f-49bc-929b-00bc92a97f1e",
   "metadata": {
    "tags": []
   },
   "outputs": [
    {
     "data": {
      "text/plain": [
       "0.8926078148401827"
      ]
     },
     "execution_count": 83,
     "metadata": {},
     "output_type": "execute_result"
    }
   ],
   "source": [
    "#get average probability of spam of actual spam\n",
    "sum(df_true['LSTM_PROB'])/len(df_true['LSTM_PROB'])"
   ]
  },
  {
   "cell_type": "code",
   "execution_count": 84,
   "id": "bc2e379c-b6ab-4644-aefb-9650ede28f4d",
   "metadata": {},
   "outputs": [],
   "source": [
    "df_false=df_works[df_works['fraudulent']=='f']"
   ]
  },
  {
   "cell_type": "code",
   "execution_count": 85,
   "id": "09e1892c-b048-49cd-8176-51275382c87d",
   "metadata": {},
   "outputs": [
    {
     "data": {
      "text/plain": [
       "0.6212031174025973"
      ]
     },
     "execution_count": 85,
     "metadata": {},
     "output_type": "execute_result"
    }
   ],
   "source": [
    "#get average probability of spam of not spam\n",
    "sum(df_false['LSTM_PROB'])/len(df_false['LSTM_PROB'])"
   ]
  },
  {
   "cell_type": "code",
   "execution_count": null,
   "id": "61fce0ec-f2b3-42c5-9655-22e9cc8ce154",
   "metadata": {},
   "outputs": [],
   "source": [
    "#Note: An LSTM is rather chaotic for the predicitons it generates and is very senseitive to initial conditions. The dataset generated by the LSTM in this code is different frmo the one used in the final product.\n",
    "#The results that were selected had a median of 45.\n",
    "#However, the difference between the predicted spam and not spam averages is typically around 25%."
   ]
  }
 ],
 "metadata": {
  "kernelspec": {
   "display_name": "Python 3 (ipykernel)",
   "language": "python",
   "name": "python3"
  },
  "language_info": {
   "codemirror_mode": {
    "name": "ipython",
    "version": 3
   },
   "file_extension": ".py",
   "mimetype": "text/x-python",
   "name": "python",
   "nbconvert_exporter": "python",
   "pygments_lexer": "ipython3",
   "version": "3.8.2"
  }
 },
 "nbformat": 4,
 "nbformat_minor": 5
}
