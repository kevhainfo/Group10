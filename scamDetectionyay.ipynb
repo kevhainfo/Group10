{
 "cells": [
  {
   "cell_type": "code",
   "execution_count": 5,
   "id": "0fefda21-31aa-480f-8709-7fe8d99ddf54",
   "metadata": {
    "tags": []
   },
   "outputs": [
    {
     "name": "stderr",
     "output_type": "stream",
     "text": [
      "[nltk_data] Downloading package wordnet to /Users/kevinha/nltk_data...\n",
      "[nltk_data]   Package wordnet is already up-to-date!\n"
     ]
    }
   ],
   "source": [
    "\n",
    "import pandas as pd\n",
    "import numpy as np\n",
    "import re\n",
    "import collections\n",
    "import contractions\n",
    "import seaborn as sns\n",
    "import matplotlib.pyplot as plt\n",
    "plt.style.use('dark_background')\n",
    "import nltk\n",
    "nltk.download('wordnet')\n",
    "from nltk.stem import WordNetLemmatizer\n",
    "from nltk.corpus import stopwords\n",
    "import warnings\n",
    "warnings.simplefilter(action='ignore', category=Warning)\n",
    "import keras\n",
    "from keras.layers import Dense, Embedding, LSTM, Dropout\n",
    "from keras.models import Sequential\n",
    "from keras.preprocessing.text import Tokenizer\n",
    "from keras.preprocessing.sequence import pad_sequences"
   ]
  },
  {
   "cell_type": "code",
   "execution_count": 6,
   "id": "499bdcc9-b0e5-4141-916b-0c4f975686b3",
   "metadata": {
    "tags": []
   },
   "outputs": [],
   "source": [
    "df=pd.read_csv('spam.csv', encoding='latin')"
   ]
  },
  {
   "cell_type": "code",
   "execution_count": 3,
   "id": "936edf63-d900-438c-8740-727580a121cc",
   "metadata": {
    "tags": []
   },
   "outputs": [],
   "source": [
    "df['text']=df.v2\n",
    "df['spam']=df.v1\n",
    "df=df.drop(['v1','v2','Unnamed: 2','Unnamed: 3', 'Unnamed: 4'],axis=1)"
   ]
  },
  {
   "cell_type": "code",
   "execution_count": 4,
   "id": "74673ca1-599e-431e-a37f-b70be7146c87",
   "metadata": {
    "tags": []
   },
   "outputs": [
    {
     "data": {
      "text/html": [
       "<div>\n",
       "<style scoped>\n",
       "    .dataframe tbody tr th:only-of-type {\n",
       "        vertical-align: middle;\n",
       "    }\n",
       "\n",
       "    .dataframe tbody tr th {\n",
       "        vertical-align: top;\n",
       "    }\n",
       "\n",
       "    .dataframe thead th {\n",
       "        text-align: right;\n",
       "    }\n",
       "</style>\n",
       "<table border=\"1\" class=\"dataframe\">\n",
       "  <thead>\n",
       "    <tr style=\"text-align: right;\">\n",
       "      <th></th>\n",
       "      <th>text</th>\n",
       "      <th>spam</th>\n",
       "    </tr>\n",
       "  </thead>\n",
       "  <tbody>\n",
       "    <tr>\n",
       "      <th>0</th>\n",
       "      <td>Go until jurong point, crazy.. Available only ...</td>\n",
       "      <td>ham</td>\n",
       "    </tr>\n",
       "    <tr>\n",
       "      <th>1</th>\n",
       "      <td>Ok lar... Joking wif u oni...</td>\n",
       "      <td>ham</td>\n",
       "    </tr>\n",
       "    <tr>\n",
       "      <th>2</th>\n",
       "      <td>Free entry in 2 a wkly comp to win FA Cup fina...</td>\n",
       "      <td>spam</td>\n",
       "    </tr>\n",
       "    <tr>\n",
       "      <th>3</th>\n",
       "      <td>U dun say so early hor... U c already then say...</td>\n",
       "      <td>ham</td>\n",
       "    </tr>\n",
       "    <tr>\n",
       "      <th>4</th>\n",
       "      <td>Nah I don't think he goes to usf, he lives aro...</td>\n",
       "      <td>ham</td>\n",
       "    </tr>\n",
       "  </tbody>\n",
       "</table>\n",
       "</div>"
      ],
      "text/plain": [
       "                                                text  spam\n",
       "0  Go until jurong point, crazy.. Available only ...   ham\n",
       "1                      Ok lar... Joking wif u oni...   ham\n",
       "2  Free entry in 2 a wkly comp to win FA Cup fina...  spam\n",
       "3  U dun say so early hor... U c already then say...   ham\n",
       "4  Nah I don't think he goes to usf, he lives aro...   ham"
      ]
     },
     "execution_count": 4,
     "metadata": {},
     "output_type": "execute_result"
    }
   ],
   "source": [
    "df.head()"
   ]
  },
  {
   "cell_type": "code",
   "execution_count": 5,
   "id": "ea4ece51-3d6e-4e61-b9ac-3b9767d708b8",
   "metadata": {
    "tags": []
   },
   "outputs": [],
   "source": [
    "def spam_or_ham(x):\n",
    "    if(x=='ham'):\n",
    "        return 0\n",
    "    return 1\n",
    "df['spam'] = df['spam'].map(lambda x:spam_or_ham(x))"
   ]
  },
  {
   "cell_type": "code",
   "execution_count": 6,
   "id": "644ed867-8f7c-47a1-8e90-999ee4a2a08c",
   "metadata": {
    "tags": []
   },
   "outputs": [
    {
     "data": {
      "text/html": [
       "<div>\n",
       "<style scoped>\n",
       "    .dataframe tbody tr th:only-of-type {\n",
       "        vertical-align: middle;\n",
       "    }\n",
       "\n",
       "    .dataframe tbody tr th {\n",
       "        vertical-align: top;\n",
       "    }\n",
       "\n",
       "    .dataframe thead th {\n",
       "        text-align: right;\n",
       "    }\n",
       "</style>\n",
       "<table border=\"1\" class=\"dataframe\">\n",
       "  <thead>\n",
       "    <tr style=\"text-align: right;\">\n",
       "      <th></th>\n",
       "      <th>text</th>\n",
       "      <th>spam</th>\n",
       "    </tr>\n",
       "  </thead>\n",
       "  <tbody>\n",
       "    <tr>\n",
       "      <th>0</th>\n",
       "      <td>Go until jurong point, crazy.. Available only ...</td>\n",
       "      <td>0</td>\n",
       "    </tr>\n",
       "    <tr>\n",
       "      <th>1</th>\n",
       "      <td>Ok lar... Joking wif u oni...</td>\n",
       "      <td>0</td>\n",
       "    </tr>\n",
       "    <tr>\n",
       "      <th>2</th>\n",
       "      <td>Free entry in 2 a wkly comp to win FA Cup fina...</td>\n",
       "      <td>1</td>\n",
       "    </tr>\n",
       "    <tr>\n",
       "      <th>3</th>\n",
       "      <td>U dun say so early hor... U c already then say...</td>\n",
       "      <td>0</td>\n",
       "    </tr>\n",
       "    <tr>\n",
       "      <th>4</th>\n",
       "      <td>Nah I don't think he goes to usf, he lives aro...</td>\n",
       "      <td>0</td>\n",
       "    </tr>\n",
       "  </tbody>\n",
       "</table>\n",
       "</div>"
      ],
      "text/plain": [
       "                                                text  spam\n",
       "0  Go until jurong point, crazy.. Available only ...     0\n",
       "1                      Ok lar... Joking wif u oni...     0\n",
       "2  Free entry in 2 a wkly comp to win FA Cup fina...     1\n",
       "3  U dun say so early hor... U c already then say...     0\n",
       "4  Nah I don't think he goes to usf, he lives aro...     0"
      ]
     },
     "execution_count": 6,
     "metadata": {},
     "output_type": "execute_result"
    }
   ],
   "source": [
    "df.head()"
   ]
  },
  {
   "cell_type": "code",
   "execution_count": 7,
   "id": "bfe1e08f-40ec-4ca9-8183-5fdab7286584",
   "metadata": {
    "tags": []
   },
   "outputs": [],
   "source": [
    "lem = WordNetLemmatizer()\n",
    "def preprocessing(data):\n",
    "      sms = contractions.fix(data) # converting shortened words to original (Eg:\"I'm\" to \"I am\")\n",
    "      sms = sms.lower() # lower casing the sms\n",
    "      sms = re.sub(r'https?://S+|www.S+', \"\", sms).strip() #removing url\n",
    "      sms = re.sub(\"[^a-z ]\", \"\", sms) # removing symbols and numbes\n",
    "      sms = sms.split() #splitting\n",
    "      # lemmatization and stopword removal\n",
    "      sms = [lem.lemmatize(word) for word in sms if not word in set(stopwords.words(\"english\"))]\n",
    "      sms = \" \".join(sms)\n",
    "      return sms\n",
    "X = df[\"text\"].apply(preprocessing)"
   ]
  },
  {
   "cell_type": "code",
   "execution_count": 102,
   "id": "caf34fc8-e15f-471c-86f4-2bf597059010",
   "metadata": {
    "tags": []
   },
   "outputs": [
    {
     "data": {
      "text/plain": [
       "<Axes: xlabel='spam', ylabel='count'>"
      ]
     },
     "execution_count": 102,
     "metadata": {},
     "output_type": "execute_result"
    },
    {
     "data": {
      "image/png": "[encoded data removed]",
      "text/plain": [
       "<Figure size 640x480 with 1 Axes>"
      ]
     },
     "metadata": {},
     "output_type": "display_data"
    }
   ],
   "source": [
    "sns.countplot(x=df['spam'])"
   ]
  },
  {
   "cell_type": "code",
   "execution_count": 8,
   "id": "1c1839c7-9891-430a-a129-8dbbac84467e",
   "metadata": {
    "tags": []
   },
   "outputs": [],
   "source": [
    "from sklearn.preprocessing import LabelEncoder\n",
    "lb_enc = LabelEncoder()\n",
    "y = lb_enc.fit_transform(df[\"spam\"])"
   ]
  },
  {
   "cell_type": "code",
   "execution_count": 9,
   "id": "9fb291fb-1f42-4011-b98c-27ff66f6ba91",
   "metadata": {
    "tags": []
   },
   "outputs": [
    {
     "data": {
      "text/plain": [
       "0    go jurong point crazy available bugis n great ...\n",
       "1                                ok lar joking wif oni\n",
       "2    free entry wkly comp win fa cup final tkts st ...\n",
       "3                      dun say early hor c already say\n",
       "4                  nah think go usf life around though\n",
       "Name: text, dtype: object"
      ]
     },
     "execution_count": 9,
     "metadata": {},
     "output_type": "execute_result"
    }
   ],
   "source": [
    "X.head()\n"
   ]
  },
  {
   "cell_type": "code",
   "execution_count": 10,
   "id": "54f37513-5e1b-4c3a-916b-0db11b0078ed",
   "metadata": {
    "tags": []
   },
   "outputs": [
    {
     "data": {
      "text/plain": [
       "array([0, 0, 1, ..., 0, 0, 0])"
      ]
     },
     "execution_count": 10,
     "metadata": {},
     "output_type": "execute_result"
    }
   ],
   "source": [
    "y"
   ]
  },
  {
   "cell_type": "code",
   "execution_count": 11,
   "id": "96bb12ed-eeec-45aa-aeb0-ebdb5cd35758",
   "metadata": {
    "tags": []
   },
   "outputs": [],
   "source": [
    "tokenizer = Tokenizer() #initializing the tokenizer\n",
    "tokenizer.fit_on_texts(X)# fitting on the sms data\n",
    "text_to_sequence = tokenizer.texts_to_sequences(X)"
   ]
  },
  {
   "cell_type": "code",
   "execution_count": 12,
   "id": "31d731c3-6701-4298-a191-a890c0aa14e4",
   "metadata": {
    "tags": []
   },
   "outputs": [
    {
     "name": "stdout",
     "output_type": "stream",
     "text": [
      "Text               :  go jurong point crazy available bugis n great world la e buffet cine got amore wat\n",
      "Numerical Sequence :  [3, 3575, 255, 549, 522, 1028, 35, 56, 236, 845, 80, 2411, 1029, 9, 3576, 70]\n",
      "Text               :  ok lar joking wif oni\n",
      "Numerical Sequence :  [6, 220, 1173, 328, 1539]\n",
      "Text               :  free entry wkly comp win fa cup final tkts st may text fa receive entry questionstd txt ratetcs apply over\n",
      "Numerical Sequence :  [5, 342, 582, 724, 92, 1540, 846, 478, 1541, 147, 175, 17, 1540, 221, 342, 2412, 23, 2413, 263, 2414]\n",
      "Text               :  dun say early hor c already say\n",
      "Numerical Sequence :  [142, 48, 256, 2415, 69, 75, 48]\n",
      "Text               :  nah think go usf life around though\n",
      "Numerical Sequence :  [774, 33, 3, 725, 86, 121, 195]\n"
     ]
    }
   ],
   "source": [
    "for i in range(5):\n",
    "           print(\"Text               : \",X[i] )\n",
    "           print(\"Numerical Sequence : \", text_to_sequence[i])"
   ]
  },
  {
   "cell_type": "code",
   "execution_count": 13,
   "id": "a967f0fb-c003-4890-99ee-672b4a3295cb",
   "metadata": {
    "tags": []
   },
   "outputs": [
    {
     "data": {
      "text/plain": [
       "array([[   0,    0,    0, ...,    9, 3576,   70],\n",
       "       [   0,    0,    0, ..., 1173,  328, 1539],\n",
       "       [   0,    0,    0, ..., 2413,  263, 2414],\n",
       "       ...,\n",
       "       [   0,    0,    0, ..., 1024, 7818, 3573],\n",
       "       [   0,    0,    0, ...,  789,   67,    5],\n",
       "       [   0,    0,    0, ..., 2147,  363,  145]], dtype=int32)"
      ]
     },
     "execution_count": 13,
     "metadata": {},
     "output_type": "execute_result"
    }
   ],
   "source": [
    "max_length_sequence = max([len(i) for i in text_to_sequence])\n",
    " # finding the length of largest sequence\n",
    "padded_sms_sequence = pad_sequences(text_to_sequence, maxlen=max_length_sequence, \n",
    "                                    padding = \"pre\") \n",
    "padded_sms_sequence"
   ]
  },
  {
   "cell_type": "code",
   "execution_count": 14,
   "id": "00fc8c46-58d0-42d3-8712-3e65fdaee7ab",
   "metadata": {
    "tags": []
   },
   "outputs": [],
   "source": [
    "from sklearn.model_selection import train_test_split\n",
    "X_train, X_test, y_train, y_test = train_test_split(\n",
    "    padded_sms_sequence, y, test_size=0.33, random_state=42)"
   ]
  },
  {
   "cell_type": "code",
   "execution_count": 15,
   "id": "84869b7f-3ceb-4e12-8b81-bd9ab5583d39",
   "metadata": {
    "tags": []
   },
   "outputs": [
    {
     "name": "stdout",
     "output_type": "stream",
     "text": [
      "Model: \"sequential\"\n",
      "_________________________________________________________________\n",
      " Layer (type)                Output Shape              Param #   \n",
      "=================================================================\n",
      " embedding (Embedding)       (None, 79, 32)            250240    \n",
      "                                                                 \n",
      " lstm (LSTM)                 (None, 100)               53200     \n",
      "                                                                 \n",
      " dropout (Dropout)           (None, 100)               0         \n",
      "                                                                 \n",
      " dense (Dense)               (None, 20)                2020      \n",
      "                                                                 \n",
      " dropout_1 (Dropout)         (None, 20)                0         \n",
      "                                                                 \n",
      " dense_1 (Dense)             (None, 1)                 21        \n",
      "                                                                 \n",
      "=================================================================\n",
      "Total params: 305481 (1.17 MB)\n",
      "Trainable params: 305481 (1.17 MB)\n",
      "Non-trainable params: 0 (0.00 Byte)\n",
      "_________________________________________________________________\n"
     ]
    }
   ],
   "source": [
    "TOT_SIZE = len(tokenizer.word_index)+1\n",
    "def create_model():\n",
    "    \n",
    "      lstm_model = Sequential()\n",
    "      lstm_model.add(Embedding(TOT_SIZE, 32, input_length=max_length_sequence))\n",
    "      lstm_model.add(LSTM(100))\n",
    "      lstm_model.add(Dropout(0.4))\n",
    "      lstm_model.add(Dense(20, activation=\"relu\"))\n",
    "      lstm_model.add(Dropout(0.3))\n",
    "      lstm_model.add(Dense(1, activation = \"sigmoid\"))\n",
    "      return lstm_model\n",
    "lstm_model = create_model()\n",
    "lstm_model.compile(loss = \"binary_crossentropy\", optimizer = \"adam\", metrics = [\"accuracy\"])\n",
    "lstm_model.summary()"
   ]
  },
  {
   "cell_type": "code",
   "execution_count": 16,
   "id": "dd26bcbb-52bf-452c-8399-843778b9358b",
   "metadata": {
    "tags": []
   },
   "outputs": [
    {
     "name": "stdout",
     "output_type": "stream",
     "text": [
      "Epoch 1/5\n",
      "187/187 [==============================] - 6s 21ms/step - loss: 0.2438 - accuracy: 0.9200 - val_loss: 0.1024 - val_accuracy: 0.9652\n",
      "Epoch 2/5\n",
      "187/187 [==============================] - 4s 20ms/step - loss: 0.0372 - accuracy: 0.9913 - val_loss: 0.0729 - val_accuracy: 0.9772\n",
      "Epoch 3/5\n",
      "187/187 [==============================] - 4s 20ms/step - loss: 0.0111 - accuracy: 0.9977 - val_loss: 0.1053 - val_accuracy: 0.9732\n",
      "Epoch 4/5\n",
      "187/187 [==============================] - 4s 20ms/step - loss: 0.0059 - accuracy: 0.9987 - val_loss: 0.1458 - val_accuracy: 0.9719\n",
      "Epoch 5/5\n",
      "187/187 [==============================] - 4s 20ms/step - loss: 0.0240 - accuracy: 0.9950 - val_loss: 0.0878 - val_accuracy: 0.9759\n"
     ]
    },
    {
     "data": {
      "text/plain": [
       "<keras.src.callbacks.History at 0x7fb59fc47190>"
      ]
     },
     "execution_count": 16,
     "metadata": {},
     "output_type": "execute_result"
    }
   ],
   "source": [
    "lstm_model.fit(X_train, y_train, epochs = 5, validation_split=0.2, batch_size=16)"
   ]
  },
  {
   "cell_type": "code",
   "execution_count": 26,
   "id": "a99adaf3-d357-4e49-ad9e-0b76c105e3b8",
   "metadata": {
    "tags": []
   },
   "outputs": [
    {
     "name": "stdout",
     "output_type": "stream",
     "text": [
      "115/115 [==============================] - 1s 5ms/step\n",
      "(array([0, 1]), array([3207216,    1839]))\n"
     ]
    }
   ],
   "source": [
    "from sklearn.metrics import confusion_matrix,classification_report\n",
    "y_pred = lstm_model.predict(X_test,batch_size =16)\n",
    "\n",
    "from sklearn.preprocessing import MultiLabelBinarizer\n",
    "y_pred= MultiLabelBinarizer().fit_transform(y_pred)\n",
    "print(np.unique(y_pred, return_counts=True))\n",
    "\n",
    "#df_test = pd.DataFrame({'true': y_test, 'pred':y_pred.tolist()})\n",
    "\n",
    "#df_test['true'] = df_test['true'].apply(lambda x: np.argmax(x))\n",
    "#print(\"confusion matrix\",confusion_matrix(df_test.true, df_test.pred))\n",
    "#print(classification_report(df_test.true, df_test.pred))\n"
   ]
  },
  {
   "cell_type": "code",
   "execution_count": 25,
   "id": "b7f26d78-fbf8-4480-8395-07a267e82ac3",
   "metadata": {},
   "outputs": [
    {
     "ename": "NameError",
     "evalue": "name 'DATASET2' is not defined",
     "output_type": "error",
     "traceback": [
      "\u001b[0;31m---------------------------------------------------------------------------\u001b[0m",
      "\u001b[0;31mNameError\u001b[0m                                 Traceback (most recent call last)",
      "Cell \u001b[0;32mIn[25], line 1\u001b[0m\n\u001b[0;32m----> 1\u001b[0m \u001b[43mDATASET2\u001b[49m\n",
      "\u001b[0;31mNameError\u001b[0m: name 'DATASET2' is not defined"
     ]
    }
   ],
   "source": [
    "DATASET2"
   ]
  },
  {
   "cell_type": "code",
   "execution_count": 57,
   "id": "b760182c-50be-40e5-a9d7-0f5e0ffd9900",
   "metadata": {
    "tags": []
   },
   "outputs": [],
   "source": [
    "df2=pd.read_csv('balanced_dataset_training.csv', encoding='latin')\n",
    "df_test=pd.read_csv('balanced_dataset_testing.csv', encoding='latin')"
   ]
  },
  {
   "cell_type": "code",
   "execution_count": 58,
   "id": "cbc08e2d-8def-46eb-bf5a-366b333a8a27",
   "metadata": {
    "tags": []
   },
   "outputs": [
    {
     "data": {
      "text/plain": [
       "Unnamed: 0               0\n",
       "title                    0\n",
       "location                 9\n",
       "department             310\n",
       "salary_range           363\n",
       "company_profile        249\n",
       "description              0\n",
       "requirements            88\n",
       "benefits               179\n",
       "telecommuting            0\n",
       "has_company_logo         0\n",
       "has_questions            0\n",
       "employment_type        132\n",
       "required_experience    189\n",
       "required_education     230\n",
       "industry               162\n",
       "function               177\n",
       "fraudulent               0\n",
       "in_balanced_dataset      0\n",
       "dtype: int64"
      ]
     },
     "execution_count": 58,
     "metadata": {},
     "output_type": "execute_result"
    }
   ],
   "source": [
    "df2.isna().sum()"
   ]
  },
  {
   "cell_type": "code",
   "execution_count": 59,
   "id": "ea017e40-005f-47d5-99c4-ad3978789b13",
   "metadata": {
    "tags": []
   },
   "outputs": [
    {
     "data": {
      "text/plain": [
       "(450, 19)"
      ]
     },
     "execution_count": 59,
     "metadata": {},
     "output_type": "execute_result"
    }
   ],
   "source": [
    "df2.shape"
   ]
  },
  {
   "cell_type": "code",
   "execution_count": 60,
   "id": "4b064c37-c21a-4051-9c42-a49c86c7309d",
   "metadata": {
    "tags": []
   },
   "outputs": [
    {
     "data": {
      "text/html": [
       "<div>\n",
       "<style scoped>\n",
       "    .dataframe tbody tr th:only-of-type {\n",
       "        vertical-align: middle;\n",
       "    }\n",
       "\n",
       "    .dataframe tbody tr th {\n",
       "        vertical-align: top;\n",
       "    }\n",
       "\n",
       "    .dataframe thead th {\n",
       "        text-align: right;\n",
       "    }\n",
       "</style>\n",
       "<table border=\"1\" class=\"dataframe\">\n",
       "  <thead>\n",
       "    <tr style=\"text-align: right;\">\n",
       "      <th></th>\n",
       "      <th>fraudulent</th>\n",
       "      <th>description</th>\n",
       "      <th>scam</th>\n",
       "      <th>text</th>\n",
       "    </tr>\n",
       "  </thead>\n",
       "  <tbody>\n",
       "    <tr>\n",
       "      <th>0</th>\n",
       "      <td>f</td>\n",
       "      <td>&lt;p&gt;We are looking for a mobile application eng...</td>\n",
       "      <td>0</td>\n",
       "      <td>&lt;p&gt;We are looking for a mobile application eng...</td>\n",
       "    </tr>\n",
       "    <tr>\n",
       "      <th>1</th>\n",
       "      <td>f</td>\n",
       "      <td>&lt;p&gt;This fast growing company specialized in da...</td>\n",
       "      <td>0</td>\n",
       "      <td>&lt;p&gt;This fast growing company specialized in da...</td>\n",
       "    </tr>\n",
       "    <tr>\n",
       "      <th>2</th>\n",
       "      <td>t</td>\n",
       "      <td>&lt;p&gt;SUMMARYResponsible for acting as a liaison ...</td>\n",
       "      <td>1</td>\n",
       "      <td>&lt;p&gt;SUMMARYResponsible for acting as a liaison ...</td>\n",
       "    </tr>\n",
       "    <tr>\n",
       "      <th>3</th>\n",
       "      <td>t</td>\n",
       "      <td>&lt;p&gt;ÃÂÃÂ In addition to clerical and adminis...</td>\n",
       "      <td>1</td>\n",
       "      <td>&lt;p&gt;ÃÂÃÂ In addition to clerical and adminis...</td>\n",
       "    </tr>\n",
       "    <tr>\n",
       "      <th>4</th>\n",
       "      <td>f</td>\n",
       "      <td>&lt;p&gt;Are you looking for a career that will chal...</td>\n",
       "      <td>0</td>\n",
       "      <td>&lt;p&gt;Are you looking for a career that will chal...</td>\n",
       "    </tr>\n",
       "  </tbody>\n",
       "</table>\n",
       "</div>"
      ],
      "text/plain": [
       "  fraudulent                                        description  scam  \\\n",
       "0          f  <p>We are looking for a mobile application eng...     0   \n",
       "1          f  <p>This fast growing company specialized in da...     0   \n",
       "2          t  <p>SUMMARYResponsible for acting as a liaison ...     1   \n",
       "3          t  <p>ÃÂÃÂ In addition to clerical and adminis...     1   \n",
       "4          f  <p>Are you looking for a career that will chal...     0   \n",
       "\n",
       "                                                text  \n",
       "0  <p>We are looking for a mobile application eng...  \n",
       "1  <p>This fast growing company specialized in da...  \n",
       "2  <p>SUMMARYResponsible for acting as a liaison ...  \n",
       "3  <p>ÃÂÃÂ In addition to clerical and adminis...  \n",
       "4  <p>Are you looking for a career that will chal...  "
      ]
     },
     "execution_count": 60,
     "metadata": {},
     "output_type": "execute_result"
    }
   ],
   "source": [
    "def fraudulent(x):\n",
    "    if(x=='f'):\n",
    "        return 0\n",
    "    return 1\n",
    "df_OD = df2[['fraudulent', 'description']].copy()\n",
    "df_OD.head()\n",
    "df_OD['scam'] = df2['fraudulent'].map(lambda x:fraudulent(x))\n",
    "df_OD['text']= df2['description'].copy()\n",
    "df_OD.head()"
   ]
  },
  {
   "cell_type": "code",
   "execution_count": 61,
   "id": "47198c2f-b9da-4b57-aa7d-ef4e2953340f",
   "metadata": {
    "tags": []
   },
   "outputs": [
    {
     "data": {
      "text/html": [
       "<div>\n",
       "<style scoped>\n",
       "    .dataframe tbody tr th:only-of-type {\n",
       "        vertical-align: middle;\n",
       "    }\n",
       "\n",
       "    .dataframe tbody tr th {\n",
       "        vertical-align: top;\n",
       "    }\n",
       "\n",
       "    .dataframe thead th {\n",
       "        text-align: right;\n",
       "    }\n",
       "</style>\n",
       "<table border=\"1\" class=\"dataframe\">\n",
       "  <thead>\n",
       "    <tr style=\"text-align: right;\">\n",
       "      <th></th>\n",
       "      <th>scam</th>\n",
       "      <th>text</th>\n",
       "    </tr>\n",
       "  </thead>\n",
       "  <tbody>\n",
       "    <tr>\n",
       "      <th>0</th>\n",
       "      <td>0</td>\n",
       "      <td>&lt;p&gt;We are looking for a mobile application eng...</td>\n",
       "    </tr>\n",
       "    <tr>\n",
       "      <th>1</th>\n",
       "      <td>0</td>\n",
       "      <td>&lt;p&gt;This fast growing company specialized in da...</td>\n",
       "    </tr>\n",
       "    <tr>\n",
       "      <th>2</th>\n",
       "      <td>1</td>\n",
       "      <td>&lt;p&gt;SUMMARYResponsible for acting as a liaison ...</td>\n",
       "    </tr>\n",
       "    <tr>\n",
       "      <th>3</th>\n",
       "      <td>1</td>\n",
       "      <td>&lt;p&gt;ÃÂÃÂ In addition to clerical and adminis...</td>\n",
       "    </tr>\n",
       "    <tr>\n",
       "      <th>4</th>\n",
       "      <td>0</td>\n",
       "      <td>&lt;p&gt;Are you looking for a career that will chal...</td>\n",
       "    </tr>\n",
       "  </tbody>\n",
       "</table>\n",
       "</div>"
      ],
      "text/plain": [
       "   scam                                               text\n",
       "0     0  <p>We are looking for a mobile application eng...\n",
       "1     0  <p>This fast growing company specialized in da...\n",
       "2     1  <p>SUMMARYResponsible for acting as a liaison ...\n",
       "3     1  <p>ÃÂÃÂ In addition to clerical and adminis...\n",
       "4     0  <p>Are you looking for a career that will chal..."
      ]
     },
     "execution_count": 61,
     "metadata": {},
     "output_type": "execute_result"
    }
   ],
   "source": [
    "df_OD=df_OD.drop(['fraudulent', 'description'], axis=1)\n",
    "\n",
    "df_OD.head()\n",
    "    \n"
   ]
  },
  {
   "cell_type": "code",
   "execution_count": 62,
   "id": "885b75fa-8639-414f-929c-a7ebe82f6609",
   "metadata": {
    "tags": []
   },
   "outputs": [],
   "source": [
    "lem = WordNetLemmatizer()\n",
    "def preprocessing(data):\n",
    "      sms = contractions.fix(data) # converting shortened words to original (Eg:\"I'm\" to \"I am\")\n",
    "      sms = sms.lower() # lower casing the sms\n",
    "      sms = re.sub(r'https?://S+|www.S+', \"\", sms).strip() #removing url\n",
    "      sms = re.sub(\"[^a-z ]\", \"\", sms) # removing symbols and numbes\n",
    "      sms = sms.split() #splitting\n",
    "      # lemmatization and stopword removal\n",
    "      sms = [lem.lemmatize(word) for word in sms if not word in set(stopwords.words(\"english\"))]\n",
    "      sms = \" \".join(sms)\n",
    "      return sms\n",
    "X = df_OD[\"text\"].apply(preprocessing)"
   ]
  },
  {
   "cell_type": "code",
   "execution_count": 63,
   "id": "ef29a230-9bbb-48da-9a3f-9d849ffd7ce5",
   "metadata": {
    "tags": []
   },
   "outputs": [
    {
     "data": {
      "text/html": [
       "<div>\n",
       "<style scoped>\n",
       "    .dataframe tbody tr th:only-of-type {\n",
       "        vertical-align: middle;\n",
       "    }\n",
       "\n",
       "    .dataframe tbody tr th {\n",
       "        vertical-align: top;\n",
       "    }\n",
       "\n",
       "    .dataframe thead th {\n",
       "        text-align: right;\n",
       "    }\n",
       "</style>\n",
       "<table border=\"1\" class=\"dataframe\">\n",
       "  <thead>\n",
       "    <tr style=\"text-align: right;\">\n",
       "      <th></th>\n",
       "      <th>scam</th>\n",
       "      <th>text</th>\n",
       "    </tr>\n",
       "  </thead>\n",
       "  <tbody>\n",
       "    <tr>\n",
       "      <th>0</th>\n",
       "      <td>0</td>\n",
       "      <td>&lt;p&gt;We are looking for a mobile application eng...</td>\n",
       "    </tr>\n",
       "    <tr>\n",
       "      <th>1</th>\n",
       "      <td>0</td>\n",
       "      <td>&lt;p&gt;This fast growing company specialized in da...</td>\n",
       "    </tr>\n",
       "    <tr>\n",
       "      <th>2</th>\n",
       "      <td>1</td>\n",
       "      <td>&lt;p&gt;SUMMARYResponsible for acting as a liaison ...</td>\n",
       "    </tr>\n",
       "    <tr>\n",
       "      <th>3</th>\n",
       "      <td>1</td>\n",
       "      <td>&lt;p&gt;ÃÂÃÂ In addition to clerical and adminis...</td>\n",
       "    </tr>\n",
       "    <tr>\n",
       "      <th>4</th>\n",
       "      <td>0</td>\n",
       "      <td>&lt;p&gt;Are you looking for a career that will chal...</td>\n",
       "    </tr>\n",
       "  </tbody>\n",
       "</table>\n",
       "</div>"
      ],
      "text/plain": [
       "   scam                                               text\n",
       "0     0  <p>We are looking for a mobile application eng...\n",
       "1     0  <p>This fast growing company specialized in da...\n",
       "2     1  <p>SUMMARYResponsible for acting as a liaison ...\n",
       "3     1  <p>ÃÂÃÂ In addition to clerical and adminis...\n",
       "4     0  <p>Are you looking for a career that will chal..."
      ]
     },
     "execution_count": 63,
     "metadata": {},
     "output_type": "execute_result"
    }
   ],
   "source": [
    "df_OD.head()\n"
   ]
  },
  {
   "cell_type": "code",
   "execution_count": 64,
   "id": "eec40b25-78f5-4e6b-9dfc-d2159d05b675",
   "metadata": {
    "tags": []
   },
   "outputs": [
    {
     "data": {
      "text/plain": [
       "<Axes: xlabel='scam', ylabel='count'>"
      ]
     },
     "execution_count": 64,
     "metadata": {},
     "output_type": "execute_result"
    },
    {
     "data": {
      "image/png": "[encoded data removed]",
      "text/plain": [
       "<Figure size 640x480 with 1 Axes>"
      ]
     },
     "metadata": {},
     "output_type": "display_data"
    }
   ],
   "source": [
    "sns.countplot(x=df_OD[\"scam\"])"
   ]
  },
  {
   "cell_type": "code",
   "execution_count": 65,
   "id": "ed8be661-6e0e-4bc4-b798-838154e045b1",
   "metadata": {
    "tags": []
   },
   "outputs": [],
   "source": [
    "from sklearn.preprocessing import LabelEncoder\n",
    "lb_enc = LabelEncoder()\n",
    "y = lb_enc.fit_transform(df_OD[\"scam\"])"
   ]
  },
  {
   "cell_type": "code",
   "execution_count": 66,
   "id": "84580329-8059-4a53-8f23-85dca1a88101",
   "metadata": {
    "tags": []
   },
   "outputs": [
    {
     "name": "stdout",
     "output_type": "stream",
     "text": [
      "0      pwe looking mobile application engineer io and...\n",
      "1      pthis fast growing company specialized data an...\n",
      "2      psummaryresponsible acting liaison customer co...\n",
      "3      pin addition clerical administrative duty indi...\n",
      "4      pare looking career challenge allow make impac...\n",
      "                             ...                        \n",
      "445    pprepares source data computer entry compiling...\n",
      "446    pjob descriptionppbrvertex global solution see...\n",
      "447    pbapply using linkbppba hrefurlabecbbbaadffccc...\n",
      "448    pexperienced sale professional onlyppearn plus...\n",
      "449    ullibdo flair customer engagementblilibare int...\n",
      "Name: text, Length: 450, dtype: object\n"
     ]
    }
   ],
   "source": [
    "tokenizer = Tokenizer() #initializing the tokenizer\n",
    "tokenizer.fit_on_texts(X)# fitting on the sms data\n",
    "text_to_sequence = tokenizer.texts_to_sequences(X)\n",
    "print(X)"
   ]
  },
  {
   "cell_type": "code",
   "execution_count": 67,
   "id": "7e8cb25f-8a14-4048-a708-f2921449f145",
   "metadata": {
    "tags": []
   },
   "outputs": [
    {
     "data": {
      "text/plain": [
       "450"
      ]
     },
     "execution_count": 67,
     "metadata": {},
     "output_type": "execute_result"
    }
   ],
   "source": [
    "max_length_sequence = max([len(i) for i in text_to_sequence])\n",
    " # finding the length of largest sequence\n",
    "padded_sms_sequence = pad_sequences(text_to_sequence, maxlen=max_length_sequence, \n",
    "                                    padding = \"pre\") \n",
    "len(padded_sms_sequence)"
   ]
  },
  {
   "cell_type": "code",
   "execution_count": 68,
   "id": "301c8759-cbfc-4494-9a73-f3f9570e2203",
   "metadata": {
    "tags": []
   },
   "outputs": [
    {
     "name": "stdout",
     "output_type": "stream",
     "text": [
      "Model: \"sequential_1\"\n",
      "_________________________________________________________________\n",
      " Layer (type)                Output Shape              Param #   \n",
      "=================================================================\n",
      " embedding_1 (Embedding)     (None, 2479, 32)          289152    \n",
      "                                                                 \n",
      " lstm_1 (LSTM)               (None, 30)                7560      \n",
      "                                                                 \n",
      " dropout_2 (Dropout)         (None, 30)                0         \n",
      "                                                                 \n",
      " dense_2 (Dense)             (None, 20)                620       \n",
      "                                                                 \n",
      " dropout_3 (Dropout)         (None, 20)                0         \n",
      "                                                                 \n",
      " dense_3 (Dense)             (None, 1)                 21        \n",
      "                                                                 \n",
      "=================================================================\n",
      "Total params: 297353 (1.13 MB)\n",
      "Trainable params: 297353 (1.13 MB)\n",
      "Non-trainable params: 0 (0.00 Byte)\n",
      "_________________________________________________________________\n"
     ]
    }
   ],
   "source": [
    "TOT_SIZE = len(tokenizer.word_index)+1\n",
    "def create_model():\n",
    "    \n",
    "      lstm_model = Sequential()\n",
    "      lstm_model.add(Embedding(TOT_SIZE, 32, input_length=max_length_sequence))\n",
    "      lstm_model.add(LSTM(30))\n",
    "      lstm_model.add(Dropout(0.4))\n",
    "      lstm_model.add(Dense(20, activation=\"relu\"))\n",
    "      lstm_model.add(Dropout(0.3))\n",
    "      lstm_model.add(Dense(1, activation = \"sigmoid\"))\n",
    "      return lstm_model\n",
    "lstm_model = create_model()\n",
    "lstm_model.compile(loss = \"mse\", optimizer = \"adam\", metrics = [\"mean_squared_error\"])\n",
    "lstm_model.summary()"
   ]
  },
  {
   "cell_type": "code",
   "execution_count": 69,
   "id": "eda18ef8-c830-4e3c-b211-7d38fd4f9b9c",
   "metadata": {
    "tags": []
   },
   "outputs": [
    {
     "name": "stdout",
     "output_type": "stream",
     "text": [
      "Epoch 1/5\n",
      "23/23 [==============================] - 16s 603ms/step - loss: 0.2499 - mean_squared_error: 0.2499 - val_loss: 0.2486 - val_mean_squared_error: 0.2486\n",
      "Epoch 2/5\n",
      "23/23 [==============================] - 13s 569ms/step - loss: 0.2407 - mean_squared_error: 0.2407 - val_loss: 0.2240 - val_mean_squared_error: 0.2240\n",
      "Epoch 3/5\n",
      "23/23 [==============================] - 13s 582ms/step - loss: 0.1647 - mean_squared_error: 0.1647 - val_loss: 0.1558 - val_mean_squared_error: 0.1558\n",
      "Epoch 4/5\n",
      "23/23 [==============================] - 13s 569ms/step - loss: 0.0936 - mean_squared_error: 0.0936 - val_loss: 0.1227 - val_mean_squared_error: 0.1227\n",
      "Epoch 5/5\n",
      "23/23 [==============================] - 14s 594ms/step - loss: 0.0434 - mean_squared_error: 0.0434 - val_loss: 0.1123 - val_mean_squared_error: 0.1123\n"
     ]
    }
   ],
   "source": [
    "history=lstm_model.fit(padded_sms_sequence, y, epochs = 5, validation_split=0.2, batch_size=16)"
   ]
  },
  {
   "cell_type": "code",
   "execution_count": 70,
   "id": "d0793efa-9f67-4a57-83db-d881f527be85",
   "metadata": {},
   "outputs": [
    {
     "data": {
      "image/png": "[encoded data removed]",
      "text/plain": [
       "<Figure size 1000x600 with 1 Axes>"
      ]
     },
     "metadata": {},
     "output_type": "display_data"
    }
   ],
   "source": [
    "plt.figure(figsize=(10, 6))\n",
    "plt.plot(history.history['mean_squared_error'], label='mse')\n",
    "plt.plot(history.history['loss'], label='loss')\n",
    "plt.legend()\n",
    "plt.show()"
   ]
  },
  {
   "cell_type": "code",
   "execution_count": 71,
   "id": "c985ed13-2fa1-4330-a63d-3102b74c6068",
   "metadata": {
    "tags": []
   },
   "outputs": [
    {
     "data": {
      "text/plain": [
       "array([[   0,    0,    0, ...,  365,  366,  810],\n",
       "       [   0,    0,    0, ...,   33, 1068, 2299],\n",
       "       [   0,    0,    0, ...,  585,  586,  587],\n",
       "       ...,\n",
       "       [   0,    0,    0, ...,  770,  526,  946],\n",
       "       [   0,    0,    0, ...,  956,   50, 3206],\n",
       "       [   0,    0,    0, ...,   10,  235, 8712]], dtype=int32)"
      ]
     },
     "execution_count": 71,
     "metadata": {},
     "output_type": "execute_result"
    }
   ],
   "source": [
    "\n",
    "df_OD_test = df_test[['fraudulent', 'description']].copy()\n",
    "df_OD_test.head()\n",
    "df_OD_test['scam'] = df_test['fraudulent'].map(lambda x:fraudulent(x))\n",
    "df_OD_test['text']= df_test['description'].copy()\n",
    "df_OD_test=df_OD_test.drop(['fraudulent', 'description'], axis=1)\n",
    "\n",
    "X = df_OD_test[\"text\"].apply(preprocessing)\n",
    "\n",
    "tokenizer = Tokenizer() #initializing the tokenizer\n",
    "tokenizer.fit_on_texts(X)# fitting on the sms data\n",
    "text_to_sequence = tokenizer.texts_to_sequences(X)\n",
    "\n",
    "max_length_sequence = max([len(i) for i in text_to_sequence])\n",
    " # finding the length of largest sequence\n",
    "padded_sms_sequence_test = pad_sequences(text_to_sequence, maxlen=max_length_sequence, \n",
    "                                    padding = \"pre\") \n",
    "padded_sms_sequence_test\n"
   ]
  },
  {
   "cell_type": "code",
   "execution_count": 72,
   "id": "1c1a647d-f04a-403a-909c-2d8942f19cc7",
   "metadata": {
    "tags": []
   },
   "outputs": [
    {
     "data": {
      "text/plain": [
       "450"
      ]
     },
     "execution_count": 72,
     "metadata": {},
     "output_type": "execute_result"
    }
   ],
   "source": [
    "len(padded_sms_sequence_test)"
   ]
  },
  {
   "cell_type": "code",
   "execution_count": 56,
   "id": "8522e482-05a8-4b68-9ed7-97cc33f5c9f0",
   "metadata": {},
   "outputs": [
    {
     "ename": "ValueError",
     "evalue": "in user code:\n\n    File \"/Users/kevinha/anaconda3/envs/R/lib/python3.8/site-packages/keras/src/engine/training.py\", line 2341, in predict_function  *\n        return step_function(self, iterator)\n    File \"/Users/kevinha/anaconda3/envs/R/lib/python3.8/site-packages/keras/src/engine/training.py\", line 2327, in step_function  **\n        outputs = model.distribute_strategy.run(run_step, args=(data,))\n    File \"/Users/kevinha/anaconda3/envs/R/lib/python3.8/site-packages/keras/src/engine/training.py\", line 2315, in run_step  **\n        outputs = model.predict_step(data)\n    File \"/Users/kevinha/anaconda3/envs/R/lib/python3.8/site-packages/keras/src/engine/training.py\", line 2283, in predict_step\n        return self(x, training=False)\n    File \"/Users/kevinha/anaconda3/envs/R/lib/python3.8/site-packages/keras/src/utils/traceback_utils.py\", line 70, in error_handler\n        raise e.with_traceback(filtered_tb) from None\n    File \"/Users/kevinha/anaconda3/envs/R/lib/python3.8/site-packages/keras/src/engine/input_spec.py\", line 298, in assert_input_compatibility\n        raise ValueError(\n\n    ValueError: Input 0 of layer \"sequential\" is incompatible with the layer: expected shape=(None, 2479), found shape=(None, 2368)\n",
     "output_type": "error",
     "traceback": [
      "\u001b[0;31m---------------------------------------------------------------------------\u001b[0m",
      "\u001b[0;31mValueError\u001b[0m                                Traceback (most recent call last)",
      "Cell \u001b[0;32mIn[56], line 1\u001b[0m\n\u001b[0;32m----> 1\u001b[0m pred \u001b[38;5;241m=\u001b[39m \u001b[43mlstm_model\u001b[49m\u001b[38;5;241;43m.\u001b[39;49m\u001b[43mpredict\u001b[49m\u001b[43m(\u001b[49m\u001b[43mpadded_sms_sequence_test\u001b[49m\u001b[43m)\u001b[49m\n\u001b[1;32m      2\u001b[0m y_pred\u001b[38;5;241m=\u001b[39m[]\n\u001b[1;32m      3\u001b[0m \u001b[38;5;28;01mfor\u001b[39;00m i \u001b[38;5;129;01min\u001b[39;00m \u001b[38;5;28mrange\u001b[39m(\u001b[38;5;241m0\u001b[39m,pred\u001b[38;5;241m.\u001b[39msize):\n",
      "File \u001b[0;32m~/anaconda3/envs/R/lib/python3.8/site-packages/keras/src/utils/traceback_utils.py:70\u001b[0m, in \u001b[0;36mfilter_traceback.<locals>.error_handler\u001b[0;34m(*args, **kwargs)\u001b[0m\n\u001b[1;32m     67\u001b[0m     filtered_tb \u001b[38;5;241m=\u001b[39m _process_traceback_frames(e\u001b[38;5;241m.\u001b[39m__traceback__)\n\u001b[1;32m     68\u001b[0m     \u001b[38;5;66;03m# To get the full stack trace, call:\u001b[39;00m\n\u001b[1;32m     69\u001b[0m     \u001b[38;5;66;03m# `tf.debugging.disable_traceback_filtering()`\u001b[39;00m\n\u001b[0;32m---> 70\u001b[0m     \u001b[38;5;28;01mraise\u001b[39;00m e\u001b[38;5;241m.\u001b[39mwith_traceback(filtered_tb) \u001b[38;5;28;01mfrom\u001b[39;00m \u001b[38;5;28;01mNone\u001b[39;00m\n\u001b[1;32m     71\u001b[0m \u001b[38;5;28;01mfinally\u001b[39;00m:\n\u001b[1;32m     72\u001b[0m     \u001b[38;5;28;01mdel\u001b[39;00m filtered_tb\n",
      "File \u001b[0;32m/var/folders/fd/c30byq417d3dh1ystdk504100000gp/T/__autograph_generated_file2djziovr.py:15\u001b[0m, in \u001b[0;36mouter_factory.<locals>.inner_factory.<locals>.tf__predict_function\u001b[0;34m(iterator)\u001b[0m\n\u001b[1;32m     13\u001b[0m \u001b[38;5;28;01mtry\u001b[39;00m:\n\u001b[1;32m     14\u001b[0m     do_return \u001b[38;5;241m=\u001b[39m \u001b[38;5;28;01mTrue\u001b[39;00m\n\u001b[0;32m---> 15\u001b[0m     retval_ \u001b[38;5;241m=\u001b[39m ag__\u001b[38;5;241m.\u001b[39mconverted_call(ag__\u001b[38;5;241m.\u001b[39mld(step_function), (ag__\u001b[38;5;241m.\u001b[39mld(\u001b[38;5;28mself\u001b[39m), ag__\u001b[38;5;241m.\u001b[39mld(iterator)), \u001b[38;5;28;01mNone\u001b[39;00m, fscope)\n\u001b[1;32m     16\u001b[0m \u001b[38;5;28;01mexcept\u001b[39;00m:\n\u001b[1;32m     17\u001b[0m     do_return \u001b[38;5;241m=\u001b[39m \u001b[38;5;28;01mFalse\u001b[39;00m\n",
      "\u001b[0;31mValueError\u001b[0m: in user code:\n\n    File \"/Users/kevinha/anaconda3/envs/R/lib/python3.8/site-packages/keras/src/engine/training.py\", line 2341, in predict_function  *\n        return step_function(self, iterator)\n    File \"/Users/kevinha/anaconda3/envs/R/lib/python3.8/site-packages/keras/src/engine/training.py\", line 2327, in step_function  **\n        outputs = model.distribute_strategy.run(run_step, args=(data,))\n    File \"/Users/kevinha/anaconda3/envs/R/lib/python3.8/site-packages/keras/src/engine/training.py\", line 2315, in run_step  **\n        outputs = model.predict_step(data)\n    File \"/Users/kevinha/anaconda3/envs/R/lib/python3.8/site-packages/keras/src/engine/training.py\", line 2283, in predict_step\n        return self(x, training=False)\n    File \"/Users/kevinha/anaconda3/envs/R/lib/python3.8/site-packages/keras/src/utils/traceback_utils.py\", line 70, in error_handler\n        raise e.with_traceback(filtered_tb) from None\n    File \"/Users/kevinha/anaconda3/envs/R/lib/python3.8/site-packages/keras/src/engine/input_spec.py\", line 298, in assert_input_compatibility\n        raise ValueError(\n\n    ValueError: Input 0 of layer \"sequential\" is incompatible with the layer: expected shape=(None, 2479), found shape=(None, 2368)\n"
     ]
    }
   ],
   "source": [
    "pred = lstm_model.predict(padded_sms_sequence_test)\n",
    "y_pred=[]\n",
    "for i in range(0,pred.size):\n",
    "    if pred[i][0] >0.95:\n",
    "        y_pred.append(1)\n",
    "    else:\n",
    "        y_pred.append(0)\n",
    "from sklearn.metrics import confusion_matrix\n",
    "confusion_matrix(y_test, y_pred)"
   ]
  },
  {
   "cell_type": "code",
   "execution_count": 133,
   "id": "9fe57dc8-5a3a-4214-9b12-8ade6931b7c3",
   "metadata": {
    "tags": []
   },
   "outputs": [
    {
     "data": {
      "text/plain": [
       "450"
      ]
     },
     "execution_count": 133,
     "metadata": {},
     "output_type": "execute_result"
    }
   ],
   "source": [
    "len(y_pred)"
   ]
  },
  {
   "cell_type": "code",
   "execution_count": 143,
   "id": "43a0203b-6c25-4bb0-9a65-0dfd45739a33",
   "metadata": {},
   "outputs": [
    {
     "name": "stdout",
     "output_type": "stream",
     "text": [
      "29/29 [==============================] - 3s 99ms/step\n"
     ]
    },
    {
     "data": {
      "text/plain": [
       "array([[412,  38],\n",
       "       [ 53, 397]])"
      ]
     },
     "execution_count": 143,
     "metadata": {},
     "output_type": "execute_result"
    }
   ],
   "source": [
    "pred = lstm_model.predict(padded_sms_sequence)\n",
    "y_pred=[]\n",
    "for i in range(0,pred.size):\n",
    "    if pred[i][0] >0.95:\n",
    "        y_pred.append(1)\n",
    "    else:\n",
    "        y_pred.append(0)\n",
    "from sklearn.metrics import confusion_matrix\n",
    "confusion_matrix(y, y_pred)"
   ]
  },
  {
   "cell_type": "code",
   "execution_count": null,
   "id": "49ab41a5-1ef8-4d6f-a274-34f21a866918",
   "metadata": {},
   "outputs": [],
   "source": []
  }
 ],
 "metadata": {
  "kernelspec": {
   "display_name": "Python 3 (ipykernel)",
   "language": "python",
   "name": "python3"
  },
  "language_info": {
   "codemirror_mode": {
    "name": "ipython",
    "version": 3
   },
   "file_extension": ".py",
   "mimetype": "text/x-python",
   "name": "python",
   "nbconvert_exporter": "python",
   "pygments_lexer": "ipython3",
   "version": "3.8.2"
  }
 },
 "nbformat": 4,
 "nbformat_minor": 5
}
